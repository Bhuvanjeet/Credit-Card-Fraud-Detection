{
  "nbformat": 4,
  "nbformat_minor": 0,
  "metadata": {
    "colab": {
      "name": "card_fraud.ipynb",
      "provenance": [],
      "collapsed_sections": [],
      "authorship_tag": "ABX9TyMUbpj3zo3rsr1Sz1p/VKsd",
      "include_colab_link": true
    },
    "kernelspec": {
      "name": "python3",
      "display_name": "Python 3"
    },
    "accelerator": "GPU"
  },
  "cells": [
    {
      "cell_type": "markdown",
      "metadata": {
        "id": "view-in-github",
        "colab_type": "text"
      },
      "source": [
        "<a href=\"https://colab.research.google.com/github/Bhuvanjeet/Credit-Card-Fraud-Detection/blob/master/card_fraud.ipynb\" target=\"_parent\"><img src=\"https://colab.research.google.com/assets/colab-badge.svg\" alt=\"Open In Colab\"/></a>"
      ]
    },
    {
      "cell_type": "markdown",
      "metadata": {
        "id": "766FqUzsS7bH",
        "colab_type": "text"
      },
      "source": [
        "**Credit Card Fraud Detection**\n",
        "\n",
        "It is important that credit card companies are able to recognize fraudulent credit card transactions so that customers are not charged for items that they did not purchase.\n",
        "\n",
        "The datasets contains transactions made by credit cards in September 2013 by european cardholders.\n",
        "This dataset presents transactions that occurred in two days, where we have 492 frauds out of 284,807 transactions. The dataset is **highly unbalanced**, the positive class (frauds) account for 0.172% of all transactions.\n",
        "\n",
        "It contains only numerical input variables which are the result of a PCA transformation. Unfortunately, due to confidentiality issues, we cannot provide the original features and more background information about the data. Features V1, V2, … V28 are the principal components obtained with PCA, the only features which have not been transformed with PCA are 'Time' and 'Amount'. Feature 'Time' contains the seconds elapsed between each transaction and the first transaction in the dataset. The feature 'Amount' is the transaction Amount, this feature can be used for example-dependant cost-senstive learning. Feature 'Class' is the response variable and it takes value 1 in case of fraud and 0 otherwise.\n",
        "\n",
        "To Identify: - Fraudulent credit card transactions.\n",
        "\n",
        "Source:- https://www.kaggle.com/mlg-ulb/creditcardfraud\n",
        "\n",
        "**Project Overview :**\n",
        "\n",
        "**1- Exploratory Data Analysis - EDA**\n",
        "\n",
        "**2- Data Visualization**\n",
        "\n",
        "**3- Outliers Detection**\n",
        "\n",
        "**4- Data Pre-processing and Decomposition**\n",
        "\n",
        "\n",
        "Logistic Regression on original data\n",
        "\n",
        "Resampling\n",
        "\n",
        "\n",
        "**5- Undersampling - TomekLinks**\n",
        "\n",
        "\n",
        "Logistic Regression on undersampled data\n",
        "\n",
        "\n",
        "**6- Oversampling - SMOTE (Synthetic Minority Over-sampling Technique)**\n",
        "\n",
        "\n",
        "Logisitc Regression on oversampled data\n",
        "\n",
        "\n",
        "Using different Machine Learning Algorithms on Undersampled data:\n",
        "\n",
        "\n",
        "**7- K Nearest Neighbors (KNN) Classifier**\n",
        "\n",
        "\n",
        "**8- Random Forest Classifier**\n",
        "\n",
        "\n",
        "**9- Naive Bayes Classifier**\n",
        "\n",
        "\n",
        "**10- Support Vector Machine (SVM)**\n",
        "\n",
        "\n",
        "**11- Results and Comparison**\n",
        "\n"
      ]
    },
    {
      "cell_type": "markdown",
      "metadata": {
        "id": "LcAgFguuJjgu",
        "colab_type": "text"
      },
      "source": [
        "**Exploratory Data Analysis - EDA**"
      ]
    },
    {
      "cell_type": "code",
      "metadata": {
        "id": "8C3pD-aWJyDF",
        "colab_type": "code",
        "colab": {}
      },
      "source": [
        "import pandas as pd\n",
        "import pandas.testing as tm\n",
        "import numpy as np\n",
        "import matplotlib.pyplot as plt\n",
        "import seaborn as sns\n",
        "import statsmodels.api as sm\n",
        "%matplotlib inline"
      ],
      "execution_count": 0,
      "outputs": []
    },
    {
      "cell_type": "code",
      "metadata": {
        "id": "cZjA9dLKRsBb",
        "colab_type": "code",
        "colab": {}
      },
      "source": [
        "from pydrive.auth import GoogleAuth\n",
        "from pydrive.drive import GoogleDrive\n",
        "from google.colab import auth\n",
        "from oauth2client.client import GoogleCredentials\n",
        "# Authenticate and create the PyDrive client.\n",
        "auth.authenticate_user()\n",
        "gauth = GoogleAuth()\n",
        "gauth.credentials = GoogleCredentials.get_application_default()\n",
        "drive = GoogleDrive(gauth)"
      ],
      "execution_count": 0,
      "outputs": []
    },
    {
      "cell_type": "code",
      "metadata": {
        "id": "cTmEpZbkR8Sj",
        "colab_type": "code",
        "colab": {}
      },
      "source": [
        "link='https://drive.google.com/open?id=1YyM8W6_oS_gJ0-m35LERdg_lZg_HWK1F'"
      ],
      "execution_count": 0,
      "outputs": []
    },
    {
      "cell_type": "code",
      "metadata": {
        "id": "NCuEpPrNSdkj",
        "colab_type": "code",
        "outputId": "a638052c-5e5d-4e11-a861-5d61f22b46c6",
        "colab": {
          "base_uri": "https://localhost:8080/",
          "height": 34
        }
      },
      "source": [
        "fluff, id = link.split('=')\n",
        "print (id) # Verify that you have everything after '='"
      ],
      "execution_count": 12,
      "outputs": [
        {
          "output_type": "stream",
          "text": [
            "1YyM8W6_oS_gJ0-m35LERdg_lZg_HWK1F\n"
          ],
          "name": "stdout"
        }
      ]
    },
    {
      "cell_type": "code",
      "metadata": {
        "id": "vs7WqYZmSfeY",
        "colab_type": "code",
        "colab": {}
      },
      "source": [
        "downloaded = drive.CreateFile({'id':id})\n",
        "downloaded.GetContentFile('creditcard.csv')"
      ],
      "execution_count": 0,
      "outputs": []
    },
    {
      "cell_type": "code",
      "metadata": {
        "id": "Ag79obqKSi1L",
        "colab_type": "code",
        "colab": {}
      },
      "source": [
        "df=pd.read_csv('creditcard.csv')"
      ],
      "execution_count": 0,
      "outputs": []
    },
    {
      "cell_type": "code",
      "metadata": {
        "id": "oNeU1J0RSodq",
        "colab_type": "code",
        "outputId": "dc0e5303-7ce5-4068-c853-86f7d6863023",
        "colab": {
          "base_uri": "https://localhost:8080/",
          "height": 215
        }
      },
      "source": [
        "df.head()"
      ],
      "execution_count": 15,
      "outputs": [
        {
          "output_type": "execute_result",
          "data": {
            "text/html": [
              "<div>\n",
              "<style scoped>\n",
              "    .dataframe tbody tr th:only-of-type {\n",
              "        vertical-align: middle;\n",
              "    }\n",
              "\n",
              "    .dataframe tbody tr th {\n",
              "        vertical-align: top;\n",
              "    }\n",
              "\n",
              "    .dataframe thead th {\n",
              "        text-align: right;\n",
              "    }\n",
              "</style>\n",
              "<table border=\"1\" class=\"dataframe\">\n",
              "  <thead>\n",
              "    <tr style=\"text-align: right;\">\n",
              "      <th></th>\n",
              "      <th>Time</th>\n",
              "      <th>V1</th>\n",
              "      <th>V2</th>\n",
              "      <th>V3</th>\n",
              "      <th>V4</th>\n",
              "      <th>V5</th>\n",
              "      <th>V6</th>\n",
              "      <th>V7</th>\n",
              "      <th>V8</th>\n",
              "      <th>V9</th>\n",
              "      <th>V10</th>\n",
              "      <th>V11</th>\n",
              "      <th>V12</th>\n",
              "      <th>V13</th>\n",
              "      <th>V14</th>\n",
              "      <th>V15</th>\n",
              "      <th>V16</th>\n",
              "      <th>V17</th>\n",
              "      <th>V18</th>\n",
              "      <th>V19</th>\n",
              "      <th>V20</th>\n",
              "      <th>V21</th>\n",
              "      <th>V22</th>\n",
              "      <th>V23</th>\n",
              "      <th>V24</th>\n",
              "      <th>V25</th>\n",
              "      <th>V26</th>\n",
              "      <th>V27</th>\n",
              "      <th>V28</th>\n",
              "      <th>Amount</th>\n",
              "      <th>Class</th>\n",
              "    </tr>\n",
              "  </thead>\n",
              "  <tbody>\n",
              "    <tr>\n",
              "      <th>0</th>\n",
              "      <td>0.0</td>\n",
              "      <td>-1.359807</td>\n",
              "      <td>-0.072781</td>\n",
              "      <td>2.536347</td>\n",
              "      <td>1.378155</td>\n",
              "      <td>-0.338321</td>\n",
              "      <td>0.462388</td>\n",
              "      <td>0.239599</td>\n",
              "      <td>0.098698</td>\n",
              "      <td>0.363787</td>\n",
              "      <td>0.090794</td>\n",
              "      <td>-0.551600</td>\n",
              "      <td>-0.617801</td>\n",
              "      <td>-0.991390</td>\n",
              "      <td>-0.311169</td>\n",
              "      <td>1.468177</td>\n",
              "      <td>-0.470401</td>\n",
              "      <td>0.207971</td>\n",
              "      <td>0.025791</td>\n",
              "      <td>0.403993</td>\n",
              "      <td>0.251412</td>\n",
              "      <td>-0.018307</td>\n",
              "      <td>0.277838</td>\n",
              "      <td>-0.110474</td>\n",
              "      <td>0.066928</td>\n",
              "      <td>0.128539</td>\n",
              "      <td>-0.189115</td>\n",
              "      <td>0.133558</td>\n",
              "      <td>-0.021053</td>\n",
              "      <td>149.62</td>\n",
              "      <td>0</td>\n",
              "    </tr>\n",
              "    <tr>\n",
              "      <th>1</th>\n",
              "      <td>0.0</td>\n",
              "      <td>1.191857</td>\n",
              "      <td>0.266151</td>\n",
              "      <td>0.166480</td>\n",
              "      <td>0.448154</td>\n",
              "      <td>0.060018</td>\n",
              "      <td>-0.082361</td>\n",
              "      <td>-0.078803</td>\n",
              "      <td>0.085102</td>\n",
              "      <td>-0.255425</td>\n",
              "      <td>-0.166974</td>\n",
              "      <td>1.612727</td>\n",
              "      <td>1.065235</td>\n",
              "      <td>0.489095</td>\n",
              "      <td>-0.143772</td>\n",
              "      <td>0.635558</td>\n",
              "      <td>0.463917</td>\n",
              "      <td>-0.114805</td>\n",
              "      <td>-0.183361</td>\n",
              "      <td>-0.145783</td>\n",
              "      <td>-0.069083</td>\n",
              "      <td>-0.225775</td>\n",
              "      <td>-0.638672</td>\n",
              "      <td>0.101288</td>\n",
              "      <td>-0.339846</td>\n",
              "      <td>0.167170</td>\n",
              "      <td>0.125895</td>\n",
              "      <td>-0.008983</td>\n",
              "      <td>0.014724</td>\n",
              "      <td>2.69</td>\n",
              "      <td>0</td>\n",
              "    </tr>\n",
              "    <tr>\n",
              "      <th>2</th>\n",
              "      <td>1.0</td>\n",
              "      <td>-1.358354</td>\n",
              "      <td>-1.340163</td>\n",
              "      <td>1.773209</td>\n",
              "      <td>0.379780</td>\n",
              "      <td>-0.503198</td>\n",
              "      <td>1.800499</td>\n",
              "      <td>0.791461</td>\n",
              "      <td>0.247676</td>\n",
              "      <td>-1.514654</td>\n",
              "      <td>0.207643</td>\n",
              "      <td>0.624501</td>\n",
              "      <td>0.066084</td>\n",
              "      <td>0.717293</td>\n",
              "      <td>-0.165946</td>\n",
              "      <td>2.345865</td>\n",
              "      <td>-2.890083</td>\n",
              "      <td>1.109969</td>\n",
              "      <td>-0.121359</td>\n",
              "      <td>-2.261857</td>\n",
              "      <td>0.524980</td>\n",
              "      <td>0.247998</td>\n",
              "      <td>0.771679</td>\n",
              "      <td>0.909412</td>\n",
              "      <td>-0.689281</td>\n",
              "      <td>-0.327642</td>\n",
              "      <td>-0.139097</td>\n",
              "      <td>-0.055353</td>\n",
              "      <td>-0.059752</td>\n",
              "      <td>378.66</td>\n",
              "      <td>0</td>\n",
              "    </tr>\n",
              "    <tr>\n",
              "      <th>3</th>\n",
              "      <td>1.0</td>\n",
              "      <td>-0.966272</td>\n",
              "      <td>-0.185226</td>\n",
              "      <td>1.792993</td>\n",
              "      <td>-0.863291</td>\n",
              "      <td>-0.010309</td>\n",
              "      <td>1.247203</td>\n",
              "      <td>0.237609</td>\n",
              "      <td>0.377436</td>\n",
              "      <td>-1.387024</td>\n",
              "      <td>-0.054952</td>\n",
              "      <td>-0.226487</td>\n",
              "      <td>0.178228</td>\n",
              "      <td>0.507757</td>\n",
              "      <td>-0.287924</td>\n",
              "      <td>-0.631418</td>\n",
              "      <td>-1.059647</td>\n",
              "      <td>-0.684093</td>\n",
              "      <td>1.965775</td>\n",
              "      <td>-1.232622</td>\n",
              "      <td>-0.208038</td>\n",
              "      <td>-0.108300</td>\n",
              "      <td>0.005274</td>\n",
              "      <td>-0.190321</td>\n",
              "      <td>-1.175575</td>\n",
              "      <td>0.647376</td>\n",
              "      <td>-0.221929</td>\n",
              "      <td>0.062723</td>\n",
              "      <td>0.061458</td>\n",
              "      <td>123.50</td>\n",
              "      <td>0</td>\n",
              "    </tr>\n",
              "    <tr>\n",
              "      <th>4</th>\n",
              "      <td>2.0</td>\n",
              "      <td>-1.158233</td>\n",
              "      <td>0.877737</td>\n",
              "      <td>1.548718</td>\n",
              "      <td>0.403034</td>\n",
              "      <td>-0.407193</td>\n",
              "      <td>0.095921</td>\n",
              "      <td>0.592941</td>\n",
              "      <td>-0.270533</td>\n",
              "      <td>0.817739</td>\n",
              "      <td>0.753074</td>\n",
              "      <td>-0.822843</td>\n",
              "      <td>0.538196</td>\n",
              "      <td>1.345852</td>\n",
              "      <td>-1.119670</td>\n",
              "      <td>0.175121</td>\n",
              "      <td>-0.451449</td>\n",
              "      <td>-0.237033</td>\n",
              "      <td>-0.038195</td>\n",
              "      <td>0.803487</td>\n",
              "      <td>0.408542</td>\n",
              "      <td>-0.009431</td>\n",
              "      <td>0.798278</td>\n",
              "      <td>-0.137458</td>\n",
              "      <td>0.141267</td>\n",
              "      <td>-0.206010</td>\n",
              "      <td>0.502292</td>\n",
              "      <td>0.219422</td>\n",
              "      <td>0.215153</td>\n",
              "      <td>69.99</td>\n",
              "      <td>0</td>\n",
              "    </tr>\n",
              "  </tbody>\n",
              "</table>\n",
              "</div>"
            ],
            "text/plain": [
              "   Time        V1        V2        V3  ...       V27       V28  Amount  Class\n",
              "0   0.0 -1.359807 -0.072781  2.536347  ...  0.133558 -0.021053  149.62      0\n",
              "1   0.0  1.191857  0.266151  0.166480  ... -0.008983  0.014724    2.69      0\n",
              "2   1.0 -1.358354 -1.340163  1.773209  ... -0.055353 -0.059752  378.66      0\n",
              "3   1.0 -0.966272 -0.185226  1.792993  ...  0.062723  0.061458  123.50      0\n",
              "4   2.0 -1.158233  0.877737  1.548718  ...  0.219422  0.215153   69.99      0\n",
              "\n",
              "[5 rows x 31 columns]"
            ]
          },
          "metadata": {
            "tags": []
          },
          "execution_count": 15
        }
      ]
    },
    {
      "cell_type": "code",
      "metadata": {
        "id": "2W_-j3877PrQ",
        "colab_type": "code",
        "outputId": "e27ab5cb-9277-401f-fe05-6383234615d3",
        "colab": {
          "base_uri": "https://localhost:8080/",
          "height": 655
        }
      },
      "source": [
        "df.info()"
      ],
      "execution_count": 16,
      "outputs": [
        {
          "output_type": "stream",
          "text": [
            "<class 'pandas.core.frame.DataFrame'>\n",
            "RangeIndex: 284807 entries, 0 to 284806\n",
            "Data columns (total 31 columns):\n",
            " #   Column  Non-Null Count   Dtype  \n",
            "---  ------  --------------   -----  \n",
            " 0   Time    284807 non-null  float64\n",
            " 1   V1      284807 non-null  float64\n",
            " 2   V2      284807 non-null  float64\n",
            " 3   V3      284807 non-null  float64\n",
            " 4   V4      284807 non-null  float64\n",
            " 5   V5      284807 non-null  float64\n",
            " 6   V6      284807 non-null  float64\n",
            " 7   V7      284807 non-null  float64\n",
            " 8   V8      284807 non-null  float64\n",
            " 9   V9      284807 non-null  float64\n",
            " 10  V10     284807 non-null  float64\n",
            " 11  V11     284807 non-null  float64\n",
            " 12  V12     284807 non-null  float64\n",
            " 13  V13     284807 non-null  float64\n",
            " 14  V14     284807 non-null  float64\n",
            " 15  V15     284807 non-null  float64\n",
            " 16  V16     284807 non-null  float64\n",
            " 17  V17     284807 non-null  float64\n",
            " 18  V18     284807 non-null  float64\n",
            " 19  V19     284807 non-null  float64\n",
            " 20  V20     284807 non-null  float64\n",
            " 21  V21     284807 non-null  float64\n",
            " 22  V22     284807 non-null  float64\n",
            " 23  V23     284807 non-null  float64\n",
            " 24  V24     284807 non-null  float64\n",
            " 25  V25     284807 non-null  float64\n",
            " 26  V26     284807 non-null  float64\n",
            " 27  V27     284807 non-null  float64\n",
            " 28  V28     284807 non-null  float64\n",
            " 29  Amount  284807 non-null  float64\n",
            " 30  Class   284807 non-null  int64  \n",
            "dtypes: float64(30), int64(1)\n",
            "memory usage: 67.4 MB\n"
          ],
          "name": "stdout"
        }
      ]
    },
    {
      "cell_type": "code",
      "metadata": {
        "id": "BVEG1qe4S4og",
        "colab_type": "code",
        "outputId": "2cdc5a5a-ccde-42a2-a724-25501000aa43",
        "colab": {
          "base_uri": "https://localhost:8080/",
          "height": 554
        }
      },
      "source": [
        "df.isnull().sum()"
      ],
      "execution_count": 17,
      "outputs": [
        {
          "output_type": "execute_result",
          "data": {
            "text/plain": [
              "Time      0\n",
              "V1        0\n",
              "V2        0\n",
              "V3        0\n",
              "V4        0\n",
              "V5        0\n",
              "V6        0\n",
              "V7        0\n",
              "V8        0\n",
              "V9        0\n",
              "V10       0\n",
              "V11       0\n",
              "V12       0\n",
              "V13       0\n",
              "V14       0\n",
              "V15       0\n",
              "V16       0\n",
              "V17       0\n",
              "V18       0\n",
              "V19       0\n",
              "V20       0\n",
              "V21       0\n",
              "V22       0\n",
              "V23       0\n",
              "V24       0\n",
              "V25       0\n",
              "V26       0\n",
              "V27       0\n",
              "V28       0\n",
              "Amount    0\n",
              "Class     0\n",
              "dtype: int64"
            ]
          },
          "metadata": {
            "tags": []
          },
          "execution_count": 17
        }
      ]
    },
    {
      "cell_type": "code",
      "metadata": {
        "id": "uRC3xZdi7KLF",
        "colab_type": "code",
        "outputId": "ff1f8231-03d7-453f-be41-fc6b8974ca4a",
        "colab": {
          "base_uri": "https://localhost:8080/",
          "height": 34
        }
      },
      "source": [
        "df['Class'].unique()"
      ],
      "execution_count": 18,
      "outputs": [
        {
          "output_type": "execute_result",
          "data": {
            "text/plain": [
              "array([0, 1])"
            ]
          },
          "metadata": {
            "tags": []
          },
          "execution_count": 18
        }
      ]
    },
    {
      "cell_type": "code",
      "metadata": {
        "id": "YdVJFDVl7i5u",
        "colab_type": "code",
        "outputId": "57b2cdb5-33b8-4f03-ff9c-f0f51291c25f",
        "colab": {
          "base_uri": "https://localhost:8080/",
          "height": 34
        }
      },
      "source": [
        "sum(df.duplicated())"
      ],
      "execution_count": 19,
      "outputs": [
        {
          "output_type": "execute_result",
          "data": {
            "text/plain": [
              "1081"
            ]
          },
          "metadata": {
            "tags": []
          },
          "execution_count": 19
        }
      ]
    },
    {
      "cell_type": "code",
      "metadata": {
        "id": "SiqKeomM780j",
        "colab_type": "code",
        "colab": {}
      },
      "source": [
        "df.drop_duplicates(inplace=True)"
      ],
      "execution_count": 0,
      "outputs": []
    },
    {
      "cell_type": "code",
      "metadata": {
        "id": "zUOJOCtr789E",
        "colab_type": "code",
        "outputId": "b54119ff-c5b2-4290-e8b5-d4ed5ab3b787",
        "colab": {
          "base_uri": "https://localhost:8080/",
          "height": 34
        }
      },
      "source": [
        "sum(df.duplicated())"
      ],
      "execution_count": 21,
      "outputs": [
        {
          "output_type": "execute_result",
          "data": {
            "text/plain": [
              "0"
            ]
          },
          "metadata": {
            "tags": []
          },
          "execution_count": 21
        }
      ]
    },
    {
      "cell_type": "code",
      "metadata": {
        "id": "aN3y4tpg79DP",
        "colab_type": "code",
        "outputId": "1872b94d-c978-4685-8174-db7b2eb32e13",
        "colab": {
          "base_uri": "https://localhost:8080/",
          "height": 34
        }
      },
      "source": [
        "df.shape"
      ],
      "execution_count": 22,
      "outputs": [
        {
          "output_type": "execute_result",
          "data": {
            "text/plain": [
              "(283726, 31)"
            ]
          },
          "metadata": {
            "tags": []
          },
          "execution_count": 22
        }
      ]
    },
    {
      "cell_type": "code",
      "metadata": {
        "id": "RSZPXl7B79I_",
        "colab_type": "code",
        "outputId": "5a3b308b-78d4-4e87-a4bc-d5ae7a1828a8",
        "colab": {
          "base_uri": "https://localhost:8080/",
          "height": 965
        }
      },
      "source": [
        "df.describe().transpose()"
      ],
      "execution_count": 23,
      "outputs": [
        {
          "output_type": "execute_result",
          "data": {
            "text/html": [
              "<div>\n",
              "<style scoped>\n",
              "    .dataframe tbody tr th:only-of-type {\n",
              "        vertical-align: middle;\n",
              "    }\n",
              "\n",
              "    .dataframe tbody tr th {\n",
              "        vertical-align: top;\n",
              "    }\n",
              "\n",
              "    .dataframe thead th {\n",
              "        text-align: right;\n",
              "    }\n",
              "</style>\n",
              "<table border=\"1\" class=\"dataframe\">\n",
              "  <thead>\n",
              "    <tr style=\"text-align: right;\">\n",
              "      <th></th>\n",
              "      <th>count</th>\n",
              "      <th>mean</th>\n",
              "      <th>std</th>\n",
              "      <th>min</th>\n",
              "      <th>25%</th>\n",
              "      <th>50%</th>\n",
              "      <th>75%</th>\n",
              "      <th>max</th>\n",
              "    </tr>\n",
              "  </thead>\n",
              "  <tbody>\n",
              "    <tr>\n",
              "      <th>Time</th>\n",
              "      <td>283726.0</td>\n",
              "      <td>94811.077600</td>\n",
              "      <td>47481.047891</td>\n",
              "      <td>0.000000</td>\n",
              "      <td>54204.750000</td>\n",
              "      <td>84692.500000</td>\n",
              "      <td>139298.000000</td>\n",
              "      <td>172792.000000</td>\n",
              "    </tr>\n",
              "    <tr>\n",
              "      <th>V1</th>\n",
              "      <td>283726.0</td>\n",
              "      <td>0.005917</td>\n",
              "      <td>1.948026</td>\n",
              "      <td>-56.407510</td>\n",
              "      <td>-0.915951</td>\n",
              "      <td>0.020384</td>\n",
              "      <td>1.316068</td>\n",
              "      <td>2.454930</td>\n",
              "    </tr>\n",
              "    <tr>\n",
              "      <th>V2</th>\n",
              "      <td>283726.0</td>\n",
              "      <td>-0.004135</td>\n",
              "      <td>1.646703</td>\n",
              "      <td>-72.715728</td>\n",
              "      <td>-0.600321</td>\n",
              "      <td>0.063949</td>\n",
              "      <td>0.800283</td>\n",
              "      <td>22.057729</td>\n",
              "    </tr>\n",
              "    <tr>\n",
              "      <th>V3</th>\n",
              "      <td>283726.0</td>\n",
              "      <td>0.001613</td>\n",
              "      <td>1.508682</td>\n",
              "      <td>-48.325589</td>\n",
              "      <td>-0.889682</td>\n",
              "      <td>0.179963</td>\n",
              "      <td>1.026960</td>\n",
              "      <td>9.382558</td>\n",
              "    </tr>\n",
              "    <tr>\n",
              "      <th>V4</th>\n",
              "      <td>283726.0</td>\n",
              "      <td>-0.002966</td>\n",
              "      <td>1.414184</td>\n",
              "      <td>-5.683171</td>\n",
              "      <td>-0.850134</td>\n",
              "      <td>-0.022248</td>\n",
              "      <td>0.739647</td>\n",
              "      <td>16.875344</td>\n",
              "    </tr>\n",
              "    <tr>\n",
              "      <th>V5</th>\n",
              "      <td>283726.0</td>\n",
              "      <td>0.001828</td>\n",
              "      <td>1.377008</td>\n",
              "      <td>-113.743307</td>\n",
              "      <td>-0.689830</td>\n",
              "      <td>-0.053468</td>\n",
              "      <td>0.612218</td>\n",
              "      <td>34.801666</td>\n",
              "    </tr>\n",
              "    <tr>\n",
              "      <th>V6</th>\n",
              "      <td>283726.0</td>\n",
              "      <td>-0.001139</td>\n",
              "      <td>1.331931</td>\n",
              "      <td>-26.160506</td>\n",
              "      <td>-0.769031</td>\n",
              "      <td>-0.275168</td>\n",
              "      <td>0.396792</td>\n",
              "      <td>73.301626</td>\n",
              "    </tr>\n",
              "    <tr>\n",
              "      <th>V7</th>\n",
              "      <td>283726.0</td>\n",
              "      <td>0.001801</td>\n",
              "      <td>1.227664</td>\n",
              "      <td>-43.557242</td>\n",
              "      <td>-0.552509</td>\n",
              "      <td>0.040859</td>\n",
              "      <td>0.570474</td>\n",
              "      <td>120.589494</td>\n",
              "    </tr>\n",
              "    <tr>\n",
              "      <th>V8</th>\n",
              "      <td>283726.0</td>\n",
              "      <td>-0.000854</td>\n",
              "      <td>1.179054</td>\n",
              "      <td>-73.216718</td>\n",
              "      <td>-0.208828</td>\n",
              "      <td>0.021898</td>\n",
              "      <td>0.325704</td>\n",
              "      <td>20.007208</td>\n",
              "    </tr>\n",
              "    <tr>\n",
              "      <th>V9</th>\n",
              "      <td>283726.0</td>\n",
              "      <td>-0.001596</td>\n",
              "      <td>1.095492</td>\n",
              "      <td>-13.434066</td>\n",
              "      <td>-0.644221</td>\n",
              "      <td>-0.052596</td>\n",
              "      <td>0.595977</td>\n",
              "      <td>15.594995</td>\n",
              "    </tr>\n",
              "    <tr>\n",
              "      <th>V10</th>\n",
              "      <td>283726.0</td>\n",
              "      <td>-0.001441</td>\n",
              "      <td>1.076407</td>\n",
              "      <td>-24.588262</td>\n",
              "      <td>-0.535578</td>\n",
              "      <td>-0.093237</td>\n",
              "      <td>0.453619</td>\n",
              "      <td>23.745136</td>\n",
              "    </tr>\n",
              "    <tr>\n",
              "      <th>V11</th>\n",
              "      <td>283726.0</td>\n",
              "      <td>0.000202</td>\n",
              "      <td>1.018720</td>\n",
              "      <td>-4.797473</td>\n",
              "      <td>-0.761649</td>\n",
              "      <td>-0.032306</td>\n",
              "      <td>0.739579</td>\n",
              "      <td>12.018913</td>\n",
              "    </tr>\n",
              "    <tr>\n",
              "      <th>V12</th>\n",
              "      <td>283726.0</td>\n",
              "      <td>-0.000715</td>\n",
              "      <td>0.994674</td>\n",
              "      <td>-18.683715</td>\n",
              "      <td>-0.406198</td>\n",
              "      <td>0.139072</td>\n",
              "      <td>0.616976</td>\n",
              "      <td>7.848392</td>\n",
              "    </tr>\n",
              "    <tr>\n",
              "      <th>V13</th>\n",
              "      <td>283726.0</td>\n",
              "      <td>0.000603</td>\n",
              "      <td>0.995430</td>\n",
              "      <td>-5.791881</td>\n",
              "      <td>-0.647862</td>\n",
              "      <td>-0.012927</td>\n",
              "      <td>0.663178</td>\n",
              "      <td>7.126883</td>\n",
              "    </tr>\n",
              "    <tr>\n",
              "      <th>V14</th>\n",
              "      <td>283726.0</td>\n",
              "      <td>0.000252</td>\n",
              "      <td>0.952215</td>\n",
              "      <td>-19.214325</td>\n",
              "      <td>-0.425732</td>\n",
              "      <td>0.050209</td>\n",
              "      <td>0.492336</td>\n",
              "      <td>10.526766</td>\n",
              "    </tr>\n",
              "    <tr>\n",
              "      <th>V15</th>\n",
              "      <td>283726.0</td>\n",
              "      <td>0.001043</td>\n",
              "      <td>0.914894</td>\n",
              "      <td>-4.498945</td>\n",
              "      <td>-0.581452</td>\n",
              "      <td>0.049299</td>\n",
              "      <td>0.650104</td>\n",
              "      <td>8.877742</td>\n",
              "    </tr>\n",
              "    <tr>\n",
              "      <th>V16</th>\n",
              "      <td>283726.0</td>\n",
              "      <td>0.001162</td>\n",
              "      <td>0.873696</td>\n",
              "      <td>-14.129855</td>\n",
              "      <td>-0.466860</td>\n",
              "      <td>0.067119</td>\n",
              "      <td>0.523512</td>\n",
              "      <td>17.315112</td>\n",
              "    </tr>\n",
              "    <tr>\n",
              "      <th>V17</th>\n",
              "      <td>283726.0</td>\n",
              "      <td>0.000170</td>\n",
              "      <td>0.842507</td>\n",
              "      <td>-25.162799</td>\n",
              "      <td>-0.483928</td>\n",
              "      <td>-0.065867</td>\n",
              "      <td>0.398972</td>\n",
              "      <td>9.253526</td>\n",
              "    </tr>\n",
              "    <tr>\n",
              "      <th>V18</th>\n",
              "      <td>283726.0</td>\n",
              "      <td>0.001515</td>\n",
              "      <td>0.837378</td>\n",
              "      <td>-9.498746</td>\n",
              "      <td>-0.498014</td>\n",
              "      <td>-0.002142</td>\n",
              "      <td>0.501956</td>\n",
              "      <td>5.041069</td>\n",
              "    </tr>\n",
              "    <tr>\n",
              "      <th>V19</th>\n",
              "      <td>283726.0</td>\n",
              "      <td>-0.000264</td>\n",
              "      <td>0.813379</td>\n",
              "      <td>-7.213527</td>\n",
              "      <td>-0.456289</td>\n",
              "      <td>0.003367</td>\n",
              "      <td>0.458508</td>\n",
              "      <td>5.591971</td>\n",
              "    </tr>\n",
              "    <tr>\n",
              "      <th>V20</th>\n",
              "      <td>283726.0</td>\n",
              "      <td>0.000187</td>\n",
              "      <td>0.769984</td>\n",
              "      <td>-54.497720</td>\n",
              "      <td>-0.211469</td>\n",
              "      <td>-0.062353</td>\n",
              "      <td>0.133207</td>\n",
              "      <td>39.420904</td>\n",
              "    </tr>\n",
              "    <tr>\n",
              "      <th>V21</th>\n",
              "      <td>283726.0</td>\n",
              "      <td>-0.000371</td>\n",
              "      <td>0.723909</td>\n",
              "      <td>-34.830382</td>\n",
              "      <td>-0.228305</td>\n",
              "      <td>-0.029441</td>\n",
              "      <td>0.186194</td>\n",
              "      <td>27.202839</td>\n",
              "    </tr>\n",
              "    <tr>\n",
              "      <th>V22</th>\n",
              "      <td>283726.0</td>\n",
              "      <td>-0.000015</td>\n",
              "      <td>0.724550</td>\n",
              "      <td>-10.933144</td>\n",
              "      <td>-0.542700</td>\n",
              "      <td>0.006675</td>\n",
              "      <td>0.528245</td>\n",
              "      <td>10.503090</td>\n",
              "    </tr>\n",
              "    <tr>\n",
              "      <th>V23</th>\n",
              "      <td>283726.0</td>\n",
              "      <td>0.000198</td>\n",
              "      <td>0.623702</td>\n",
              "      <td>-44.807735</td>\n",
              "      <td>-0.161703</td>\n",
              "      <td>-0.011159</td>\n",
              "      <td>0.147748</td>\n",
              "      <td>22.528412</td>\n",
              "    </tr>\n",
              "    <tr>\n",
              "      <th>V24</th>\n",
              "      <td>283726.0</td>\n",
              "      <td>0.000214</td>\n",
              "      <td>0.605627</td>\n",
              "      <td>-2.836627</td>\n",
              "      <td>-0.354453</td>\n",
              "      <td>0.041016</td>\n",
              "      <td>0.439738</td>\n",
              "      <td>4.584549</td>\n",
              "    </tr>\n",
              "    <tr>\n",
              "      <th>V25</th>\n",
              "      <td>283726.0</td>\n",
              "      <td>-0.000232</td>\n",
              "      <td>0.521220</td>\n",
              "      <td>-10.295397</td>\n",
              "      <td>-0.317485</td>\n",
              "      <td>0.016278</td>\n",
              "      <td>0.350667</td>\n",
              "      <td>7.519589</td>\n",
              "    </tr>\n",
              "    <tr>\n",
              "      <th>V26</th>\n",
              "      <td>283726.0</td>\n",
              "      <td>0.000149</td>\n",
              "      <td>0.482053</td>\n",
              "      <td>-2.604551</td>\n",
              "      <td>-0.326763</td>\n",
              "      <td>-0.052172</td>\n",
              "      <td>0.240261</td>\n",
              "      <td>3.517346</td>\n",
              "    </tr>\n",
              "    <tr>\n",
              "      <th>V27</th>\n",
              "      <td>283726.0</td>\n",
              "      <td>0.001763</td>\n",
              "      <td>0.395744</td>\n",
              "      <td>-22.565679</td>\n",
              "      <td>-0.070641</td>\n",
              "      <td>0.001479</td>\n",
              "      <td>0.091208</td>\n",
              "      <td>31.612198</td>\n",
              "    </tr>\n",
              "    <tr>\n",
              "      <th>V28</th>\n",
              "      <td>283726.0</td>\n",
              "      <td>0.000547</td>\n",
              "      <td>0.328027</td>\n",
              "      <td>-15.430084</td>\n",
              "      <td>-0.052818</td>\n",
              "      <td>0.011288</td>\n",
              "      <td>0.078276</td>\n",
              "      <td>33.847808</td>\n",
              "    </tr>\n",
              "    <tr>\n",
              "      <th>Amount</th>\n",
              "      <td>283726.0</td>\n",
              "      <td>88.472687</td>\n",
              "      <td>250.399437</td>\n",
              "      <td>0.000000</td>\n",
              "      <td>5.600000</td>\n",
              "      <td>22.000000</td>\n",
              "      <td>77.510000</td>\n",
              "      <td>25691.160000</td>\n",
              "    </tr>\n",
              "    <tr>\n",
              "      <th>Class</th>\n",
              "      <td>283726.0</td>\n",
              "      <td>0.001667</td>\n",
              "      <td>0.040796</td>\n",
              "      <td>0.000000</td>\n",
              "      <td>0.000000</td>\n",
              "      <td>0.000000</td>\n",
              "      <td>0.000000</td>\n",
              "      <td>1.000000</td>\n",
              "    </tr>\n",
              "  </tbody>\n",
              "</table>\n",
              "</div>"
            ],
            "text/plain": [
              "           count          mean  ...            75%            max\n",
              "Time    283726.0  94811.077600  ...  139298.000000  172792.000000\n",
              "V1      283726.0      0.005917  ...       1.316068       2.454930\n",
              "V2      283726.0     -0.004135  ...       0.800283      22.057729\n",
              "V3      283726.0      0.001613  ...       1.026960       9.382558\n",
              "V4      283726.0     -0.002966  ...       0.739647      16.875344\n",
              "V5      283726.0      0.001828  ...       0.612218      34.801666\n",
              "V6      283726.0     -0.001139  ...       0.396792      73.301626\n",
              "V7      283726.0      0.001801  ...       0.570474     120.589494\n",
              "V8      283726.0     -0.000854  ...       0.325704      20.007208\n",
              "V9      283726.0     -0.001596  ...       0.595977      15.594995\n",
              "V10     283726.0     -0.001441  ...       0.453619      23.745136\n",
              "V11     283726.0      0.000202  ...       0.739579      12.018913\n",
              "V12     283726.0     -0.000715  ...       0.616976       7.848392\n",
              "V13     283726.0      0.000603  ...       0.663178       7.126883\n",
              "V14     283726.0      0.000252  ...       0.492336      10.526766\n",
              "V15     283726.0      0.001043  ...       0.650104       8.877742\n",
              "V16     283726.0      0.001162  ...       0.523512      17.315112\n",
              "V17     283726.0      0.000170  ...       0.398972       9.253526\n",
              "V18     283726.0      0.001515  ...       0.501956       5.041069\n",
              "V19     283726.0     -0.000264  ...       0.458508       5.591971\n",
              "V20     283726.0      0.000187  ...       0.133207      39.420904\n",
              "V21     283726.0     -0.000371  ...       0.186194      27.202839\n",
              "V22     283726.0     -0.000015  ...       0.528245      10.503090\n",
              "V23     283726.0      0.000198  ...       0.147748      22.528412\n",
              "V24     283726.0      0.000214  ...       0.439738       4.584549\n",
              "V25     283726.0     -0.000232  ...       0.350667       7.519589\n",
              "V26     283726.0      0.000149  ...       0.240261       3.517346\n",
              "V27     283726.0      0.001763  ...       0.091208      31.612198\n",
              "V28     283726.0      0.000547  ...       0.078276      33.847808\n",
              "Amount  283726.0     88.472687  ...      77.510000   25691.160000\n",
              "Class   283726.0      0.001667  ...       0.000000       1.000000\n",
              "\n",
              "[31 rows x 8 columns]"
            ]
          },
          "metadata": {
            "tags": []
          },
          "execution_count": 23
        }
      ]
    },
    {
      "cell_type": "markdown",
      "metadata": {
        "id": "bKaUfvz4JW12",
        "colab_type": "text"
      },
      "source": [
        "**Data Visualization**"
      ]
    },
    {
      "cell_type": "code",
      "metadata": {
        "id": "FmLhnCZXLrSh",
        "colab_type": "code",
        "outputId": "6b48127a-3212-496d-85f8-b80a1dae5c04",
        "colab": {
          "base_uri": "https://localhost:8080/",
          "height": 67
        }
      },
      "source": [
        "df['Class'].value_counts()"
      ],
      "execution_count": 24,
      "outputs": [
        {
          "output_type": "execute_result",
          "data": {
            "text/plain": [
              "0    283253\n",
              "1       473\n",
              "Name: Class, dtype: int64"
            ]
          },
          "metadata": {
            "tags": []
          },
          "execution_count": 24
        }
      ]
    },
    {
      "cell_type": "code",
      "metadata": {
        "id": "zgl_9VGmLyjy",
        "colab_type": "code",
        "outputId": "6ed8fc58-e16b-48d0-879c-5d55657aad27",
        "colab": {
          "base_uri": "https://localhost:8080/",
          "height": 405
        }
      },
      "source": [
        "plt.figure(figsize=(6,6)) \n",
        "sns.countplot(x='Class',data=df)"
      ],
      "execution_count": 25,
      "outputs": [
        {
          "output_type": "execute_result",
          "data": {
            "text/plain": [
              "<matplotlib.axes._subplots.AxesSubplot at 0x7f4b2fc6ada0>"
            ]
          },
          "metadata": {
            "tags": []
          },
          "execution_count": 25
        },
        {
          "output_type": "display_data",
          "data": {
            "image/png": "[encoded data removed]",
            "text/plain": [
              "<Figure size 432x432 with 1 Axes>"
            ]
          },
          "metadata": {
            "tags": [],
            "needs_background": "light"
          }
        }
      ]
    },
    {
      "cell_type": "code",
      "metadata": {
        "id": "wFk75JlQSMFz",
        "colab_type": "code",
        "colab": {
          "base_uri": "https://localhost:8080/",
          "height": 50
        },
        "outputId": "6ef3a96e-6ac5-4995-847b-d7ba888b0b40"
      },
      "source": [
        "normal_tranc = len(df[df[\"Class\"]==0])\n",
        "fraud_tranc = len(df[df[\"Class\"]==1])\n",
        "normal_tranc_percent= normal_tranc/(normal_tranc+fraud_tranc)\n",
        "print(\"Percentage of Normal Transacations: \",normal_tranc_percent*100)\n",
        "fraud_tranc_percent = fraud_tranc/(normal_tranc+fraud_tranc)\n",
        "print(\"Percentage of Fraud Transacations: \",fraud_tranc_percent*100)"
      ],
      "execution_count": 26,
      "outputs": [
        {
          "output_type": "stream",
          "text": [
            "Percentage of Normal Transacations:  99.83328986416473\n",
            "Percentage of Fraud Transacations:  0.1667101358352777\n"
          ],
          "name": "stdout"
        }
      ]
    },
    {
      "cell_type": "markdown",
      "metadata": {
        "id": "_Fek_fkvL-JR",
        "colab_type": "text"
      },
      "source": [
        "We see that the data is highly imbalanced since the number of fraud transactions is very less as compared to correct transactions. So we have to avoid this problem or it may affect our accuracy."
      ]
    },
    {
      "cell_type": "code",
      "metadata": {
        "id": "OjaDxBMK0OKW",
        "colab_type": "code",
        "outputId": "6b1c218e-6962-44c4-aa12-5e7eb67527a6",
        "colab": {
          "base_uri": "https://localhost:8080/",
          "height": 282
        }
      },
      "source": [
        "# fraud transaction w.r.t Amount\n",
        "df[df[\"Class\"]==1]['Amount'].plot.hist(bins=20)"
      ],
      "execution_count": 27,
      "outputs": [
        {
          "output_type": "execute_result",
          "data": {
            "text/plain": [
              "<matplotlib.axes._subplots.AxesSubplot at 0x7f4b2f6b1b38>"
            ]
          },
          "metadata": {
            "tags": []
          },
          "execution_count": 27
        },
        {
          "output_type": "display_data",
          "data": {
            "image/png": "[encoded data removed]",
            "text/plain": [
              "<Figure size 432x288 with 1 Axes>"
            ]
          },
          "metadata": {
            "tags": [],
            "needs_background": "light"
          }
        }
      ]
    },
    {
      "cell_type": "code",
      "metadata": {
        "id": "-mCbcgRlNM_7",
        "colab_type": "code",
        "colab": {
          "base_uri": "https://localhost:8080/",
          "height": 282
        },
        "outputId": "8d3629eb-b35c-4a1a-bbac-99757d6e4124"
      },
      "source": [
        "# normal transaction w.r.t Amount\n",
        "df[df[\"Class\"]==0]['Amount'].plot.hist(bins=20)"
      ],
      "execution_count": 28,
      "outputs": [
        {
          "output_type": "execute_result",
          "data": {
            "text/plain": [
              "<matplotlib.axes._subplots.AxesSubplot at 0x7f4b2f658208>"
            ]
          },
          "metadata": {
            "tags": []
          },
          "execution_count": 28
        },
        {
          "output_type": "display_data",
          "data": {
            "image/png": "[encoded data removed]",
            "text/plain": [
              "<Figure size 432x288 with 1 Axes>"
            ]
          },
          "metadata": {
            "tags": [],
            "needs_background": "light"
          }
        }
      ]
    },
    {
      "cell_type": "code",
      "metadata": {
        "id": "8wgMzf_jPmfb",
        "colab_type": "code",
        "colab": {
          "base_uri": "https://localhost:8080/",
          "height": 282
        },
        "outputId": "3fccf1f8-2cfe-485d-b2ab-384f12fcc307"
      },
      "source": [
        "# fraud transaction w.r.t Time\n",
        "df[df[\"Class\"]==1]['Time'].plot.hist(bins=20)"
      ],
      "execution_count": 29,
      "outputs": [
        {
          "output_type": "execute_result",
          "data": {
            "text/plain": [
              "<matplotlib.axes._subplots.AxesSubplot at 0x7f4b2f6054e0>"
            ]
          },
          "metadata": {
            "tags": []
          },
          "execution_count": 29
        },
        {
          "output_type": "display_data",
          "data": {
            "image/png": "[encoded data removed]",
            "text/plain": [
              "<Figure size 432x288 with 1 Axes>"
            ]
          },
          "metadata": {
            "tags": [],
            "needs_background": "light"
          }
        }
      ]
    },
    {
      "cell_type": "code",
      "metadata": {
        "id": "RJjiGQblKp-x",
        "colab_type": "code",
        "outputId": "ffb91c31-7d72-43ef-9233-5a43c6ccd3bb",
        "colab": {
          "base_uri": "https://localhost:8080/",
          "height": 282
        }
      },
      "source": [
        "# normal transaction w.r.t Time\n",
        "df[df[\"Class\"]==0]['Time'].plot.hist(bins=20)"
      ],
      "execution_count": 30,
      "outputs": [
        {
          "output_type": "execute_result",
          "data": {
            "text/plain": [
              "<matplotlib.axes._subplots.AxesSubplot at 0x7f4b2f4f24e0>"
            ]
          },
          "metadata": {
            "tags": []
          },
          "execution_count": 30
        },
        {
          "output_type": "display_data",
          "data": {
            "image/png": "[encoded data removed]",
            "text/plain": [
              "<Figure size 432x288 with 1 Axes>"
            ]
          },
          "metadata": {
            "tags": [],
            "needs_background": "light"
          }
        }
      ]
    },
    {
      "cell_type": "code",
      "metadata": {
        "id": "vc2zNf8M79VF",
        "colab_type": "code",
        "outputId": "47dbc396-9aee-48a1-ed17-9955414bcf7e",
        "colab": {
          "base_uri": "https://localhost:8080/",
          "height": 1000
        }
      },
      "source": [
        "# maps correlation as color encoded matrices.\n",
        "plt.subplots(figsize=(20,20))\n",
        "sns.heatmap(df.corr(),annot=True,cmap='viridis',fmt='.2f')"
      ],
      "execution_count": 31,
      "outputs": [
        {
          "output_type": "execute_result",
          "data": {
            "text/plain": [
              "<matplotlib.axes._subplots.AxesSubplot at 0x7f4b2f49bc18>"
            ]
          },
          "metadata": {
            "tags": []
          },
          "execution_count": 31
        },
        {
          "output_type": "display_data",
          "data": {
            "image/png": "[encoded data removed]",
            "text/plain": [
              "<Figure size 1440x1440 with 2 Axes>"
            ]
          },
          "metadata": {
            "tags": [],
            "needs_background": "light"
          }
        }
      ]
    },
    {
      "cell_type": "code",
      "metadata": {
        "id": "gSODKeyNNQqP",
        "colab_type": "code",
        "outputId": "7dca6b9c-cd27-491d-a88a-b774ce07836c",
        "colab": {
          "base_uri": "https://localhost:8080/",
          "height": 554
        }
      },
      "source": [
        "# correlation of 'Class' with other features\n",
        "df.corr()['Class'].sort_values(ascending=False)\n",
        "# or 'df.corrwith(df['Class']).sort_values(ascending=False)'"
      ],
      "execution_count": 32,
      "outputs": [
        {
          "output_type": "execute_result",
          "data": {
            "text/plain": [
              "Class     1.000000\n",
              "V11       0.149067\n",
              "V4        0.129326\n",
              "V2        0.084624\n",
              "V19       0.033631\n",
              "V8        0.033068\n",
              "V21       0.026357\n",
              "V27       0.021892\n",
              "V20       0.021486\n",
              "V28       0.009682\n",
              "Amount    0.005777\n",
              "V22       0.004887\n",
              "V26       0.004265\n",
              "V25       0.003202\n",
              "V15      -0.003300\n",
              "V13      -0.003897\n",
              "V23      -0.006333\n",
              "V24      -0.007210\n",
              "Time     -0.012359\n",
              "V6       -0.043915\n",
              "V5       -0.087812\n",
              "V9       -0.094021\n",
              "V1       -0.094486\n",
              "V18      -0.105340\n",
              "V7       -0.172347\n",
              "V3       -0.182322\n",
              "V16      -0.187186\n",
              "V10      -0.206971\n",
              "V12      -0.250711\n",
              "V14      -0.293375\n",
              "V17      -0.313498\n",
              "Name: Class, dtype: float64"
            ]
          },
          "metadata": {
            "tags": []
          },
          "execution_count": 32
        }
      ]
    },
    {
      "cell_type": "code",
      "metadata": {
        "id": "0RBJZCDB79Rd",
        "colab_type": "code",
        "outputId": "1c3a8790-7687-421c-ce64-52397784d39e",
        "colab": {
          "base_uri": "https://localhost:8080/",
          "height": 633
        }
      },
      "source": [
        "plt.figure(figsize=(20,10))\n",
        "df.corrwith(df['Class']).plot.bar(color='r',grid=True,rot=45)"
      ],
      "execution_count": 33,
      "outputs": [
        {
          "output_type": "execute_result",
          "data": {
            "text/plain": [
              "<matplotlib.axes._subplots.AxesSubplot at 0x7f4b2b9e7390>"
            ]
          },
          "metadata": {
            "tags": []
          },
          "execution_count": 33
        },
        {
          "output_type": "display_data",
          "data": {
            "image/png": "[encoded data removed]",
            "text/plain": [
              "<Figure size 1440x720 with 1 Axes>"
            ]
          },
          "metadata": {
            "tags": [],
            "needs_background": "light"
          }
        }
      ]
    },
    {
      "cell_type": "markdown",
      "metadata": {
        "id": "uBf44hYJSeXt",
        "colab_type": "text"
      },
      "source": [
        "We see that most of the features are correlated with 'Class', so we will not \n",
        "drop any feature."
      ]
    },
    {
      "cell_type": "markdown",
      "metadata": {
        "id": "Xch6Th_TebiO",
        "colab_type": "text"
      },
      "source": [
        "**Outliers Detection**"
      ]
    },
    {
      "cell_type": "code",
      "metadata": {
        "id": "HwP_cUqktPl-",
        "colab_type": "code",
        "colab": {}
      },
      "source": [
        "# this function visualizes the df using boxplot\n",
        "# from boxplot we can easily determine wheteher outliers are ther or not\n",
        "def box_plot(data,features):\n",
        "    melted=[]\n",
        "    plt.figure()\n",
        "    fig,ax=plt.subplots(5,6,figsize=(30,20))\n",
        "    i=0\n",
        "    for j in features:\n",
        "        melted.insert(i,pd.melt(df,id_vars = \"Class\",value_vars = [j]))   #pd.melt converts a wide form data to long form\n",
        "        i+=1\n",
        "    melted_arr=np.arange(1,len(melted))    \n",
        "    for k in melted_arr:\n",
        "        plt.subplot(5,6,k)\n",
        "        sns.boxplot(x = \"variable\", y = \"value\", hue=\"Class\",data= melted[k-1])\n",
        "    plt.show()"
      ],
      "execution_count": 0,
      "outputs": []
    },
    {
      "cell_type": "code",
      "metadata": {
        "id": "j8fPUn7Ny2Mr",
        "colab_type": "code",
        "outputId": "43ab355f-bee4-4c53-e55c-6f95d062d761",
        "colab": {
          "base_uri": "https://localhost:8080/",
          "height": 947
        }
      },
      "source": [
        "box_plot(df,df.columns.values[:-1])"
      ],
      "execution_count": 35,
      "outputs": [
        {
          "output_type": "display_data",
          "data": {
            "text/plain": [
              "<Figure size 432x288 with 0 Axes>"
            ]
          },
          "metadata": {
            "tags": []
          }
        },
        {
          "output_type": "display_data",
          "data": {
            "image/png": "[encoded data removed]",
            "text/plain": [
              "<Figure size 2160x1440 with 30 Axes>"
            ]
          },
          "metadata": {
            "tags": [],
            "needs_background": "light"
          }
        }
      ]
    },
    {
      "cell_type": "markdown",
      "metadata": {
        "id": "ojSP1FO5TnD1",
        "colab_type": "text"
      },
      "source": [
        "We see that there are a lot of outliers in the dataset and that we have to remove them or they will affect our result. We will remove them when we will do train and test split."
      ]
    },
    {
      "cell_type": "markdown",
      "metadata": {
        "id": "gxVh4fsdUEmn",
        "colab_type": "text"
      },
      "source": [
        "Also, till here we have seen that there is no pattern in data as such."
      ]
    },
    {
      "cell_type": "markdown",
      "metadata": {
        "id": "mHP2YWc3yhwS",
        "colab_type": "text"
      },
      "source": [
        "**Data Pre-processing and Decomposition**"
      ]
    },
    {
      "cell_type": "code",
      "metadata": {
        "id": "ZDvFSpzzhZny",
        "colab_type": "code",
        "colab": {}
      },
      "source": [
        "X=df.drop('Class',axis=1)\n",
        "y=df['Class']"
      ],
      "execution_count": 0,
      "outputs": []
    },
    {
      "cell_type": "code",
      "metadata": {
        "id": "xv8Lwx17oShO",
        "colab_type": "code",
        "colab": {}
      },
      "source": [
        "from sklearn.preprocessing import StandardScaler\n",
        "scaler=StandardScaler()\n",
        "X=scaler.fit_transform(X)"
      ],
      "execution_count": 0,
      "outputs": []
    },
    {
      "cell_type": "code",
      "metadata": {
        "id": "m7kysHMshp_g",
        "colab_type": "code",
        "colab": {}
      },
      "source": [
        "#since the dataset has many dimensions (features)\n",
        "#we will reduce the size of the dataset using Principal Component Analysis (PCA):\n",
        "#although the dataset given is PCA transformed , the 'Time' and 'Amount' column was not PCA transformed. \n",
        "#So this will transform them as well.  \n",
        "from sklearn.decomposition import PCA\n",
        "pca = PCA(n_components=2)\n",
        "X = pca.fit_transform(X)"
      ],
      "execution_count": 0,
      "outputs": []
    },
    {
      "cell_type": "code",
      "metadata": {
        "id": "vQioABssxzcN",
        "colab_type": "code",
        "colab": {}
      },
      "source": [
        "from sklearn.model_selection import train_test_split\n",
        "X_train, X_test, y_train, y_test = train_test_split(X, y, test_size=0.30, random_state=101)"
      ],
      "execution_count": 0,
      "outputs": []
    },
    {
      "cell_type": "code",
      "metadata": {
        "id": "7WXHraVExznb",
        "colab_type": "code",
        "colab": {
          "base_uri": "https://localhost:8080/",
          "height": 101
        },
        "outputId": "c72a4271-8902-4e28-90e2-5787cb38dff0"
      },
      "source": [
        "#Logistic Regression on original data\n",
        "from sklearn.linear_model import LogisticRegression\n",
        "lm = LogisticRegression(random_state = 0, penalty = 'l2')  #Ridge('l2') regression\n",
        "lm.fit(X_train, y_train)"
      ],
      "execution_count": 156,
      "outputs": [
        {
          "output_type": "execute_result",
          "data": {
            "text/plain": [
              "LogisticRegression(C=1.0, class_weight=None, dual=False, fit_intercept=True,\n",
              "                   intercept_scaling=1, l1_ratio=None, max_iter=100,\n",
              "                   multi_class='auto', n_jobs=None, penalty='l2',\n",
              "                   random_state=0, solver='lbfgs', tol=0.0001, verbose=0,\n",
              "                   warm_start=False)"
            ]
          },
          "metadata": {
            "tags": []
          },
          "execution_count": 156
        }
      ]
    },
    {
      "cell_type": "code",
      "metadata": {
        "id": "snW4UCXXxzuH",
        "colab_type": "code",
        "colab": {}
      },
      "source": [
        "pred=lm.predict(X_test)"
      ],
      "execution_count": 0,
      "outputs": []
    },
    {
      "cell_type": "code",
      "metadata": {
        "id": "vFgs8Y4cxz0N",
        "colab_type": "code",
        "colab": {
          "base_uri": "https://localhost:8080/",
          "height": 306
        },
        "outputId": "a57b933c-fc38-4be9-8fd7-7f640a98ad2a"
      },
      "source": [
        "from sklearn.metrics import confusion_matrix,classification_report\n",
        "print('Confusion Matrix:\\n',confusion_matrix(y_test,pred))\n",
        "print('\\nClassification Report:\\n',classification_report(y_test,pred,digits=6))"
      ],
      "execution_count": 158,
      "outputs": [
        {
          "output_type": "stream",
          "text": [
            "Confusion Matrix:\n",
            " [[84980     0]\n",
            " [  138     0]]\n",
            "\n",
            "Classification Report:\n",
            "               precision    recall  f1-score   support\n",
            "\n",
            "           0   0.998379  1.000000  0.999189     84980\n",
            "           1   0.000000  0.000000  0.000000       138\n",
            "\n",
            "    accuracy                       0.998379     85118\n",
            "   macro avg   0.499189  0.500000  0.499594     85118\n",
            "weighted avg   0.996760  0.998379  0.997569     85118\n",
            "\n"
          ],
          "name": "stdout"
        },
        {
          "output_type": "stream",
          "text": [
            "/usr/local/lib/python3.6/dist-packages/sklearn/metrics/_classification.py:1272: UndefinedMetricWarning: Precision and F-score are ill-defined and being set to 0.0 in labels with no predicted samples. Use `zero_division` parameter to control this behavior.\n",
            "  _warn_prf(average, modifier, msg_start, len(result))\n"
          ],
          "name": "stderr"
        }
      ]
    },
    {
      "cell_type": "markdown",
      "metadata": {
        "id": "OVMGoeheVfZj",
        "colab_type": "text"
      },
      "source": [
        "Now , to handle imbalanced data, we will do : \n",
        "\n",
        "**Resampling** \n",
        "\n",
        "1- Resample our data with different size.\n",
        "\n",
        "2- Use this resampled data to train ML model\n",
        "\n",
        "3- Use this model to predict for original data\n",
        "\n",
        "We will do: -\n",
        "\n",
        "1- Undersampling - removing samples from the majority class - TomekLinks\n",
        "\n",
        "2- Oversampling - adding more examples from the minority class - SMOTE - Synthetic Minority Over-sampling Technique"
      ]
    },
    {
      "cell_type": "code",
      "metadata": {
        "id": "UwKiXOlzRIud",
        "colab_type": "code",
        "colab": {}
      },
      "source": [
        "import imblearn"
      ],
      "execution_count": 0,
      "outputs": []
    },
    {
      "cell_type": "markdown",
      "metadata": {
        "id": "j5S17N31YKms",
        "colab_type": "text"
      },
      "source": [
        "**1- UnderSampling**"
      ]
    },
    {
      "cell_type": "code",
      "metadata": {
        "id": "3Uyoq9__ifiO",
        "colab_type": "code",
        "colab": {}
      },
      "source": [
        "# we could use RandomUnderSampler,ClusterCentroids,ENN etc.\n",
        "# But instances participating in Tomek links are either borderline or noise i.e. outliers \n",
        "# so both are removed and since we have outliers in our dataset, we prefer to use this method for undersampling\n",
        "from imblearn.under_sampling import TomekLinks"
      ],
      "execution_count": 0,
      "outputs": []
    },
    {
      "cell_type": "code",
      "metadata": {
        "id": "JjklbNdajI9-",
        "colab_type": "code",
        "colab": {}
      },
      "source": [
        "tl = TomekLinks(return_indices=True, ratio='majority')\n",
        "X_tl, y_tl, id_tl = tl.fit_sample(X, y)"
      ],
      "execution_count": 0,
      "outputs": []
    },
    {
      "cell_type": "code",
      "metadata": {
        "id": "03JKXU3olWOP",
        "colab_type": "code",
        "colab": {
          "base_uri": "https://localhost:8080/",
          "height": 34
        },
        "outputId": "739e9b9f-445b-4ef4-88a0-db8e736fe863"
      },
      "source": [
        "# no. of removed indices\n",
        "len(id_tl)"
      ],
      "execution_count": 161,
      "outputs": [
        {
          "output_type": "execute_result",
          "data": {
            "text/plain": [
              "283431"
            ]
          },
          "metadata": {
            "tags": []
          },
          "execution_count": 161
        }
      ]
    },
    {
      "cell_type": "code",
      "metadata": {
        "id": "f2GOx6AYlrvs",
        "colab_type": "code",
        "colab": {}
      },
      "source": [
        "# train-test split\n",
        "from sklearn.model_selection import train_test_split\n",
        "X_traintl, X_testtl, y_traintl, y_testtl = train_test_split(X_tl, y_tl, test_size=0.30, random_state=101)"
      ],
      "execution_count": 0,
      "outputs": []
    },
    {
      "cell_type": "code",
      "metadata": {
        "id": "7KayeKHknGoW",
        "colab_type": "code",
        "colab": {
          "base_uri": "https://localhost:8080/",
          "height": 101
        },
        "outputId": "b5a0041c-b478-4e93-c272-c9c2cd4a662a"
      },
      "source": [
        "#Logistic Regression on Undersampled data\n",
        "from sklearn.linear_model import LogisticRegression\n",
        "lmunder = LogisticRegression(random_state = 0, penalty = 'l2')  #Ridge('l2') regression\n",
        "lmunder.fit(X_traintl, y_traintl)"
      ],
      "execution_count": 163,
      "outputs": [
        {
          "output_type": "execute_result",
          "data": {
            "text/plain": [
              "LogisticRegression(C=1.0, class_weight=None, dual=False, fit_intercept=True,\n",
              "                   intercept_scaling=1, l1_ratio=None, max_iter=100,\n",
              "                   multi_class='auto', n_jobs=None, penalty='l2',\n",
              "                   random_state=0, solver='lbfgs', tol=0.0001, verbose=0,\n",
              "                   warm_start=False)"
            ]
          },
          "metadata": {
            "tags": []
          },
          "execution_count": 163
        }
      ]
    },
    {
      "cell_type": "code",
      "metadata": {
        "id": "PfM1-3OopKbs",
        "colab_type": "code",
        "colab": {}
      },
      "source": [
        "pred_lmunder=lmunder.predict(X_testtl)"
      ],
      "execution_count": 0,
      "outputs": []
    },
    {
      "cell_type": "code",
      "metadata": {
        "id": "BSN2X2mlo9hi",
        "colab_type": "code",
        "colab": {
          "base_uri": "https://localhost:8080/",
          "height": 306
        },
        "outputId": "d48b3f4e-72b3-49ed-fc7a-4da269a5152c"
      },
      "source": [
        "from sklearn.metrics import confusion_matrix,classification_report,precision_recall_curve\n",
        "print('Confusion Matrix:\\n',confusion_matrix(y_testtl,pred_lmunder))\n",
        "print('\\nClassification Report:\\n',classification_report(y_testtl,pred_lmunder,digits=6))"
      ],
      "execution_count": 165,
      "outputs": [
        {
          "output_type": "stream",
          "text": [
            "Confusion Matrix:\n",
            " [[84877     0]\n",
            " [  153     0]]\n",
            "\n",
            "Classification Report:\n",
            "               precision    recall  f1-score   support\n",
            "\n",
            "           0   0.998201  1.000000  0.999100     84877\n",
            "           1   0.000000  0.000000  0.000000       153\n",
            "\n",
            "    accuracy                       0.998201     85030\n",
            "   macro avg   0.499100  0.500000  0.499550     85030\n",
            "weighted avg   0.996405  0.998201  0.997302     85030\n",
            "\n"
          ],
          "name": "stdout"
        },
        {
          "output_type": "stream",
          "text": [
            "/usr/local/lib/python3.6/dist-packages/sklearn/metrics/_classification.py:1272: UndefinedMetricWarning: Precision and F-score are ill-defined and being set to 0.0 in labels with no predicted samples. Use `zero_division` parameter to control this behavior.\n",
            "  _warn_prf(average, modifier, msg_start, len(result))\n"
          ],
          "name": "stderr"
        }
      ]
    },
    {
      "cell_type": "markdown",
      "metadata": {
        "id": "_luCs29h0htT",
        "colab_type": "text"
      },
      "source": [
        "**2- OverSampling**"
      ]
    },
    {
      "cell_type": "code",
      "metadata": {
        "id": "BeQEi10spBgg",
        "colab_type": "code",
        "colab": {}
      },
      "source": [
        "from imblearn.over_sampling import SMOTE"
      ],
      "execution_count": 0,
      "outputs": []
    },
    {
      "cell_type": "code",
      "metadata": {
        "id": "yUiamR4D001p",
        "colab_type": "code",
        "colab": {}
      },
      "source": [
        "smote = SMOTE(ratio='minority')\n",
        "X_sm, y_sm = smote.fit_sample(X, y)"
      ],
      "execution_count": 0,
      "outputs": []
    },
    {
      "cell_type": "code",
      "metadata": {
        "id": "o5Y14O4b009j",
        "colab_type": "code",
        "colab": {}
      },
      "source": [
        "# train-test split\n",
        "from sklearn.model_selection import train_test_split\n",
        "X_trainsm, X_testsm, y_trainsm, y_testsm = train_test_split(X_sm, y_sm, test_size=0.30, random_state=101)"
      ],
      "execution_count": 0,
      "outputs": []
    },
    {
      "cell_type": "code",
      "metadata": {
        "id": "PtysaMHG01GD",
        "colab_type": "code",
        "colab": {
          "base_uri": "https://localhost:8080/",
          "height": 101
        },
        "outputId": "ad8dfa53-ae1d-4f5d-962e-3d3c1233ecd0"
      },
      "source": [
        "#Logistic Regression on Undersampled data\n",
        "from sklearn.linear_model import LogisticRegression\n",
        "lmover = LogisticRegression(random_state = 0, penalty = 'l2')  #Ridge('l2') regression\n",
        "lmover.fit(X_trainsm, y_trainsm)"
      ],
      "execution_count": 169,
      "outputs": [
        {
          "output_type": "execute_result",
          "data": {
            "text/plain": [
              "LogisticRegression(C=1.0, class_weight=None, dual=False, fit_intercept=True,\n",
              "                   intercept_scaling=1, l1_ratio=None, max_iter=100,\n",
              "                   multi_class='auto', n_jobs=None, penalty='l2',\n",
              "                   random_state=0, solver='lbfgs', tol=0.0001, verbose=0,\n",
              "                   warm_start=False)"
            ]
          },
          "metadata": {
            "tags": []
          },
          "execution_count": 169
        }
      ]
    },
    {
      "cell_type": "code",
      "metadata": {
        "id": "f9nIJre51Oq2",
        "colab_type": "code",
        "colab": {}
      },
      "source": [
        "pred_lmover=lmover.predict(X_testsm)"
      ],
      "execution_count": 0,
      "outputs": []
    },
    {
      "cell_type": "code",
      "metadata": {
        "id": "UEYXO1LS1T_-",
        "colab_type": "code",
        "colab": {
          "base_uri": "https://localhost:8080/",
          "height": 252
        },
        "outputId": "66dcb0b5-0c72-4552-8c2d-f678fd213b73"
      },
      "source": [
        "from sklearn.metrics import confusion_matrix,classification_report\n",
        "print('Confusion Matrix:\\n',confusion_matrix(y_testsm,pred_lmover))\n",
        "print('\\nClassification Report:\\n',classification_report(y_testsm,pred_lmover,digits=6))"
      ],
      "execution_count": 171,
      "outputs": [
        {
          "output_type": "stream",
          "text": [
            "Confusion Matrix:\n",
            " [[43057 42269]\n",
            " [31843 52783]]\n",
            "\n",
            "Classification Report:\n",
            "               precision    recall  f1-score   support\n",
            "\n",
            "           0   0.574860  0.504618  0.537453     85326\n",
            "           1   0.555307  0.623721  0.587529     84626\n",
            "\n",
            "    accuracy                       0.563924    169952\n",
            "   macro avg   0.565083  0.564169  0.562491    169952\n",
            "weighted avg   0.565123  0.563924  0.562388    169952\n",
            "\n"
          ],
          "name": "stdout"
        }
      ]
    },
    {
      "cell_type": "markdown",
      "metadata": {
        "id": "DAeQmAPX7n7B",
        "colab_type": "text"
      },
      "source": [
        "We see that the accuracy from undersampling is more than oversampling. So we will prefer undersampling than oversampling "
      ]
    },
    {
      "cell_type": "markdown",
      "metadata": {
        "id": "DqknY_h28RF7",
        "colab_type": "text"
      },
      "source": [
        "**Using different Machine Learning Algorithms on Undersampled data:**"
      ]
    },
    {
      "cell_type": "markdown",
      "metadata": {
        "id": "bshld7DK8cPV",
        "colab_type": "text"
      },
      "source": [
        "**K Nearest Neighbours (KNN) Classsifier**"
      ]
    },
    {
      "cell_type": "code",
      "metadata": {
        "id": "bdD1s4r89DFe",
        "colab_type": "code",
        "colab": {}
      },
      "source": [
        "from sklearn.neighbors import KNeighborsClassifier"
      ],
      "execution_count": 0,
      "outputs": []
    },
    {
      "cell_type": "code",
      "metadata": {
        "id": "V6FfCryrHWz-",
        "colab_type": "code",
        "colab": {}
      },
      "source": [
        "# sqrt(no. of features in training set) is approx. 5\n",
        "knn=KNeighborsClassifier(n_neighbors=5)"
      ],
      "execution_count": 0,
      "outputs": []
    },
    {
      "cell_type": "code",
      "metadata": {
        "id": "KAP6p28LHW8m",
        "colab_type": "code",
        "colab": {
          "base_uri": "https://localhost:8080/",
          "height": 67
        },
        "outputId": "ebda6a53-24e1-4459-e937-5f7fae7cef11"
      },
      "source": [
        "knn.fit(X_traintl,y_traintl)"
      ],
      "execution_count": 174,
      "outputs": [
        {
          "output_type": "execute_result",
          "data": {
            "text/plain": [
              "KNeighborsClassifier(algorithm='auto', leaf_size=30, metric='minkowski',\n",
              "                     metric_params=None, n_jobs=None, n_neighbors=5, p=2,\n",
              "                     weights='uniform')"
            ]
          },
          "metadata": {
            "tags": []
          },
          "execution_count": 174
        }
      ]
    },
    {
      "cell_type": "code",
      "metadata": {
        "id": "z0sJqFXhJObv",
        "colab_type": "code",
        "colab": {}
      },
      "source": [
        "pred_knn=knn.predict(X_testtl)"
      ],
      "execution_count": 0,
      "outputs": []
    },
    {
      "cell_type": "code",
      "metadata": {
        "id": "93S1yKXXJORH",
        "colab_type": "code",
        "colab": {
          "base_uri": "https://localhost:8080/",
          "height": 252
        },
        "outputId": "d1285b89-594c-4dd7-e966-ad5986fd2956"
      },
      "source": [
        "from sklearn.metrics import confusion_matrix,classification_report\n",
        "print('Confusion Matrix:\\n',confusion_matrix(y_testtl,pred_knn))\n",
        "print('\\nClassification Report:\\n',classification_report(y_testtl,pred_knn,digits=6))"
      ],
      "execution_count": 176,
      "outputs": [
        {
          "output_type": "stream",
          "text": [
            "Confusion Matrix:\n",
            " [[84875     2]\n",
            " [  153     0]]\n",
            "\n",
            "Classification Report:\n",
            "               precision    recall  f1-score   support\n",
            "\n",
            "           0   0.998201  0.999976  0.999088     84877\n",
            "           1   0.000000  0.000000  0.000000       153\n",
            "\n",
            "    accuracy                       0.998177     85030\n",
            "   macro avg   0.499100  0.499988  0.499544     85030\n",
            "weighted avg   0.996404  0.998177  0.997290     85030\n",
            "\n"
          ],
          "name": "stdout"
        }
      ]
    },
    {
      "cell_type": "markdown",
      "metadata": {
        "id": "TuvHgcNY8v7_",
        "colab_type": "text"
      },
      "source": [
        "**Random Forest Classifier**"
      ]
    },
    {
      "cell_type": "code",
      "metadata": {
        "id": "N4xbIRK_9Dp6",
        "colab_type": "code",
        "colab": {}
      },
      "source": [
        "from sklearn.ensemble import RandomForestClassifier"
      ],
      "execution_count": 0,
      "outputs": []
    },
    {
      "cell_type": "code",
      "metadata": {
        "id": "OdrbMFwVJk7w",
        "colab_type": "code",
        "colab": {
          "base_uri": "https://localhost:8080/",
          "height": 151
        },
        "outputId": "28b50f0b-f464-4688-fab3-bcbb6c27b3b1"
      },
      "source": [
        "rfc = RandomForestClassifier(random_state = 0, n_estimators = 100,criterion = 'entropy')\n",
        "rfc.fit(X_traintl, y_traintl)"
      ],
      "execution_count": 178,
      "outputs": [
        {
          "output_type": "execute_result",
          "data": {
            "text/plain": [
              "RandomForestClassifier(bootstrap=True, ccp_alpha=0.0, class_weight=None,\n",
              "                       criterion='entropy', max_depth=None, max_features='auto',\n",
              "                       max_leaf_nodes=None, max_samples=None,\n",
              "                       min_impurity_decrease=0.0, min_impurity_split=None,\n",
              "                       min_samples_leaf=1, min_samples_split=2,\n",
              "                       min_weight_fraction_leaf=0.0, n_estimators=100,\n",
              "                       n_jobs=None, oob_score=False, random_state=0, verbose=0,\n",
              "                       warm_start=False)"
            ]
          },
          "metadata": {
            "tags": []
          },
          "execution_count": 178
        }
      ]
    },
    {
      "cell_type": "code",
      "metadata": {
        "id": "AdBzU4wRJmP0",
        "colab_type": "code",
        "colab": {}
      },
      "source": [
        "pred_rfc=rfc.predict(X_testtl)"
      ],
      "execution_count": 0,
      "outputs": []
    },
    {
      "cell_type": "code",
      "metadata": {
        "id": "-mdp0rx1JrbD",
        "colab_type": "code",
        "colab": {
          "base_uri": "https://localhost:8080/",
          "height": 252
        },
        "outputId": "b8c108e7-6f70-42e0-e182-8fa5e4b3aefb"
      },
      "source": [
        "from sklearn.metrics import confusion_matrix,classification_report\n",
        "print('Confusion Matrix:\\n',confusion_matrix(y_testtl,pred_rfc))\n",
        "print('\\nClassification Report:\\n',classification_report(y_testtl,pred_rfc,digits=6))"
      ],
      "execution_count": 180,
      "outputs": [
        {
          "output_type": "stream",
          "text": [
            "Confusion Matrix:\n",
            " [[84873     4]\n",
            " [  149     4]]\n",
            "\n",
            "Classification Report:\n",
            "               precision    recall  f1-score   support\n",
            "\n",
            "           0   0.998248  0.999953  0.999099     84877\n",
            "           1   0.500000  0.026144  0.049689       153\n",
            "\n",
            "    accuracy                       0.998201     85030\n",
            "   macro avg   0.749124  0.513048  0.524394     85030\n",
            "weighted avg   0.997351  0.998201  0.997391     85030\n",
            "\n"
          ],
          "name": "stdout"
        }
      ]
    },
    {
      "cell_type": "markdown",
      "metadata": {
        "id": "Ax1Z_y7J81lR",
        "colab_type": "text"
      },
      "source": [
        "**Naive Bayes Classifier**"
      ]
    },
    {
      "cell_type": "code",
      "metadata": {
        "id": "Q3NxJzsv9EDA",
        "colab_type": "code",
        "colab": {
          "base_uri": "https://localhost:8080/",
          "height": 34
        },
        "outputId": "0e703fe1-5443-4d40-8b4a-8d8ff1c4b146"
      },
      "source": [
        "from sklearn.naive_bayes import GaussianNB   \n",
        "#Naive Bayes classifier assumes that the presence of a particular feature \n",
        "#in a class is unrelated to the presence of any other feature.\n",
        "nb=GaussianNB()   # using GaussianNB instead of MultinomialNB since there are negative values also in the dataset\n",
        "nb.fit(X_traintl,y_traintl)"
      ],
      "execution_count": 181,
      "outputs": [
        {
          "output_type": "execute_result",
          "data": {
            "text/plain": [
              "GaussianNB(priors=None, var_smoothing=1e-09)"
            ]
          },
          "metadata": {
            "tags": []
          },
          "execution_count": 181
        }
      ]
    },
    {
      "cell_type": "code",
      "metadata": {
        "id": "CVm77pGvPvnl",
        "colab_type": "code",
        "colab": {}
      },
      "source": [
        "pred_nb=nb.predict(X_testtl)"
      ],
      "execution_count": 0,
      "outputs": []
    },
    {
      "cell_type": "code",
      "metadata": {
        "id": "qXQ9fN4gPvX9",
        "colab_type": "code",
        "colab": {
          "base_uri": "https://localhost:8080/",
          "height": 306
        },
        "outputId": "3c6eef9e-91a1-4282-e5e4-c880d004e465"
      },
      "source": [
        "from sklearn.metrics import confusion_matrix,classification_report\n",
        "print('Confusion Matrix:\\n',confusion_matrix(y_testtl,pred_nb))\n",
        "print('\\nClassification Report:\\n',classification_report(y_testtl,pred_nb,digits=6))"
      ],
      "execution_count": 183,
      "outputs": [
        {
          "output_type": "stream",
          "text": [
            "Confusion Matrix:\n",
            " [[84877     0]\n",
            " [  153     0]]\n",
            "\n",
            "Classification Report:\n",
            "               precision    recall  f1-score   support\n",
            "\n",
            "           0   0.998201  1.000000  0.999100     84877\n",
            "           1   0.000000  0.000000  0.000000       153\n",
            "\n",
            "    accuracy                       0.998201     85030\n",
            "   macro avg   0.499100  0.500000  0.499550     85030\n",
            "weighted avg   0.996405  0.998201  0.997302     85030\n",
            "\n"
          ],
          "name": "stdout"
        },
        {
          "output_type": "stream",
          "text": [
            "/usr/local/lib/python3.6/dist-packages/sklearn/metrics/_classification.py:1272: UndefinedMetricWarning: Precision and F-score are ill-defined and being set to 0.0 in labels with no predicted samples. Use `zero_division` parameter to control this behavior.\n",
            "  _warn_prf(average, modifier, msg_start, len(result))\n"
          ],
          "name": "stderr"
        }
      ]
    },
    {
      "cell_type": "markdown",
      "metadata": {
        "id": "80RneePj88c4",
        "colab_type": "text"
      },
      "source": [
        "**Support Vector Machine**"
      ]
    },
    {
      "cell_type": "code",
      "metadata": {
        "id": "J4NWmls81bX1",
        "colab_type": "code",
        "colab": {
          "base_uri": "https://localhost:8080/",
          "height": 84
        },
        "outputId": "5f91ff36-5975-46d8-8fa7-4997bdb78cb4"
      },
      "source": [
        "from sklearn.svm import SVC\n",
        "svc = SVC(random_state = 0, kernel = 'rbf')\n",
        "svc.fit(X_traintl, y_traintl)"
      ],
      "execution_count": 184,
      "outputs": [
        {
          "output_type": "execute_result",
          "data": {
            "text/plain": [
              "SVC(C=1.0, break_ties=False, cache_size=200, class_weight=None, coef0=0.0,\n",
              "    decision_function_shape='ovr', degree=3, gamma='scale', kernel='rbf',\n",
              "    max_iter=-1, probability=False, random_state=0, shrinking=True, tol=0.001,\n",
              "    verbose=False)"
            ]
          },
          "metadata": {
            "tags": []
          },
          "execution_count": 184
        }
      ]
    },
    {
      "cell_type": "code",
      "metadata": {
        "id": "543LyeDIQXOE",
        "colab_type": "code",
        "colab": {}
      },
      "source": [
        "pred_svc=svc.predict(X_testtl)"
      ],
      "execution_count": 0,
      "outputs": []
    },
    {
      "cell_type": "code",
      "metadata": {
        "id": "hhAAsywbQaU_",
        "colab_type": "code",
        "colab": {
          "base_uri": "https://localhost:8080/",
          "height": 306
        },
        "outputId": "74e88b27-a508-43ec-b9fe-7688c7098b34"
      },
      "source": [
        "from sklearn.metrics import confusion_matrix,classification_report\n",
        "print('Confusion Matrix:\\n',confusion_matrix(y_testtl,pred_svc))\n",
        "print('\\nClassification Report:\\n',classification_report(y_testtl,pred_svc,digits=6))"
      ],
      "execution_count": 186,
      "outputs": [
        {
          "output_type": "stream",
          "text": [
            "Confusion Matrix:\n",
            " [[84877     0]\n",
            " [  153     0]]\n",
            "\n",
            "Classification Report:\n",
            "               precision    recall  f1-score   support\n",
            "\n",
            "           0   0.998201  1.000000  0.999100     84877\n",
            "           1   0.000000  0.000000  0.000000       153\n",
            "\n",
            "    accuracy                       0.998201     85030\n",
            "   macro avg   0.499100  0.500000  0.499550     85030\n",
            "weighted avg   0.996405  0.998201  0.997302     85030\n",
            "\n"
          ],
          "name": "stdout"
        },
        {
          "output_type": "stream",
          "text": [
            "/usr/local/lib/python3.6/dist-packages/sklearn/metrics/_classification.py:1272: UndefinedMetricWarning: Precision and F-score are ill-defined and being set to 0.0 in labels with no predicted samples. Use `zero_division` parameter to control this behavior.\n",
            "  _warn_prf(average, modifier, msg_start, len(result))\n"
          ],
          "name": "stderr"
        }
      ]
    },
    {
      "cell_type": "markdown",
      "metadata": {
        "id": "-rj0e5fwRHCQ",
        "colab_type": "text"
      },
      "source": [
        "**Results and Comparison :**"
      ]
    },
    {
      "cell_type": "markdown",
      "metadata": {
        "id": "F8Rt6EXjSdA4",
        "colab_type": "text"
      },
      "source": [
        "We saw that undersampled data gave better results than oversampled data.\n",
        "\n",
        "So we chose to use undersampled data and applied different ML algorithms on that data."
      ]
    },
    {
      "cell_type": "code",
      "metadata": {
        "id": "TvU3MSzBRFAa",
        "colab_type": "code",
        "colab": {
          "base_uri": "https://localhost:8080/",
          "height": 1000
        },
        "outputId": "ea2400ca-23a3-4632-f553-ca41e55d2a76"
      },
      "source": [
        "from sklearn.metrics import confusion_matrix,classification_report,plot_precision_recall_curve\n",
        "print('1-Logistic Regression:\\n')\n",
        "print('Confusion Matrix:\\n',confusion_matrix(y_testtl,pred_lmunder))\n",
        "print('\\nClassification Report:\\n',classification_report(y_testtl,pred_lmunder,digits=6))\n",
        "\n",
        "print('\\n2-K Nearest Neighbours:\\n')\n",
        "print('Confusion Matrix:\\n',confusion_matrix(y_testtl,pred_knn))\n",
        "print('\\nClassification Report:\\n',classification_report(y_testtl,pred_knn,digits=6))\n",
        "\n",
        "print('\\n3-Random Forest Classifier:\\n')\n",
        "print('Confusion Matrix:\\n',confusion_matrix(y_testtl,pred_rfc))\n",
        "print('\\nClassification Report:\\n',classification_report(y_testtl,pred_rfc,digits=6))\n",
        "\n",
        "print('\\n4-Naive Bayes Classifier:\\n')\n",
        "print('Confusion Matrix:\\n',confusion_matrix(y_testtl,pred_nb))\n",
        "print('\\nClassification Report:\\n',classification_report(y_testtl,pred_nb,digits=6))\n",
        "\n",
        "print('\\n5-Support Vector Machine:\\n')\n",
        "print('Confusion Matrix:\\n',confusion_matrix(y_testtl,pred_svc))\n",
        "print('\\nClassification Report:\\n',classification_report(y_testtl,pred_svc,digits=6))"
      ],
      "execution_count": 196,
      "outputs": [
        {
          "output_type": "stream",
          "text": [
            "1-Logistic Regression:\n",
            "\n",
            "Confusion Matrix:\n",
            " [[84877     0]\n",
            " [  153     0]]\n",
            "\n",
            "Classification Report:\n",
            "               precision    recall  f1-score   support\n",
            "\n",
            "           0   0.998201  1.000000  0.999100     84877\n",
            "           1   0.000000  0.000000  0.000000       153\n",
            "\n",
            "    accuracy                       0.998201     85030\n",
            "   macro avg   0.499100  0.500000  0.499550     85030\n",
            "weighted avg   0.996405  0.998201  0.997302     85030\n",
            "\n",
            "\n",
            "2-K Nearest Neighbours:\n",
            "\n"
          ],
          "name": "stdout"
        },
        {
          "output_type": "stream",
          "text": [
            "/usr/local/lib/python3.6/dist-packages/sklearn/metrics/_classification.py:1272: UndefinedMetricWarning: Precision and F-score are ill-defined and being set to 0.0 in labels with no predicted samples. Use `zero_division` parameter to control this behavior.\n",
            "  _warn_prf(average, modifier, msg_start, len(result))\n"
          ],
          "name": "stderr"
        },
        {
          "output_type": "stream",
          "text": [
            "Confusion Matrix:\n",
            " [[84875     2]\n",
            " [  153     0]]\n",
            "\n",
            "Classification Report:\n",
            "               precision    recall  f1-score   support\n",
            "\n",
            "           0   0.998201  0.999976  0.999088     84877\n",
            "           1   0.000000  0.000000  0.000000       153\n",
            "\n",
            "    accuracy                       0.998177     85030\n",
            "   macro avg   0.499100  0.499988  0.499544     85030\n",
            "weighted avg   0.996404  0.998177  0.997290     85030\n",
            "\n",
            "\n",
            "3-Random Forest Classifier:\n",
            "\n",
            "Confusion Matrix:\n",
            " [[84873     4]\n",
            " [  149     4]]\n",
            "\n",
            "Classification Report:\n",
            "               precision    recall  f1-score   support\n",
            "\n",
            "           0   0.998248  0.999953  0.999099     84877\n",
            "           1   0.500000  0.026144  0.049689       153\n",
            "\n",
            "    accuracy                       0.998201     85030\n",
            "   macro avg   0.749124  0.513048  0.524394     85030\n",
            "weighted avg   0.997351  0.998201  0.997391     85030\n",
            "\n",
            "\n",
            "4-Naive Bayes Classifier:\n",
            "\n",
            "Confusion Matrix:\n",
            " [[84877     0]\n",
            " [  153     0]]\n",
            "\n",
            "Classification Report:\n",
            "               precision    recall  f1-score   support\n",
            "\n",
            "           0   0.998201  1.000000  0.999100     84877\n",
            "           1   0.000000  0.000000  0.000000       153\n",
            "\n",
            "    accuracy                       0.998201     85030\n",
            "   macro avg   0.499100  0.500000  0.499550     85030\n",
            "weighted avg   0.996405  0.998201  0.997302     85030\n",
            "\n",
            "\n",
            "5-Support Vector Machine:\n",
            "\n",
            "Confusion Matrix:\n",
            " [[84877     0]\n",
            " [  153     0]]\n",
            "\n",
            "Classification Report:\n",
            "               precision    recall  f1-score   support\n",
            "\n",
            "           0   0.998201  1.000000  0.999100     84877\n",
            "           1   0.000000  0.000000  0.000000       153\n",
            "\n",
            "    accuracy                       0.998201     85030\n",
            "   macro avg   0.499100  0.500000  0.499550     85030\n",
            "weighted avg   0.996405  0.998201  0.997302     85030\n",
            "\n"
          ],
          "name": "stdout"
        }
      ]
    }
  ]
}