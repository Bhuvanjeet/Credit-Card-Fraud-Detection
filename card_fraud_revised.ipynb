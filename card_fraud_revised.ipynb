{
  "nbformat": 4,
  "nbformat_minor": 0,
  "metadata": {
    "colab": {
      "name": "card_fraud_revised.ipynb",
      "provenance": [],
      "collapsed_sections": [],
      "authorship_tag": "ABX9TyPcJUwgcLM6hbdvwnePafFN",
      "include_colab_link": true
    },
    "kernelspec": {
      "name": "python3",
      "display_name": "Python 3"
    },
    "accelerator": "GPU"
  },
  "cells": [
    {
      "cell_type": "markdown",
      "metadata": {
        "id": "view-in-github",
        "colab_type": "text"
      },
      "source": [
        "<a href=\"https://colab.research.google.com/github/Bhuvanjeet/Credit-Card-Fraud-Detection/blob/master/card_fraud_revised.ipynb\" target=\"_parent\"><img src=\"https://colab.research.google.com/assets/colab-badge.svg\" alt=\"Open In Colab\"/></a>"
      ]
    },
    {
      "cell_type": "markdown",
      "metadata": {
        "id": "766FqUzsS7bH",
        "colab_type": "text"
      },
      "source": [
        "**Credit Card Fraud Detection**\n",
        "\n",
        "It is important that credit card companies are able to recognize fraudulent credit card transactions so that customers are not charged for items that they did not purchase.\n",
        "\n",
        "The datasets contains transactions made by credit cards in September 2013 by european cardholders.\n",
        "This dataset presents transactions that occurred in two days, where we have 492 frauds out of 284,807 transactions. The dataset is **highly unbalanced**, the positive class (frauds) account for 0.172% of all transactions.\n",
        "\n",
        "It contains only numerical input variables which are the result of a PCA transformation. Unfortunately, due to confidentiality issues, we cannot provide the original features and more background information about the data. Features V1, V2, … V28 are the principal components obtained with PCA, the only features which have not been transformed with PCA are 'Time' and 'Amount'. Feature 'Time' contains the seconds elapsed between each transaction and the first transaction in the dataset. The feature 'Amount' is the transaction Amount, this feature can be used for example-dependant cost-senstive learning. Feature 'Class' is the response variable and it takes value 1 in case of fraud and 0 otherwise.\n",
        "\n",
        "To Identify: - Fraudulent credit card transactions.\n",
        "\n",
        "Source:- https://www.kaggle.com/mlg-ulb/creditcardfraud\n",
        "\n",
        "**Project Overview :**\n",
        "\n",
        "**1- Exploratory Data Analysis - EDA**\n",
        "\n",
        "**2- Data Visualization**\n",
        "\n",
        "**3- Outliers Detection**\n",
        "\n",
        "**4- Inference from Data Visualization**\n",
        "\n",
        "**5- Data Pre-processing and Decomposition**\n",
        "\n",
        "**6- Resampling - SMOTEENN**\n",
        "\n",
        "\n",
        "**7- Machine Learning Algorithms on Resampled data:**\n",
        "\n",
        "\n",
        "    1- Logistic Regression\n",
        "\n",
        "    2- K Nearest Neighbors (KNN)\n",
        "\n",
        "    3- Random Forest Classifier\n",
        "\n",
        "    4- Naive Bayes Classifier\n",
        "\n",
        "    5- Deep Neural Network\n",
        "\n",
        "**8- Results and Comparison**\n",
        "\n"
      ]
    },
    {
      "cell_type": "markdown",
      "metadata": {
        "id": "LcAgFguuJjgu",
        "colab_type": "text"
      },
      "source": [
        "**Exploratory Data Analysis - EDA**"
      ]
    },
    {
      "cell_type": "code",
      "metadata": {
        "id": "8C3pD-aWJyDF",
        "colab_type": "code",
        "colab": {}
      },
      "source": [
        "import pandas as pd\n",
        "import pandas.testing as tm\n",
        "import numpy as np\n",
        "import matplotlib.pyplot as plt\n",
        "import seaborn as sns\n",
        "import statsmodels.api as sm\n",
        "%matplotlib inline"
      ],
      "execution_count": 0,
      "outputs": []
    },
    {
      "cell_type": "code",
      "metadata": {
        "id": "cZjA9dLKRsBb",
        "colab_type": "code",
        "colab": {}
      },
      "source": [
        "from pydrive.auth import GoogleAuth\n",
        "from pydrive.drive import GoogleDrive\n",
        "from google.colab import auth\n",
        "from oauth2client.client import GoogleCredentials\n",
        "# Authenticate and create the PyDrive client.\n",
        "auth.authenticate_user()\n",
        "gauth = GoogleAuth()\n",
        "gauth.credentials = GoogleCredentials.get_application_default()\n",
        "drive = GoogleDrive(gauth)"
      ],
      "execution_count": 0,
      "outputs": []
    },
    {
      "cell_type": "code",
      "metadata": {
        "id": "cTmEpZbkR8Sj",
        "colab_type": "code",
        "colab": {}
      },
      "source": [
        "link='https://drive.google.com/open?id=1YyM8W6_oS_gJ0-m35LERdg_lZg_HWK1F'"
      ],
      "execution_count": 0,
      "outputs": []
    },
    {
      "cell_type": "code",
      "metadata": {
        "id": "NCuEpPrNSdkj",
        "colab_type": "code",
        "outputId": "557f5fe4-7536-41ab-b724-7188e115a72a",
        "colab": {
          "base_uri": "https://localhost:8080/",
          "height": 34
        }
      },
      "source": [
        "fluff, id = link.split('=')\n",
        "print (id) # Verify that you have everything after '='"
      ],
      "execution_count": 69,
      "outputs": [
        {
          "output_type": "stream",
          "text": [
            "1YyM8W6_oS_gJ0-m35LERdg_lZg_HWK1F\n"
          ],
          "name": "stdout"
        }
      ]
    },
    {
      "cell_type": "code",
      "metadata": {
        "id": "vs7WqYZmSfeY",
        "colab_type": "code",
        "colab": {}
      },
      "source": [
        "downloaded = drive.CreateFile({'id':id})\n",
        "downloaded.GetContentFile('creditcard.csv')"
      ],
      "execution_count": 0,
      "outputs": []
    },
    {
      "cell_type": "code",
      "metadata": {
        "id": "Ag79obqKSi1L",
        "colab_type": "code",
        "colab": {}
      },
      "source": [
        "df=pd.read_csv('creditcard.csv')"
      ],
      "execution_count": 0,
      "outputs": []
    },
    {
      "cell_type": "code",
      "metadata": {
        "id": "oNeU1J0RSodq",
        "colab_type": "code",
        "outputId": "651821dd-d8c9-450a-85c3-fee0e7cd4653",
        "colab": {
          "base_uri": "https://localhost:8080/",
          "height": 215
        }
      },
      "source": [
        "df.head()"
      ],
      "execution_count": 72,
      "outputs": [
        {
          "output_type": "execute_result",
          "data": {
            "text/html": [
              "<div>\n",
              "<style scoped>\n",
              "    .dataframe tbody tr th:only-of-type {\n",
              "        vertical-align: middle;\n",
              "    }\n",
              "\n",
              "    .dataframe tbody tr th {\n",
              "        vertical-align: top;\n",
              "    }\n",
              "\n",
              "    .dataframe thead th {\n",
              "        text-align: right;\n",
              "    }\n",
              "</style>\n",
              "<table border=\"1\" class=\"dataframe\">\n",
              "  <thead>\n",
              "    <tr style=\"text-align: right;\">\n",
              "      <th></th>\n",
              "      <th>Time</th>\n",
              "      <th>V1</th>\n",
              "      <th>V2</th>\n",
              "      <th>V3</th>\n",
              "      <th>V4</th>\n",
              "      <th>V5</th>\n",
              "      <th>V6</th>\n",
              "      <th>V7</th>\n",
              "      <th>V8</th>\n",
              "      <th>V9</th>\n",
              "      <th>V10</th>\n",
              "      <th>V11</th>\n",
              "      <th>V12</th>\n",
              "      <th>V13</th>\n",
              "      <th>V14</th>\n",
              "      <th>V15</th>\n",
              "      <th>V16</th>\n",
              "      <th>V17</th>\n",
              "      <th>V18</th>\n",
              "      <th>V19</th>\n",
              "      <th>V20</th>\n",
              "      <th>V21</th>\n",
              "      <th>V22</th>\n",
              "      <th>V23</th>\n",
              "      <th>V24</th>\n",
              "      <th>V25</th>\n",
              "      <th>V26</th>\n",
              "      <th>V27</th>\n",
              "      <th>V28</th>\n",
              "      <th>Amount</th>\n",
              "      <th>Class</th>\n",
              "    </tr>\n",
              "  </thead>\n",
              "  <tbody>\n",
              "    <tr>\n",
              "      <th>0</th>\n",
              "      <td>0.0</td>\n",
              "      <td>-1.359807</td>\n",
              "      <td>-0.072781</td>\n",
              "      <td>2.536347</td>\n",
              "      <td>1.378155</td>\n",
              "      <td>-0.338321</td>\n",
              "      <td>0.462388</td>\n",
              "      <td>0.239599</td>\n",
              "      <td>0.098698</td>\n",
              "      <td>0.363787</td>\n",
              "      <td>0.090794</td>\n",
              "      <td>-0.551600</td>\n",
              "      <td>-0.617801</td>\n",
              "      <td>-0.991390</td>\n",
              "      <td>-0.311169</td>\n",
              "      <td>1.468177</td>\n",
              "      <td>-0.470401</td>\n",
              "      <td>0.207971</td>\n",
              "      <td>0.025791</td>\n",
              "      <td>0.403993</td>\n",
              "      <td>0.251412</td>\n",
              "      <td>-0.018307</td>\n",
              "      <td>0.277838</td>\n",
              "      <td>-0.110474</td>\n",
              "      <td>0.066928</td>\n",
              "      <td>0.128539</td>\n",
              "      <td>-0.189115</td>\n",
              "      <td>0.133558</td>\n",
              "      <td>-0.021053</td>\n",
              "      <td>149.62</td>\n",
              "      <td>0</td>\n",
              "    </tr>\n",
              "    <tr>\n",
              "      <th>1</th>\n",
              "      <td>0.0</td>\n",
              "      <td>1.191857</td>\n",
              "      <td>0.266151</td>\n",
              "      <td>0.166480</td>\n",
              "      <td>0.448154</td>\n",
              "      <td>0.060018</td>\n",
              "      <td>-0.082361</td>\n",
              "      <td>-0.078803</td>\n",
              "      <td>0.085102</td>\n",
              "      <td>-0.255425</td>\n",
              "      <td>-0.166974</td>\n",
              "      <td>1.612727</td>\n",
              "      <td>1.065235</td>\n",
              "      <td>0.489095</td>\n",
              "      <td>-0.143772</td>\n",
              "      <td>0.635558</td>\n",
              "      <td>0.463917</td>\n",
              "      <td>-0.114805</td>\n",
              "      <td>-0.183361</td>\n",
              "      <td>-0.145783</td>\n",
              "      <td>-0.069083</td>\n",
              "      <td>-0.225775</td>\n",
              "      <td>-0.638672</td>\n",
              "      <td>0.101288</td>\n",
              "      <td>-0.339846</td>\n",
              "      <td>0.167170</td>\n",
              "      <td>0.125895</td>\n",
              "      <td>-0.008983</td>\n",
              "      <td>0.014724</td>\n",
              "      <td>2.69</td>\n",
              "      <td>0</td>\n",
              "    </tr>\n",
              "    <tr>\n",
              "      <th>2</th>\n",
              "      <td>1.0</td>\n",
              "      <td>-1.358354</td>\n",
              "      <td>-1.340163</td>\n",
              "      <td>1.773209</td>\n",
              "      <td>0.379780</td>\n",
              "      <td>-0.503198</td>\n",
              "      <td>1.800499</td>\n",
              "      <td>0.791461</td>\n",
              "      <td>0.247676</td>\n",
              "      <td>-1.514654</td>\n",
              "      <td>0.207643</td>\n",
              "      <td>0.624501</td>\n",
              "      <td>0.066084</td>\n",
              "      <td>0.717293</td>\n",
              "      <td>-0.165946</td>\n",
              "      <td>2.345865</td>\n",
              "      <td>-2.890083</td>\n",
              "      <td>1.109969</td>\n",
              "      <td>-0.121359</td>\n",
              "      <td>-2.261857</td>\n",
              "      <td>0.524980</td>\n",
              "      <td>0.247998</td>\n",
              "      <td>0.771679</td>\n",
              "      <td>0.909412</td>\n",
              "      <td>-0.689281</td>\n",
              "      <td>-0.327642</td>\n",
              "      <td>-0.139097</td>\n",
              "      <td>-0.055353</td>\n",
              "      <td>-0.059752</td>\n",
              "      <td>378.66</td>\n",
              "      <td>0</td>\n",
              "    </tr>\n",
              "    <tr>\n",
              "      <th>3</th>\n",
              "      <td>1.0</td>\n",
              "      <td>-0.966272</td>\n",
              "      <td>-0.185226</td>\n",
              "      <td>1.792993</td>\n",
              "      <td>-0.863291</td>\n",
              "      <td>-0.010309</td>\n",
              "      <td>1.247203</td>\n",
              "      <td>0.237609</td>\n",
              "      <td>0.377436</td>\n",
              "      <td>-1.387024</td>\n",
              "      <td>-0.054952</td>\n",
              "      <td>-0.226487</td>\n",
              "      <td>0.178228</td>\n",
              "      <td>0.507757</td>\n",
              "      <td>-0.287924</td>\n",
              "      <td>-0.631418</td>\n",
              "      <td>-1.059647</td>\n",
              "      <td>-0.684093</td>\n",
              "      <td>1.965775</td>\n",
              "      <td>-1.232622</td>\n",
              "      <td>-0.208038</td>\n",
              "      <td>-0.108300</td>\n",
              "      <td>0.005274</td>\n",
              "      <td>-0.190321</td>\n",
              "      <td>-1.175575</td>\n",
              "      <td>0.647376</td>\n",
              "      <td>-0.221929</td>\n",
              "      <td>0.062723</td>\n",
              "      <td>0.061458</td>\n",
              "      <td>123.50</td>\n",
              "      <td>0</td>\n",
              "    </tr>\n",
              "    <tr>\n",
              "      <th>4</th>\n",
              "      <td>2.0</td>\n",
              "      <td>-1.158233</td>\n",
              "      <td>0.877737</td>\n",
              "      <td>1.548718</td>\n",
              "      <td>0.403034</td>\n",
              "      <td>-0.407193</td>\n",
              "      <td>0.095921</td>\n",
              "      <td>0.592941</td>\n",
              "      <td>-0.270533</td>\n",
              "      <td>0.817739</td>\n",
              "      <td>0.753074</td>\n",
              "      <td>-0.822843</td>\n",
              "      <td>0.538196</td>\n",
              "      <td>1.345852</td>\n",
              "      <td>-1.119670</td>\n",
              "      <td>0.175121</td>\n",
              "      <td>-0.451449</td>\n",
              "      <td>-0.237033</td>\n",
              "      <td>-0.038195</td>\n",
              "      <td>0.803487</td>\n",
              "      <td>0.408542</td>\n",
              "      <td>-0.009431</td>\n",
              "      <td>0.798278</td>\n",
              "      <td>-0.137458</td>\n",
              "      <td>0.141267</td>\n",
              "      <td>-0.206010</td>\n",
              "      <td>0.502292</td>\n",
              "      <td>0.219422</td>\n",
              "      <td>0.215153</td>\n",
              "      <td>69.99</td>\n",
              "      <td>0</td>\n",
              "    </tr>\n",
              "  </tbody>\n",
              "</table>\n",
              "</div>"
            ],
            "text/plain": [
              "   Time        V1        V2        V3  ...       V27       V28  Amount  Class\n",
              "0   0.0 -1.359807 -0.072781  2.536347  ...  0.133558 -0.021053  149.62      0\n",
              "1   0.0  1.191857  0.266151  0.166480  ... -0.008983  0.014724    2.69      0\n",
              "2   1.0 -1.358354 -1.340163  1.773209  ... -0.055353 -0.059752  378.66      0\n",
              "3   1.0 -0.966272 -0.185226  1.792993  ...  0.062723  0.061458  123.50      0\n",
              "4   2.0 -1.158233  0.877737  1.548718  ...  0.219422  0.215153   69.99      0\n",
              "\n",
              "[5 rows x 31 columns]"
            ]
          },
          "metadata": {
            "tags": []
          },
          "execution_count": 72
        }
      ]
    },
    {
      "cell_type": "code",
      "metadata": {
        "id": "2W_-j3877PrQ",
        "colab_type": "code",
        "outputId": "ae943d4a-c3bd-408b-9e27-07230b2956b2",
        "colab": {
          "base_uri": "https://localhost:8080/",
          "height": 655
        }
      },
      "source": [
        "df.info()"
      ],
      "execution_count": 73,
      "outputs": [
        {
          "output_type": "stream",
          "text": [
            "<class 'pandas.core.frame.DataFrame'>\n",
            "RangeIndex: 284807 entries, 0 to 284806\n",
            "Data columns (total 31 columns):\n",
            " #   Column  Non-Null Count   Dtype  \n",
            "---  ------  --------------   -----  \n",
            " 0   Time    284807 non-null  float64\n",
            " 1   V1      284807 non-null  float64\n",
            " 2   V2      284807 non-null  float64\n",
            " 3   V3      284807 non-null  float64\n",
            " 4   V4      284807 non-null  float64\n",
            " 5   V5      284807 non-null  float64\n",
            " 6   V6      284807 non-null  float64\n",
            " 7   V7      284807 non-null  float64\n",
            " 8   V8      284807 non-null  float64\n",
            " 9   V9      284807 non-null  float64\n",
            " 10  V10     284807 non-null  float64\n",
            " 11  V11     284807 non-null  float64\n",
            " 12  V12     284807 non-null  float64\n",
            " 13  V13     284807 non-null  float64\n",
            " 14  V14     284807 non-null  float64\n",
            " 15  V15     284807 non-null  float64\n",
            " 16  V16     284807 non-null  float64\n",
            " 17  V17     284807 non-null  float64\n",
            " 18  V18     284807 non-null  float64\n",
            " 19  V19     284807 non-null  float64\n",
            " 20  V20     284807 non-null  float64\n",
            " 21  V21     284807 non-null  float64\n",
            " 22  V22     284807 non-null  float64\n",
            " 23  V23     284807 non-null  float64\n",
            " 24  V24     284807 non-null  float64\n",
            " 25  V25     284807 non-null  float64\n",
            " 26  V26     284807 non-null  float64\n",
            " 27  V27     284807 non-null  float64\n",
            " 28  V28     284807 non-null  float64\n",
            " 29  Amount  284807 non-null  float64\n",
            " 30  Class   284807 non-null  int64  \n",
            "dtypes: float64(30), int64(1)\n",
            "memory usage: 67.4 MB\n"
          ],
          "name": "stdout"
        }
      ]
    },
    {
      "cell_type": "code",
      "metadata": {
        "id": "BVEG1qe4S4og",
        "colab_type": "code",
        "outputId": "b7764a65-7b43-4b8c-e19b-3d4ed56ecc8e",
        "colab": {
          "base_uri": "https://localhost:8080/",
          "height": 554
        }
      },
      "source": [
        "df.isnull().sum()"
      ],
      "execution_count": 74,
      "outputs": [
        {
          "output_type": "execute_result",
          "data": {
            "text/plain": [
              "Time      0\n",
              "V1        0\n",
              "V2        0\n",
              "V3        0\n",
              "V4        0\n",
              "V5        0\n",
              "V6        0\n",
              "V7        0\n",
              "V8        0\n",
              "V9        0\n",
              "V10       0\n",
              "V11       0\n",
              "V12       0\n",
              "V13       0\n",
              "V14       0\n",
              "V15       0\n",
              "V16       0\n",
              "V17       0\n",
              "V18       0\n",
              "V19       0\n",
              "V20       0\n",
              "V21       0\n",
              "V22       0\n",
              "V23       0\n",
              "V24       0\n",
              "V25       0\n",
              "V26       0\n",
              "V27       0\n",
              "V28       0\n",
              "Amount    0\n",
              "Class     0\n",
              "dtype: int64"
            ]
          },
          "metadata": {
            "tags": []
          },
          "execution_count": 74
        }
      ]
    },
    {
      "cell_type": "code",
      "metadata": {
        "id": "uRC3xZdi7KLF",
        "colab_type": "code",
        "outputId": "e8d37637-92aa-4345-f8fa-b67ff599b92d",
        "colab": {
          "base_uri": "https://localhost:8080/",
          "height": 34
        }
      },
      "source": [
        "df['Class'].unique()"
      ],
      "execution_count": 75,
      "outputs": [
        {
          "output_type": "execute_result",
          "data": {
            "text/plain": [
              "array([0, 1])"
            ]
          },
          "metadata": {
            "tags": []
          },
          "execution_count": 75
        }
      ]
    },
    {
      "cell_type": "code",
      "metadata": {
        "id": "YdVJFDVl7i5u",
        "colab_type": "code",
        "outputId": "25388a51-0fd2-4a45-9447-8585c0f3d7af",
        "colab": {
          "base_uri": "https://localhost:8080/",
          "height": 34
        }
      },
      "source": [
        "sum(df.duplicated())"
      ],
      "execution_count": 76,
      "outputs": [
        {
          "output_type": "execute_result",
          "data": {
            "text/plain": [
              "1081"
            ]
          },
          "metadata": {
            "tags": []
          },
          "execution_count": 76
        }
      ]
    },
    {
      "cell_type": "code",
      "metadata": {
        "id": "SiqKeomM780j",
        "colab_type": "code",
        "colab": {}
      },
      "source": [
        "df.drop_duplicates(inplace=True)"
      ],
      "execution_count": 0,
      "outputs": []
    },
    {
      "cell_type": "code",
      "metadata": {
        "id": "zUOJOCtr789E",
        "colab_type": "code",
        "outputId": "df655a65-fdd3-40a8-aecd-2f8f7c9833ee",
        "colab": {
          "base_uri": "https://localhost:8080/",
          "height": 34
        }
      },
      "source": [
        "sum(df.duplicated())"
      ],
      "execution_count": 78,
      "outputs": [
        {
          "output_type": "execute_result",
          "data": {
            "text/plain": [
              "0"
            ]
          },
          "metadata": {
            "tags": []
          },
          "execution_count": 78
        }
      ]
    },
    {
      "cell_type": "code",
      "metadata": {
        "id": "aN3y4tpg79DP",
        "colab_type": "code",
        "outputId": "3d2dda72-30ea-402d-8d34-25159fdf2845",
        "colab": {
          "base_uri": "https://localhost:8080/",
          "height": 34
        }
      },
      "source": [
        "df.shape"
      ],
      "execution_count": 79,
      "outputs": [
        {
          "output_type": "execute_result",
          "data": {
            "text/plain": [
              "(283726, 31)"
            ]
          },
          "metadata": {
            "tags": []
          },
          "execution_count": 79
        }
      ]
    },
    {
      "cell_type": "code",
      "metadata": {
        "id": "RSZPXl7B79I_",
        "colab_type": "code",
        "outputId": "29a589ca-e12d-4202-dd60-a99837591fc7",
        "colab": {
          "base_uri": "https://localhost:8080/",
          "height": 965
        }
      },
      "source": [
        "df.describe().transpose()"
      ],
      "execution_count": 80,
      "outputs": [
        {
          "output_type": "execute_result",
          "data": {
            "text/html": [
              "<div>\n",
              "<style scoped>\n",
              "    .dataframe tbody tr th:only-of-type {\n",
              "        vertical-align: middle;\n",
              "    }\n",
              "\n",
              "    .dataframe tbody tr th {\n",
              "        vertical-align: top;\n",
              "    }\n",
              "\n",
              "    .dataframe thead th {\n",
              "        text-align: right;\n",
              "    }\n",
              "</style>\n",
              "<table border=\"1\" class=\"dataframe\">\n",
              "  <thead>\n",
              "    <tr style=\"text-align: right;\">\n",
              "      <th></th>\n",
              "      <th>count</th>\n",
              "      <th>mean</th>\n",
              "      <th>std</th>\n",
              "      <th>min</th>\n",
              "      <th>25%</th>\n",
              "      <th>50%</th>\n",
              "      <th>75%</th>\n",
              "      <th>max</th>\n",
              "    </tr>\n",
              "  </thead>\n",
              "  <tbody>\n",
              "    <tr>\n",
              "      <th>Time</th>\n",
              "      <td>283726.0</td>\n",
              "      <td>94811.077600</td>\n",
              "      <td>47481.047891</td>\n",
              "      <td>0.000000</td>\n",
              "      <td>54204.750000</td>\n",
              "      <td>84692.500000</td>\n",
              "      <td>139298.000000</td>\n",
              "      <td>172792.000000</td>\n",
              "    </tr>\n",
              "    <tr>\n",
              "      <th>V1</th>\n",
              "      <td>283726.0</td>\n",
              "      <td>0.005917</td>\n",
              "      <td>1.948026</td>\n",
              "      <td>-56.407510</td>\n",
              "      <td>-0.915951</td>\n",
              "      <td>0.020384</td>\n",
              "      <td>1.316068</td>\n",
              "      <td>2.454930</td>\n",
              "    </tr>\n",
              "    <tr>\n",
              "      <th>V2</th>\n",
              "      <td>283726.0</td>\n",
              "      <td>-0.004135</td>\n",
              "      <td>1.646703</td>\n",
              "      <td>-72.715728</td>\n",
              "      <td>-0.600321</td>\n",
              "      <td>0.063949</td>\n",
              "      <td>0.800283</td>\n",
              "      <td>22.057729</td>\n",
              "    </tr>\n",
              "    <tr>\n",
              "      <th>V3</th>\n",
              "      <td>283726.0</td>\n",
              "      <td>0.001613</td>\n",
              "      <td>1.508682</td>\n",
              "      <td>-48.325589</td>\n",
              "      <td>-0.889682</td>\n",
              "      <td>0.179963</td>\n",
              "      <td>1.026960</td>\n",
              "      <td>9.382558</td>\n",
              "    </tr>\n",
              "    <tr>\n",
              "      <th>V4</th>\n",
              "      <td>283726.0</td>\n",
              "      <td>-0.002966</td>\n",
              "      <td>1.414184</td>\n",
              "      <td>-5.683171</td>\n",
              "      <td>-0.850134</td>\n",
              "      <td>-0.022248</td>\n",
              "      <td>0.739647</td>\n",
              "      <td>16.875344</td>\n",
              "    </tr>\n",
              "    <tr>\n",
              "      <th>V5</th>\n",
              "      <td>283726.0</td>\n",
              "      <td>0.001828</td>\n",
              "      <td>1.377008</td>\n",
              "      <td>-113.743307</td>\n",
              "      <td>-0.689830</td>\n",
              "      <td>-0.053468</td>\n",
              "      <td>0.612218</td>\n",
              "      <td>34.801666</td>\n",
              "    </tr>\n",
              "    <tr>\n",
              "      <th>V6</th>\n",
              "      <td>283726.0</td>\n",
              "      <td>-0.001139</td>\n",
              "      <td>1.331931</td>\n",
              "      <td>-26.160506</td>\n",
              "      <td>-0.769031</td>\n",
              "      <td>-0.275168</td>\n",
              "      <td>0.396792</td>\n",
              "      <td>73.301626</td>\n",
              "    </tr>\n",
              "    <tr>\n",
              "      <th>V7</th>\n",
              "      <td>283726.0</td>\n",
              "      <td>0.001801</td>\n",
              "      <td>1.227664</td>\n",
              "      <td>-43.557242</td>\n",
              "      <td>-0.552509</td>\n",
              "      <td>0.040859</td>\n",
              "      <td>0.570474</td>\n",
              "      <td>120.589494</td>\n",
              "    </tr>\n",
              "    <tr>\n",
              "      <th>V8</th>\n",
              "      <td>283726.0</td>\n",
              "      <td>-0.000854</td>\n",
              "      <td>1.179054</td>\n",
              "      <td>-73.216718</td>\n",
              "      <td>-0.208828</td>\n",
              "      <td>0.021898</td>\n",
              "      <td>0.325704</td>\n",
              "      <td>20.007208</td>\n",
              "    </tr>\n",
              "    <tr>\n",
              "      <th>V9</th>\n",
              "      <td>283726.0</td>\n",
              "      <td>-0.001596</td>\n",
              "      <td>1.095492</td>\n",
              "      <td>-13.434066</td>\n",
              "      <td>-0.644221</td>\n",
              "      <td>-0.052596</td>\n",
              "      <td>0.595977</td>\n",
              "      <td>15.594995</td>\n",
              "    </tr>\n",
              "    <tr>\n",
              "      <th>V10</th>\n",
              "      <td>283726.0</td>\n",
              "      <td>-0.001441</td>\n",
              "      <td>1.076407</td>\n",
              "      <td>-24.588262</td>\n",
              "      <td>-0.535578</td>\n",
              "      <td>-0.093237</td>\n",
              "      <td>0.453619</td>\n",
              "      <td>23.745136</td>\n",
              "    </tr>\n",
              "    <tr>\n",
              "      <th>V11</th>\n",
              "      <td>283726.0</td>\n",
              "      <td>0.000202</td>\n",
              "      <td>1.018720</td>\n",
              "      <td>-4.797473</td>\n",
              "      <td>-0.761649</td>\n",
              "      <td>-0.032306</td>\n",
              "      <td>0.739579</td>\n",
              "      <td>12.018913</td>\n",
              "    </tr>\n",
              "    <tr>\n",
              "      <th>V12</th>\n",
              "      <td>283726.0</td>\n",
              "      <td>-0.000715</td>\n",
              "      <td>0.994674</td>\n",
              "      <td>-18.683715</td>\n",
              "      <td>-0.406198</td>\n",
              "      <td>0.139072</td>\n",
              "      <td>0.616976</td>\n",
              "      <td>7.848392</td>\n",
              "    </tr>\n",
              "    <tr>\n",
              "      <th>V13</th>\n",
              "      <td>283726.0</td>\n",
              "      <td>0.000603</td>\n",
              "      <td>0.995430</td>\n",
              "      <td>-5.791881</td>\n",
              "      <td>-0.647862</td>\n",
              "      <td>-0.012927</td>\n",
              "      <td>0.663178</td>\n",
              "      <td>7.126883</td>\n",
              "    </tr>\n",
              "    <tr>\n",
              "      <th>V14</th>\n",
              "      <td>283726.0</td>\n",
              "      <td>0.000252</td>\n",
              "      <td>0.952215</td>\n",
              "      <td>-19.214325</td>\n",
              "      <td>-0.425732</td>\n",
              "      <td>0.050209</td>\n",
              "      <td>0.492336</td>\n",
              "      <td>10.526766</td>\n",
              "    </tr>\n",
              "    <tr>\n",
              "      <th>V15</th>\n",
              "      <td>283726.0</td>\n",
              "      <td>0.001043</td>\n",
              "      <td>0.914894</td>\n",
              "      <td>-4.498945</td>\n",
              "      <td>-0.581452</td>\n",
              "      <td>0.049299</td>\n",
              "      <td>0.650104</td>\n",
              "      <td>8.877742</td>\n",
              "    </tr>\n",
              "    <tr>\n",
              "      <th>V16</th>\n",
              "      <td>283726.0</td>\n",
              "      <td>0.001162</td>\n",
              "      <td>0.873696</td>\n",
              "      <td>-14.129855</td>\n",
              "      <td>-0.466860</td>\n",
              "      <td>0.067119</td>\n",
              "      <td>0.523512</td>\n",
              "      <td>17.315112</td>\n",
              "    </tr>\n",
              "    <tr>\n",
              "      <th>V17</th>\n",
              "      <td>283726.0</td>\n",
              "      <td>0.000170</td>\n",
              "      <td>0.842507</td>\n",
              "      <td>-25.162799</td>\n",
              "      <td>-0.483928</td>\n",
              "      <td>-0.065867</td>\n",
              "      <td>0.398972</td>\n",
              "      <td>9.253526</td>\n",
              "    </tr>\n",
              "    <tr>\n",
              "      <th>V18</th>\n",
              "      <td>283726.0</td>\n",
              "      <td>0.001515</td>\n",
              "      <td>0.837378</td>\n",
              "      <td>-9.498746</td>\n",
              "      <td>-0.498014</td>\n",
              "      <td>-0.002142</td>\n",
              "      <td>0.501956</td>\n",
              "      <td>5.041069</td>\n",
              "    </tr>\n",
              "    <tr>\n",
              "      <th>V19</th>\n",
              "      <td>283726.0</td>\n",
              "      <td>-0.000264</td>\n",
              "      <td>0.813379</td>\n",
              "      <td>-7.213527</td>\n",
              "      <td>-0.456289</td>\n",
              "      <td>0.003367</td>\n",
              "      <td>0.458508</td>\n",
              "      <td>5.591971</td>\n",
              "    </tr>\n",
              "    <tr>\n",
              "      <th>V20</th>\n",
              "      <td>283726.0</td>\n",
              "      <td>0.000187</td>\n",
              "      <td>0.769984</td>\n",
              "      <td>-54.497720</td>\n",
              "      <td>-0.211469</td>\n",
              "      <td>-0.062353</td>\n",
              "      <td>0.133207</td>\n",
              "      <td>39.420904</td>\n",
              "    </tr>\n",
              "    <tr>\n",
              "      <th>V21</th>\n",
              "      <td>283726.0</td>\n",
              "      <td>-0.000371</td>\n",
              "      <td>0.723909</td>\n",
              "      <td>-34.830382</td>\n",
              "      <td>-0.228305</td>\n",
              "      <td>-0.029441</td>\n",
              "      <td>0.186194</td>\n",
              "      <td>27.202839</td>\n",
              "    </tr>\n",
              "    <tr>\n",
              "      <th>V22</th>\n",
              "      <td>283726.0</td>\n",
              "      <td>-0.000015</td>\n",
              "      <td>0.724550</td>\n",
              "      <td>-10.933144</td>\n",
              "      <td>-0.542700</td>\n",
              "      <td>0.006675</td>\n",
              "      <td>0.528245</td>\n",
              "      <td>10.503090</td>\n",
              "    </tr>\n",
              "    <tr>\n",
              "      <th>V23</th>\n",
              "      <td>283726.0</td>\n",
              "      <td>0.000198</td>\n",
              "      <td>0.623702</td>\n",
              "      <td>-44.807735</td>\n",
              "      <td>-0.161703</td>\n",
              "      <td>-0.011159</td>\n",
              "      <td>0.147748</td>\n",
              "      <td>22.528412</td>\n",
              "    </tr>\n",
              "    <tr>\n",
              "      <th>V24</th>\n",
              "      <td>283726.0</td>\n",
              "      <td>0.000214</td>\n",
              "      <td>0.605627</td>\n",
              "      <td>-2.836627</td>\n",
              "      <td>-0.354453</td>\n",
              "      <td>0.041016</td>\n",
              "      <td>0.439738</td>\n",
              "      <td>4.584549</td>\n",
              "    </tr>\n",
              "    <tr>\n",
              "      <th>V25</th>\n",
              "      <td>283726.0</td>\n",
              "      <td>-0.000232</td>\n",
              "      <td>0.521220</td>\n",
              "      <td>-10.295397</td>\n",
              "      <td>-0.317485</td>\n",
              "      <td>0.016278</td>\n",
              "      <td>0.350667</td>\n",
              "      <td>7.519589</td>\n",
              "    </tr>\n",
              "    <tr>\n",
              "      <th>V26</th>\n",
              "      <td>283726.0</td>\n",
              "      <td>0.000149</td>\n",
              "      <td>0.482053</td>\n",
              "      <td>-2.604551</td>\n",
              "      <td>-0.326763</td>\n",
              "      <td>-0.052172</td>\n",
              "      <td>0.240261</td>\n",
              "      <td>3.517346</td>\n",
              "    </tr>\n",
              "    <tr>\n",
              "      <th>V27</th>\n",
              "      <td>283726.0</td>\n",
              "      <td>0.001763</td>\n",
              "      <td>0.395744</td>\n",
              "      <td>-22.565679</td>\n",
              "      <td>-0.070641</td>\n",
              "      <td>0.001479</td>\n",
              "      <td>0.091208</td>\n",
              "      <td>31.612198</td>\n",
              "    </tr>\n",
              "    <tr>\n",
              "      <th>V28</th>\n",
              "      <td>283726.0</td>\n",
              "      <td>0.000547</td>\n",
              "      <td>0.328027</td>\n",
              "      <td>-15.430084</td>\n",
              "      <td>-0.052818</td>\n",
              "      <td>0.011288</td>\n",
              "      <td>0.078276</td>\n",
              "      <td>33.847808</td>\n",
              "    </tr>\n",
              "    <tr>\n",
              "      <th>Amount</th>\n",
              "      <td>283726.0</td>\n",
              "      <td>88.472687</td>\n",
              "      <td>250.399437</td>\n",
              "      <td>0.000000</td>\n",
              "      <td>5.600000</td>\n",
              "      <td>22.000000</td>\n",
              "      <td>77.510000</td>\n",
              "      <td>25691.160000</td>\n",
              "    </tr>\n",
              "    <tr>\n",
              "      <th>Class</th>\n",
              "      <td>283726.0</td>\n",
              "      <td>0.001667</td>\n",
              "      <td>0.040796</td>\n",
              "      <td>0.000000</td>\n",
              "      <td>0.000000</td>\n",
              "      <td>0.000000</td>\n",
              "      <td>0.000000</td>\n",
              "      <td>1.000000</td>\n",
              "    </tr>\n",
              "  </tbody>\n",
              "</table>\n",
              "</div>"
            ],
            "text/plain": [
              "           count          mean  ...            75%            max\n",
              "Time    283726.0  94811.077600  ...  139298.000000  172792.000000\n",
              "V1      283726.0      0.005917  ...       1.316068       2.454930\n",
              "V2      283726.0     -0.004135  ...       0.800283      22.057729\n",
              "V3      283726.0      0.001613  ...       1.026960       9.382558\n",
              "V4      283726.0     -0.002966  ...       0.739647      16.875344\n",
              "V5      283726.0      0.001828  ...       0.612218      34.801666\n",
              "V6      283726.0     -0.001139  ...       0.396792      73.301626\n",
              "V7      283726.0      0.001801  ...       0.570474     120.589494\n",
              "V8      283726.0     -0.000854  ...       0.325704      20.007208\n",
              "V9      283726.0     -0.001596  ...       0.595977      15.594995\n",
              "V10     283726.0     -0.001441  ...       0.453619      23.745136\n",
              "V11     283726.0      0.000202  ...       0.739579      12.018913\n",
              "V12     283726.0     -0.000715  ...       0.616976       7.848392\n",
              "V13     283726.0      0.000603  ...       0.663178       7.126883\n",
              "V14     283726.0      0.000252  ...       0.492336      10.526766\n",
              "V15     283726.0      0.001043  ...       0.650104       8.877742\n",
              "V16     283726.0      0.001162  ...       0.523512      17.315112\n",
              "V17     283726.0      0.000170  ...       0.398972       9.253526\n",
              "V18     283726.0      0.001515  ...       0.501956       5.041069\n",
              "V19     283726.0     -0.000264  ...       0.458508       5.591971\n",
              "V20     283726.0      0.000187  ...       0.133207      39.420904\n",
              "V21     283726.0     -0.000371  ...       0.186194      27.202839\n",
              "V22     283726.0     -0.000015  ...       0.528245      10.503090\n",
              "V23     283726.0      0.000198  ...       0.147748      22.528412\n",
              "V24     283726.0      0.000214  ...       0.439738       4.584549\n",
              "V25     283726.0     -0.000232  ...       0.350667       7.519589\n",
              "V26     283726.0      0.000149  ...       0.240261       3.517346\n",
              "V27     283726.0      0.001763  ...       0.091208      31.612198\n",
              "V28     283726.0      0.000547  ...       0.078276      33.847808\n",
              "Amount  283726.0     88.472687  ...      77.510000   25691.160000\n",
              "Class   283726.0      0.001667  ...       0.000000       1.000000\n",
              "\n",
              "[31 rows x 8 columns]"
            ]
          },
          "metadata": {
            "tags": []
          },
          "execution_count": 80
        }
      ]
    },
    {
      "cell_type": "markdown",
      "metadata": {
        "id": "bKaUfvz4JW12",
        "colab_type": "text"
      },
      "source": [
        "**Data Visualization**"
      ]
    },
    {
      "cell_type": "code",
      "metadata": {
        "id": "FmLhnCZXLrSh",
        "colab_type": "code",
        "outputId": "ee6bb3c6-8051-403e-94c7-d601e599e80f",
        "colab": {
          "base_uri": "https://localhost:8080/",
          "height": 67
        }
      },
      "source": [
        "df['Class'].value_counts()"
      ],
      "execution_count": 81,
      "outputs": [
        {
          "output_type": "execute_result",
          "data": {
            "text/plain": [
              "0    283253\n",
              "1       473\n",
              "Name: Class, dtype: int64"
            ]
          },
          "metadata": {
            "tags": []
          },
          "execution_count": 81
        }
      ]
    },
    {
      "cell_type": "code",
      "metadata": {
        "id": "zgl_9VGmLyjy",
        "colab_type": "code",
        "outputId": "03bfdf7f-52d9-4f73-8c4f-fb79e012006d",
        "colab": {
          "base_uri": "https://localhost:8080/",
          "height": 405
        }
      },
      "source": [
        "plt.figure(figsize=(6,6)) \n",
        "sns.countplot(x='Class',data=df)"
      ],
      "execution_count": 82,
      "outputs": [
        {
          "output_type": "execute_result",
          "data": {
            "text/plain": [
              "<matplotlib.axes._subplots.AxesSubplot at 0x7f1ce44f23c8>"
            ]
          },
          "metadata": {
            "tags": []
          },
          "execution_count": 82
        },
        {
          "output_type": "display_data",
          "data": {
            "image/png": "[encoded data removed]",
            "text/plain": [
              "<Figure size 432x432 with 1 Axes>"
            ]
          },
          "metadata": {
            "tags": [],
            "needs_background": "light"
          }
        }
      ]
    },
    {
      "cell_type": "code",
      "metadata": {
        "id": "wFk75JlQSMFz",
        "colab_type": "code",
        "outputId": "133ab63a-d96d-411c-abc6-e4af958d544f",
        "colab": {
          "base_uri": "https://localhost:8080/",
          "height": 50
        }
      },
      "source": [
        "# % of normal and fraud transactions\n",
        "normal_tranc = len(df[df[\"Class\"]==0])\n",
        "fraud_tranc = len(df[df[\"Class\"]==1])\n",
        "normal_tranc_percent= normal_tranc/(normal_tranc+fraud_tranc)\n",
        "print(\"Percentage of Normal Transacations: \",normal_tranc_percent*100)\n",
        "fraud_tranc_percent = fraud_tranc/(normal_tranc+fraud_tranc)\n",
        "print(\"Percentage of Fraud Transacations: \",fraud_tranc_percent*100)"
      ],
      "execution_count": 83,
      "outputs": [
        {
          "output_type": "stream",
          "text": [
            "Percentage of Normal Transacations:  99.83328986416473\n",
            "Percentage of Fraud Transacations:  0.1667101358352777\n"
          ],
          "name": "stdout"
        }
      ]
    },
    {
      "cell_type": "markdown",
      "metadata": {
        "id": "_Fek_fkvL-JR",
        "colab_type": "text"
      },
      "source": [
        "We see that the data is highly imbalanced since the number of fraud transactions is very less as compared to correct transactions. So we have to avoid this problem or it may affect our accuracy."
      ]
    },
    {
      "cell_type": "code",
      "metadata": {
        "id": "OjaDxBMK0OKW",
        "colab_type": "code",
        "outputId": "1727d869-9f55-4ac3-fcc7-50ec5a77025d",
        "colab": {
          "base_uri": "https://localhost:8080/",
          "height": 282
        }
      },
      "source": [
        "# fraud transaction w.r.t Amount\n",
        "df[df[\"Class\"]==1]['Amount'].plot.hist(bins=20)"
      ],
      "execution_count": 84,
      "outputs": [
        {
          "output_type": "execute_result",
          "data": {
            "text/plain": [
              "<matplotlib.axes._subplots.AxesSubplot at 0x7f1ce2005ef0>"
            ]
          },
          "metadata": {
            "tags": []
          },
          "execution_count": 84
        },
        {
          "output_type": "display_data",
          "data": {
            "image/png": "[encoded data removed]",
            "text/plain": [
              "<Figure size 432x288 with 1 Axes>"
            ]
          },
          "metadata": {
            "tags": [],
            "needs_background": "light"
          }
        }
      ]
    },
    {
      "cell_type": "code",
      "metadata": {
        "id": "-mCbcgRlNM_7",
        "colab_type": "code",
        "outputId": "e8ac71a1-cacb-4056-8232-0c4a8d3af8ef",
        "colab": {
          "base_uri": "https://localhost:8080/",
          "height": 282
        }
      },
      "source": [
        "# normal transaction w.r.t Amount\n",
        "df[df[\"Class\"]==0]['Amount'].plot.hist(bins=20)"
      ],
      "execution_count": 85,
      "outputs": [
        {
          "output_type": "execute_result",
          "data": {
            "text/plain": [
              "<matplotlib.axes._subplots.AxesSubplot at 0x7f1ce1e97400>"
            ]
          },
          "metadata": {
            "tags": []
          },
          "execution_count": 85
        },
        {
          "output_type": "display_data",
          "data": {
            "image/png": "[encoded data removed]",
            "text/plain": [
              "<Figure size 432x288 with 1 Axes>"
            ]
          },
          "metadata": {
            "tags": [],
            "needs_background": "light"
          }
        }
      ]
    },
    {
      "cell_type": "code",
      "metadata": {
        "id": "8wgMzf_jPmfb",
        "colab_type": "code",
        "outputId": "f5b8b853-3dbd-46c2-e400-259e0d8bc71c",
        "colab": {
          "base_uri": "https://localhost:8080/",
          "height": 282
        }
      },
      "source": [
        "# fraud transaction w.r.t Time\n",
        "df[df[\"Class\"]==1]['Time'].plot.hist(bins=20)"
      ],
      "execution_count": 86,
      "outputs": [
        {
          "output_type": "execute_result",
          "data": {
            "text/plain": [
              "<matplotlib.axes._subplots.AxesSubplot at 0x7f1ce24e14e0>"
            ]
          },
          "metadata": {
            "tags": []
          },
          "execution_count": 86
        },
        {
          "output_type": "display_data",
          "data": {
            "image/png": "[encoded data removed]",
            "text/plain": [
              "<Figure size 432x288 with 1 Axes>"
            ]
          },
          "metadata": {
            "tags": [],
            "needs_background": "light"
          }
        }
      ]
    },
    {
      "cell_type": "code",
      "metadata": {
        "id": "RJjiGQblKp-x",
        "colab_type": "code",
        "outputId": "37278cf0-8d8b-43b1-c82a-b0a9185400ad",
        "colab": {
          "base_uri": "https://localhost:8080/",
          "height": 282
        }
      },
      "source": [
        "# normal transaction w.r.t Time\n",
        "df[df[\"Class\"]==0]['Time'].plot.hist(bins=20)"
      ],
      "execution_count": 87,
      "outputs": [
        {
          "output_type": "execute_result",
          "data": {
            "text/plain": [
              "<matplotlib.axes._subplots.AxesSubplot at 0x7f1ce7d0c080>"
            ]
          },
          "metadata": {
            "tags": []
          },
          "execution_count": 87
        },
        {
          "output_type": "display_data",
          "data": {
            "image/png": "[encoded data removed]",
            "text/plain": [
              "<Figure size 432x288 with 1 Axes>"
            ]
          },
          "metadata": {
            "tags": [],
            "needs_background": "light"
          }
        }
      ]
    },
    {
      "cell_type": "code",
      "metadata": {
        "id": "vc2zNf8M79VF",
        "colab_type": "code",
        "outputId": "9457a740-cbec-4e56-c90b-a4581bbe2ea3",
        "colab": {
          "base_uri": "https://localhost:8080/",
          "height": 1000
        }
      },
      "source": [
        "# maps correlation as color encoded matrices.\n",
        "plt.subplots(figsize=(20,20))\n",
        "sns.heatmap(df.corr(),annot=True,cmap='viridis',fmt='.2f')"
      ],
      "execution_count": 88,
      "outputs": [
        {
          "output_type": "execute_result",
          "data": {
            "text/plain": [
              "<matplotlib.axes._subplots.AxesSubplot at 0x7f1ce1ca3f28>"
            ]
          },
          "metadata": {
            "tags": []
          },
          "execution_count": 88
        },
        {
          "output_type": "display_data",
          "data": {
            "image/png": "[encoded data removed]",
            "text/plain": [
              "<Figure size 1440x1440 with 2 Axes>"
            ]
          },
          "metadata": {
            "tags": [],
            "needs_background": "light"
          }
        }
      ]
    },
    {
      "cell_type": "code",
      "metadata": {
        "id": "gSODKeyNNQqP",
        "colab_type": "code",
        "outputId": "058213d7-88b7-42f9-a496-42c555ad5590",
        "colab": {
          "base_uri": "https://localhost:8080/",
          "height": 554
        }
      },
      "source": [
        "# correlation of 'Class' with other features\n",
        "df.corr()['Class'].sort_values(ascending=False)\n",
        "# or 'df.corrwith(df['Class']).sort_values(ascending=False)'"
      ],
      "execution_count": 89,
      "outputs": [
        {
          "output_type": "execute_result",
          "data": {
            "text/plain": [
              "Class     1.000000\n",
              "V11       0.149067\n",
              "V4        0.129326\n",
              "V2        0.084624\n",
              "V19       0.033631\n",
              "V8        0.033068\n",
              "V21       0.026357\n",
              "V27       0.021892\n",
              "V20       0.021486\n",
              "V28       0.009682\n",
              "Amount    0.005777\n",
              "V22       0.004887\n",
              "V26       0.004265\n",
              "V25       0.003202\n",
              "V15      -0.003300\n",
              "V13      -0.003897\n",
              "V23      -0.006333\n",
              "V24      -0.007210\n",
              "Time     -0.012359\n",
              "V6       -0.043915\n",
              "V5       -0.087812\n",
              "V9       -0.094021\n",
              "V1       -0.094486\n",
              "V18      -0.105340\n",
              "V7       -0.172347\n",
              "V3       -0.182322\n",
              "V16      -0.187186\n",
              "V10      -0.206971\n",
              "V12      -0.250711\n",
              "V14      -0.293375\n",
              "V17      -0.313498\n",
              "Name: Class, dtype: float64"
            ]
          },
          "metadata": {
            "tags": []
          },
          "execution_count": 89
        }
      ]
    },
    {
      "cell_type": "code",
      "metadata": {
        "id": "0RBJZCDB79Rd",
        "colab_type": "code",
        "outputId": "4e3489f8-5b3e-4246-ce37-db658fc12aa4",
        "colab": {
          "base_uri": "https://localhost:8080/",
          "height": 633
        }
      },
      "source": [
        "plt.figure(figsize=(20,10))\n",
        "df.corrwith(df['Class']).plot.bar(color='r',grid=True,rot=45)"
      ],
      "execution_count": 90,
      "outputs": [
        {
          "output_type": "execute_result",
          "data": {
            "text/plain": [
              "<matplotlib.axes._subplots.AxesSubplot at 0x7f1cda0f6a90>"
            ]
          },
          "metadata": {
            "tags": []
          },
          "execution_count": 90
        },
        {
          "output_type": "display_data",
          "data": {
            "image/png": "[encoded data removed]",
            "text/plain": [
              "<Figure size 1440x720 with 1 Axes>"
            ]
          },
          "metadata": {
            "tags": [],
            "needs_background": "light"
          }
        }
      ]
    },
    {
      "cell_type": "markdown",
      "metadata": {
        "id": "uBf44hYJSeXt",
        "colab_type": "text"
      },
      "source": [
        "We see that most of the features are correlated with 'Class', so we will not \n",
        "drop any feature."
      ]
    },
    {
      "cell_type": "markdown",
      "metadata": {
        "id": "Xch6Th_TebiO",
        "colab_type": "text"
      },
      "source": [
        "**Outliers Detection**"
      ]
    },
    {
      "cell_type": "code",
      "metadata": {
        "id": "4UhSxG-2hLWN",
        "colab_type": "code",
        "colab": {
          "base_uri": "https://localhost:8080/",
          "height": 295
        },
        "outputId": "3e6f0ed4-e205-4bb2-d5f1-f90fe17d7495"
      },
      "source": [
        "f, axes = plt.subplots(ncols=6, figsize=(20,4))\n",
        "\n",
        "sns.boxplot(x=\"Class\", y=\"V18\", data=df, ax=axes[0])\n",
        "axes[0].set_title('V17 vs Class')\n",
        "\n",
        "sns.boxplot(x=\"Class\", y=\"V17\", data=df, ax=axes[1])\n",
        "axes[1].set_title('V17 vs Class')\n",
        "\n",
        "sns.boxplot(x=\"Class\", y=\"V16\", data=df, ax=axes[2])\n",
        "axes[2].set_title('V14 vs Class')\n",
        "\n",
        "sns.boxplot(x=\"Class\", y=\"V14\", data=df, ax=axes[3])\n",
        "axes[3].set_title('V14 vs Class')\n",
        "\n",
        "sns.boxplot(x=\"Class\", y=\"V12\", data=df, ax=axes[4])\n",
        "axes[4].set_title('V12 vs Class')\n",
        "\n",
        "sns.boxplot(x=\"Class\", y=\"V10\", data=df, ax=axes[5])\n",
        "axes[5].set_title('V10 vs Class')\n",
        "\n",
        "plt.show()"
      ],
      "execution_count": 91,
      "outputs": [
        {
          "output_type": "display_data",
          "data": {
            "image/png": "[encoded data removed]",
            "text/plain": [
              "<Figure size 1440x288 with 6 Axes>"
            ]
          },
          "metadata": {
            "tags": [],
            "needs_background": "light"
          }
        }
      ]
    },
    {
      "cell_type": "markdown",
      "metadata": {
        "id": "2KWLHp4pjFAO",
        "colab_type": "text"
      },
      "source": [
        "In the similar way, we can plot boxplots between 'Class' and other features."
      ]
    },
    {
      "cell_type": "markdown",
      "metadata": {
        "id": "HsQhIO-ylZKy",
        "colab_type": "text"
      },
      "source": [
        "**Inferences from Data Visualization**"
      ]
    },
    {
      "cell_type": "markdown",
      "metadata": {
        "id": "Ko-Pcqa3lGtW",
        "colab_type": "text"
      },
      "source": [
        "\n",
        "1-  V17, V14, V12 and V10 are negatively correlated. Notice how the lower these values are, the more likely the end result will be a fraud transaction.\n",
        "\n",
        "2-  V2, V4, V11, and V19 are positively correlated. Notice how the higher these values are, the more likely the end result will be a fraud transaction."
      ]
    },
    {
      "cell_type": "markdown",
      "metadata": {
        "id": "ojSP1FO5TnD1",
        "colab_type": "text"
      },
      "source": [
        "We see that there are a lot of outliers in the dataset and that we have to remove them or they will affect our result."
      ]
    },
    {
      "cell_type": "markdown",
      "metadata": {
        "id": "gxVh4fsdUEmn",
        "colab_type": "text"
      },
      "source": [
        "Also, till here we have seen that there is no pattern in data as such."
      ]
    },
    {
      "cell_type": "markdown",
      "metadata": {
        "id": "mHP2YWc3yhwS",
        "colab_type": "text"
      },
      "source": [
        "**Data Pre-processing and Decomposition**"
      ]
    },
    {
      "cell_type": "markdown",
      "metadata": {
        "id": "GkceapQAj6fJ",
        "colab_type": "text"
      },
      "source": [
        "Scaling 'Amount' and 'Time' because they both were not scaled, as according to the question."
      ]
    },
    {
      "cell_type": "code",
      "metadata": {
        "id": "Enx9FfcN5JJO",
        "colab_type": "code",
        "colab": {}
      },
      "source": [
        "from sklearn.preprocessing import RobustScaler"
      ],
      "execution_count": 0,
      "outputs": []
    },
    {
      "cell_type": "code",
      "metadata": {
        "id": "ytRv_nq6OgYg",
        "colab_type": "code",
        "colab": {}
      },
      "source": [
        "rob_scaler=RobustScaler()\n",
        "# RobustScaler is less prone to outliers."
      ],
      "execution_count": 0,
      "outputs": []
    },
    {
      "cell_type": "code",
      "metadata": {
        "id": "AKiD7m3J5PzK",
        "colab_type": "code",
        "colab": {}
      },
      "source": [
        "df['scaled_amount'] = rob_scaler.fit_transform(df['Amount'].values.reshape(-1,1)) # reshape(-1,1) since it is only 1 feature\n",
        "df['scaled_time'] = rob_scaler.fit_transform(df['Time'].values.reshape(-1,1))\n",
        "scaled_amount = df['scaled_amount']\n",
        "scaled_time = df['scaled_time']"
      ],
      "execution_count": 0,
      "outputs": []
    },
    {
      "cell_type": "code",
      "metadata": {
        "id": "-vmzOY8t5RlE",
        "colab_type": "code",
        "colab": {}
      },
      "source": [
        "df.drop(['Time','Amount'], axis=1, inplace=True)"
      ],
      "execution_count": 0,
      "outputs": []
    },
    {
      "cell_type": "code",
      "metadata": {
        "id": "sAROUyR25U8o",
        "colab_type": "code",
        "outputId": "c20a8f87-b899-4490-c9de-b088f67ccc7a",
        "colab": {
          "base_uri": "https://localhost:8080/",
          "height": 215
        }
      },
      "source": [
        "df.head()"
      ],
      "execution_count": 96,
      "outputs": [
        {
          "output_type": "execute_result",
          "data": {
            "text/html": [
              "<div>\n",
              "<style scoped>\n",
              "    .dataframe tbody tr th:only-of-type {\n",
              "        vertical-align: middle;\n",
              "    }\n",
              "\n",
              "    .dataframe tbody tr th {\n",
              "        vertical-align: top;\n",
              "    }\n",
              "\n",
              "    .dataframe thead th {\n",
              "        text-align: right;\n",
              "    }\n",
              "</style>\n",
              "<table border=\"1\" class=\"dataframe\">\n",
              "  <thead>\n",
              "    <tr style=\"text-align: right;\">\n",
              "      <th></th>\n",
              "      <th>V1</th>\n",
              "      <th>V2</th>\n",
              "      <th>V3</th>\n",
              "      <th>V4</th>\n",
              "      <th>V5</th>\n",
              "      <th>V6</th>\n",
              "      <th>V7</th>\n",
              "      <th>V8</th>\n",
              "      <th>V9</th>\n",
              "      <th>V10</th>\n",
              "      <th>V11</th>\n",
              "      <th>V12</th>\n",
              "      <th>V13</th>\n",
              "      <th>V14</th>\n",
              "      <th>V15</th>\n",
              "      <th>V16</th>\n",
              "      <th>V17</th>\n",
              "      <th>V18</th>\n",
              "      <th>V19</th>\n",
              "      <th>V20</th>\n",
              "      <th>V21</th>\n",
              "      <th>V22</th>\n",
              "      <th>V23</th>\n",
              "      <th>V24</th>\n",
              "      <th>V25</th>\n",
              "      <th>V26</th>\n",
              "      <th>V27</th>\n",
              "      <th>V28</th>\n",
              "      <th>Class</th>\n",
              "      <th>scaled_amount</th>\n",
              "      <th>scaled_time</th>\n",
              "    </tr>\n",
              "  </thead>\n",
              "  <tbody>\n",
              "    <tr>\n",
              "      <th>0</th>\n",
              "      <td>-1.359807</td>\n",
              "      <td>-0.072781</td>\n",
              "      <td>2.536347</td>\n",
              "      <td>1.378155</td>\n",
              "      <td>-0.338321</td>\n",
              "      <td>0.462388</td>\n",
              "      <td>0.239599</td>\n",
              "      <td>0.098698</td>\n",
              "      <td>0.363787</td>\n",
              "      <td>0.090794</td>\n",
              "      <td>-0.551600</td>\n",
              "      <td>-0.617801</td>\n",
              "      <td>-0.991390</td>\n",
              "      <td>-0.311169</td>\n",
              "      <td>1.468177</td>\n",
              "      <td>-0.470401</td>\n",
              "      <td>0.207971</td>\n",
              "      <td>0.025791</td>\n",
              "      <td>0.403993</td>\n",
              "      <td>0.251412</td>\n",
              "      <td>-0.018307</td>\n",
              "      <td>0.277838</td>\n",
              "      <td>-0.110474</td>\n",
              "      <td>0.066928</td>\n",
              "      <td>0.128539</td>\n",
              "      <td>-0.189115</td>\n",
              "      <td>0.133558</td>\n",
              "      <td>-0.021053</td>\n",
              "      <td>0</td>\n",
              "      <td>1.774718</td>\n",
              "      <td>-0.995290</td>\n",
              "    </tr>\n",
              "    <tr>\n",
              "      <th>1</th>\n",
              "      <td>1.191857</td>\n",
              "      <td>0.266151</td>\n",
              "      <td>0.166480</td>\n",
              "      <td>0.448154</td>\n",
              "      <td>0.060018</td>\n",
              "      <td>-0.082361</td>\n",
              "      <td>-0.078803</td>\n",
              "      <td>0.085102</td>\n",
              "      <td>-0.255425</td>\n",
              "      <td>-0.166974</td>\n",
              "      <td>1.612727</td>\n",
              "      <td>1.065235</td>\n",
              "      <td>0.489095</td>\n",
              "      <td>-0.143772</td>\n",
              "      <td>0.635558</td>\n",
              "      <td>0.463917</td>\n",
              "      <td>-0.114805</td>\n",
              "      <td>-0.183361</td>\n",
              "      <td>-0.145783</td>\n",
              "      <td>-0.069083</td>\n",
              "      <td>-0.225775</td>\n",
              "      <td>-0.638672</td>\n",
              "      <td>0.101288</td>\n",
              "      <td>-0.339846</td>\n",
              "      <td>0.167170</td>\n",
              "      <td>0.125895</td>\n",
              "      <td>-0.008983</td>\n",
              "      <td>0.014724</td>\n",
              "      <td>0</td>\n",
              "      <td>-0.268530</td>\n",
              "      <td>-0.995290</td>\n",
              "    </tr>\n",
              "    <tr>\n",
              "      <th>2</th>\n",
              "      <td>-1.358354</td>\n",
              "      <td>-1.340163</td>\n",
              "      <td>1.773209</td>\n",
              "      <td>0.379780</td>\n",
              "      <td>-0.503198</td>\n",
              "      <td>1.800499</td>\n",
              "      <td>0.791461</td>\n",
              "      <td>0.247676</td>\n",
              "      <td>-1.514654</td>\n",
              "      <td>0.207643</td>\n",
              "      <td>0.624501</td>\n",
              "      <td>0.066084</td>\n",
              "      <td>0.717293</td>\n",
              "      <td>-0.165946</td>\n",
              "      <td>2.345865</td>\n",
              "      <td>-2.890083</td>\n",
              "      <td>1.109969</td>\n",
              "      <td>-0.121359</td>\n",
              "      <td>-2.261857</td>\n",
              "      <td>0.524980</td>\n",
              "      <td>0.247998</td>\n",
              "      <td>0.771679</td>\n",
              "      <td>0.909412</td>\n",
              "      <td>-0.689281</td>\n",
              "      <td>-0.327642</td>\n",
              "      <td>-0.139097</td>\n",
              "      <td>-0.055353</td>\n",
              "      <td>-0.059752</td>\n",
              "      <td>0</td>\n",
              "      <td>4.959811</td>\n",
              "      <td>-0.995279</td>\n",
              "    </tr>\n",
              "    <tr>\n",
              "      <th>3</th>\n",
              "      <td>-0.966272</td>\n",
              "      <td>-0.185226</td>\n",
              "      <td>1.792993</td>\n",
              "      <td>-0.863291</td>\n",
              "      <td>-0.010309</td>\n",
              "      <td>1.247203</td>\n",
              "      <td>0.237609</td>\n",
              "      <td>0.377436</td>\n",
              "      <td>-1.387024</td>\n",
              "      <td>-0.054952</td>\n",
              "      <td>-0.226487</td>\n",
              "      <td>0.178228</td>\n",
              "      <td>0.507757</td>\n",
              "      <td>-0.287924</td>\n",
              "      <td>-0.631418</td>\n",
              "      <td>-1.059647</td>\n",
              "      <td>-0.684093</td>\n",
              "      <td>1.965775</td>\n",
              "      <td>-1.232622</td>\n",
              "      <td>-0.208038</td>\n",
              "      <td>-0.108300</td>\n",
              "      <td>0.005274</td>\n",
              "      <td>-0.190321</td>\n",
              "      <td>-1.175575</td>\n",
              "      <td>0.647376</td>\n",
              "      <td>-0.221929</td>\n",
              "      <td>0.062723</td>\n",
              "      <td>0.061458</td>\n",
              "      <td>0</td>\n",
              "      <td>1.411487</td>\n",
              "      <td>-0.995279</td>\n",
              "    </tr>\n",
              "    <tr>\n",
              "      <th>4</th>\n",
              "      <td>-1.158233</td>\n",
              "      <td>0.877737</td>\n",
              "      <td>1.548718</td>\n",
              "      <td>0.403034</td>\n",
              "      <td>-0.407193</td>\n",
              "      <td>0.095921</td>\n",
              "      <td>0.592941</td>\n",
              "      <td>-0.270533</td>\n",
              "      <td>0.817739</td>\n",
              "      <td>0.753074</td>\n",
              "      <td>-0.822843</td>\n",
              "      <td>0.538196</td>\n",
              "      <td>1.345852</td>\n",
              "      <td>-1.119670</td>\n",
              "      <td>0.175121</td>\n",
              "      <td>-0.451449</td>\n",
              "      <td>-0.237033</td>\n",
              "      <td>-0.038195</td>\n",
              "      <td>0.803487</td>\n",
              "      <td>0.408542</td>\n",
              "      <td>-0.009431</td>\n",
              "      <td>0.798278</td>\n",
              "      <td>-0.137458</td>\n",
              "      <td>0.141267</td>\n",
              "      <td>-0.206010</td>\n",
              "      <td>0.502292</td>\n",
              "      <td>0.219422</td>\n",
              "      <td>0.215153</td>\n",
              "      <td>0</td>\n",
              "      <td>0.667362</td>\n",
              "      <td>-0.995267</td>\n",
              "    </tr>\n",
              "  </tbody>\n",
              "</table>\n",
              "</div>"
            ],
            "text/plain": [
              "         V1        V2        V3  ...  Class  scaled_amount  scaled_time\n",
              "0 -1.359807 -0.072781  2.536347  ...      0       1.774718    -0.995290\n",
              "1  1.191857  0.266151  0.166480  ...      0      -0.268530    -0.995290\n",
              "2 -1.358354 -1.340163  1.773209  ...      0       4.959811    -0.995279\n",
              "3 -0.966272 -0.185226  1.792993  ...      0       1.411487    -0.995279\n",
              "4 -1.158233  0.877737  1.548718  ...      0       0.667362    -0.995267\n",
              "\n",
              "[5 rows x 31 columns]"
            ]
          },
          "metadata": {
            "tags": []
          },
          "execution_count": 96
        }
      ]
    },
    {
      "cell_type": "markdown",
      "metadata": {
        "id": "OVMGoeheVfZj",
        "colab_type": "text"
      },
      "source": [
        "Now , to handle imbalanced data, we will do : \n",
        "\n",
        "**Resampling** \n",
        "\n",
        "1- Resample our data with different size.\n",
        "\n",
        "2- Use this resampled data to train ML model\n",
        "\n",
        "3- Use this model to predict for original data\n",
        "\n",
        "There are various techniques to do so:\n",
        "\n",
        "1- Undersampling - removing samples from the majority class - TomekLinks , ENN etc.\n",
        "\n",
        "2- Oversampling - adding more examples from the minority class - SMOTE - Synthetic Minority Over-sampling Technique, ADASYN - Adaptive Synthetic sampling method etc.\n",
        "\n",
        "We will do: -\n",
        "\n",
        "**Combined Oversampling and Undersampling - SMOTETomek , SMOTEENN**\n",
        "\n",
        "We will prefer SMOTEENN since SMOTEENN tends to clear more noisy samples than SMOTETomek and we have seen earlier that our data is too noisy (having many outliers)."
      ]
    },
    {
      "cell_type": "code",
      "metadata": {
        "id": "k-JcPw0x7MKt",
        "colab_type": "code",
        "colab": {}
      },
      "source": [
        "X = df.drop('Class', axis=1)\n",
        "y = df['Class']"
      ],
      "execution_count": 0,
      "outputs": []
    },
    {
      "cell_type": "code",
      "metadata": {
        "id": "PH5IUCj3oTEh",
        "colab_type": "code",
        "colab": {
          "base_uri": "https://localhost:8080/",
          "height": 101
        },
        "outputId": "a9f2daaf-0d0b-4b96-fff8-eda13d7ccc00"
      },
      "source": [
        "X.columns"
      ],
      "execution_count": 98,
      "outputs": [
        {
          "output_type": "execute_result",
          "data": {
            "text/plain": [
              "Index(['V1', 'V2', 'V3', 'V4', 'V5', 'V6', 'V7', 'V8', 'V9', 'V10', 'V11',\n",
              "       'V12', 'V13', 'V14', 'V15', 'V16', 'V17', 'V18', 'V19', 'V20', 'V21',\n",
              "       'V22', 'V23', 'V24', 'V25', 'V26', 'V27', 'V28', 'scaled_amount',\n",
              "       'scaled_time'],\n",
              "      dtype='object')"
            ]
          },
          "metadata": {
            "tags": []
          },
          "execution_count": 98
        }
      ]
    },
    {
      "cell_type": "code",
      "metadata": {
        "id": "ZAeGBhtN8t82",
        "colab_type": "code",
        "outputId": "4a81ab29-4b66-438f-a8d9-cf127b20588b",
        "colab": {
          "base_uri": "https://localhost:8080/",
          "height": 104
        }
      },
      "source": [
        "import imblearn"
      ],
      "execution_count": 0,
      "outputs": [
        {
          "output_type": "stream",
          "text": [
            "/usr/local/lib/python3.6/dist-packages/sklearn/externals/six.py:31: FutureWarning: The module is deprecated in version 0.21 and will be removed in version 0.23 since we've dropped support for Python 2.7. Please rely on the official version of six (https://pypi.org/project/six/).\n",
            "  \"(https://pypi.org/project/six/).\", FutureWarning)\n",
            "/usr/local/lib/python3.6/dist-packages/sklearn/utils/deprecation.py:144: FutureWarning: The sklearn.neighbors.base module is  deprecated in version 0.22 and will be removed in version 0.24. The corresponding classes / functions should instead be imported from sklearn.neighbors. Anything that cannot be imported from sklearn.neighbors is now part of the private API.\n",
            "  warnings.warn(message, FutureWarning)\n"
          ],
          "name": "stderr"
        }
      ]
    },
    {
      "cell_type": "code",
      "metadata": {
        "id": "RhSCeOND8t5d",
        "colab_type": "code",
        "outputId": "b33dcfbf-9189-4daf-e940-8aaf39672151",
        "colab": {
          "base_uri": "https://localhost:8080/",
          "height": 171
        }
      },
      "source": [
        "from imblearn.combine import SMOTEENN\n",
        "smt=SMOTEENN(ratio=1,random_state=0)\n",
        "X_smt,y_smt=smt.fit_sample(X,y)"
      ],
      "execution_count": 0,
      "outputs": [
        {
          "output_type": "stream",
          "text": [
            "/usr/local/lib/python3.6/dist-packages/sklearn/utils/deprecation.py:87: FutureWarning: Function safe_indexing is deprecated; safe_indexing is deprecated in version 0.22 and will be removed in version 0.24.\n",
            "  warnings.warn(msg, category=FutureWarning)\n",
            "/usr/local/lib/python3.6/dist-packages/sklearn/utils/deprecation.py:87: FutureWarning: Function safe_indexing is deprecated; safe_indexing is deprecated in version 0.22 and will be removed in version 0.24.\n",
            "  warnings.warn(msg, category=FutureWarning)\n",
            "/usr/local/lib/python3.6/dist-packages/sklearn/utils/deprecation.py:87: FutureWarning: Function safe_indexing is deprecated; safe_indexing is deprecated in version 0.22 and will be removed in version 0.24.\n",
            "  warnings.warn(msg, category=FutureWarning)\n",
            "/usr/local/lib/python3.6/dist-packages/sklearn/utils/deprecation.py:87: FutureWarning: Function safe_indexing is deprecated; safe_indexing is deprecated in version 0.22 and will be removed in version 0.24.\n",
            "  warnings.warn(msg, category=FutureWarning)\n"
          ],
          "name": "stderr"
        }
      ]
    },
    {
      "cell_type": "code",
      "metadata": {
        "id": "sq2vk9yT9Gqp",
        "colab_type": "code",
        "outputId": "19040c8a-9735-4f58-b9bc-3f63b0b5baaa",
        "colab": {
          "base_uri": "https://localhost:8080/",
          "height": 34
        }
      },
      "source": [
        "X_smt.shape"
      ],
      "execution_count": 0,
      "outputs": [
        {
          "output_type": "execute_result",
          "data": {
            "text/plain": [
              "(568146, 30)"
            ]
          },
          "metadata": {
            "tags": []
          },
          "execution_count": 17
        }
      ]
    },
    {
      "cell_type": "code",
      "metadata": {
        "id": "toU8u6dkAxWv",
        "colab_type": "code",
        "outputId": "7e9f2576-ebcd-4d02-9148-a32f2ee30191",
        "colab": {
          "base_uri": "https://localhost:8080/",
          "height": 34
        }
      },
      "source": [
        "y_smt.shape"
      ],
      "execution_count": 0,
      "outputs": [
        {
          "output_type": "execute_result",
          "data": {
            "text/plain": [
              "(568146,)"
            ]
          },
          "metadata": {
            "tags": []
          },
          "execution_count": 18
        }
      ]
    },
    {
      "cell_type": "markdown",
      "metadata": {
        "id": "5LKNa5bZn6w0",
        "colab_type": "text"
      },
      "source": [
        "Let's see the distribution of fraud and normal transactions in resampled data:"
      ]
    },
    {
      "cell_type": "code",
      "metadata": {
        "id": "7HFZhAU_Svu3",
        "colab_type": "code",
        "colab": {}
      },
      "source": [
        "X_df= pd.DataFrame(X_smt,columns=['V1', 'V2', 'V3', 'V4', 'V5', 'V6', 'V7', 'V8', 'V9', 'V10', 'V11',\n",
        "       'V12', 'V13', 'V14', 'V15', 'V16', 'V17', 'V18', 'V19', 'V20', 'V21',\n",
        "       'V22', 'V23', 'V24', 'V25', 'V26', 'V27', 'V28', 'scaled_amount',\n",
        "       'scaled_time'])"
      ],
      "execution_count": 0,
      "outputs": []
    },
    {
      "cell_type": "code",
      "metadata": {
        "id": "kh9TVYl8Svlq",
        "colab_type": "code",
        "colab": {}
      },
      "source": [
        "y_df= pd.DataFrame(y_smt,columns=['Class'])"
      ],
      "execution_count": 0,
      "outputs": []
    },
    {
      "cell_type": "code",
      "metadata": {
        "id": "LbrFfB2WSvcB",
        "colab_type": "code",
        "outputId": "cbcf876f-e80b-47b3-b430-d8175dd654ba",
        "colab": {
          "base_uri": "https://localhost:8080/",
          "height": 34
        }
      },
      "source": [
        "y_df.shape"
      ],
      "execution_count": 0,
      "outputs": [
        {
          "output_type": "execute_result",
          "data": {
            "text/plain": [
              "(568146, 1)"
            ]
          },
          "metadata": {
            "tags": []
          },
          "execution_count": 77
        }
      ]
    },
    {
      "cell_type": "code",
      "metadata": {
        "id": "mJP4VgopSvQu",
        "colab_type": "code",
        "colab": {}
      },
      "source": [
        "X_df= pd.concat([X_df,y_df])"
      ],
      "execution_count": 0,
      "outputs": []
    },
    {
      "cell_type": "code",
      "metadata": {
        "id": "q878_k_1S2U4",
        "colab_type": "code",
        "outputId": "30f203a1-6b00-477d-e5ec-d023609b991c",
        "colab": {
          "base_uri": "https://localhost:8080/",
          "height": 296
        }
      },
      "source": [
        "sns.countplot(x='Class',data=X_df)"
      ],
      "execution_count": 0,
      "outputs": [
        {
          "output_type": "execute_result",
          "data": {
            "text/plain": [
              "<matplotlib.axes._subplots.AxesSubplot at 0x7f7cee9f92e8>"
            ]
          },
          "metadata": {
            "tags": []
          },
          "execution_count": 79
        },
        {
          "output_type": "display_data",
          "data": {
            "image/png": "[encoded data removed]",
            "text/plain": [
              "<Figure size 432x288 with 1 Axes>"
            ]
          },
          "metadata": {
            "tags": [],
            "needs_background": "light"
          }
        }
      ]
    },
    {
      "cell_type": "markdown",
      "metadata": {
        "id": "rCfXtw5isxam",
        "colab_type": "text"
      },
      "source": [
        "Now, we see that our data has equal number of fraud and normal transactions and now our data is balanced."
      ]
    },
    {
      "cell_type": "markdown",
      "metadata": {
        "id": "NIO6z3iEnuez",
        "colab_type": "text"
      },
      "source": [
        "**Using different Machine Learning Algorithms on Resampled data:**"
      ]
    },
    {
      "cell_type": "markdown",
      "metadata": {
        "id": "DpGFTTSAqIHC",
        "colab_type": "text"
      },
      "source": [
        "**1- Logistic Regression**"
      ]
    },
    {
      "cell_type": "code",
      "metadata": {
        "id": "hys8VlsYCZA7",
        "colab_type": "code",
        "colab": {}
      },
      "source": [
        "from sklearn.model_selection import train_test_split\n",
        "X_trainsm, X_testsm, y_trainsm, y_testsm = train_test_split(X_smt, y_smt, test_size=0.3, random_state=42)"
      ],
      "execution_count": 0,
      "outputs": []
    },
    {
      "cell_type": "code",
      "metadata": {
        "id": "Qbca2pqvliBx",
        "colab_type": "code",
        "colab": {}
      },
      "source": [
        "from sklearn.linear_model import LogisticRegression\n",
        "from sklearn.model_selection import GridSearchCV\n",
        "log_params = {'C': np.logspace(0, 4, 10) , 'penalty':['l1', 'l2']}\n",
        "grid_log=GridSearchCV(LogisticRegression(), param_grid=log_params,cv=5,verbose=1,refit=True,n_jobs=-1)\n",
        "#for insights (documentation) in each and every step of GridSearchCV, you can give verbose=1 or any integer. "
      ],
      "execution_count": 0,
      "outputs": []
    },
    {
      "cell_type": "code",
      "metadata": {
        "id": "2pti-E38o6TZ",
        "colab_type": "code",
        "outputId": "67569541-60a2-4f77-fb1e-4a7cbb1f97c6",
        "colab": {
          "base_uri": "https://localhost:8080/",
          "height": 353
        }
      },
      "source": [
        "grid_log.fit(X_trainsm, y_trainsm)"
      ],
      "execution_count": 0,
      "outputs": [
        {
          "output_type": "stream",
          "text": [
            "Fitting 5 folds for each of 20 candidates, totalling 100 fits\n"
          ],
          "name": "stdout"
        },
        {
          "output_type": "stream",
          "text": [
            "[Parallel(n_jobs=-1)]: Using backend LokyBackend with 2 concurrent workers.\n",
            "[Parallel(n_jobs=-1)]: Done  46 tasks      | elapsed:  1.4min\n",
            "[Parallel(n_jobs=-1)]: Done 100 out of 100 | elapsed:  3.1min finished\n"
          ],
          "name": "stderr"
        },
        {
          "output_type": "execute_result",
          "data": {
            "text/plain": [
              "GridSearchCV(cv=5, error_score=nan,\n",
              "             estimator=LogisticRegression(C=1.0, class_weight=None, dual=False,\n",
              "                                          fit_intercept=True,\n",
              "                                          intercept_scaling=1, l1_ratio=None,\n",
              "                                          max_iter=100, multi_class='auto',\n",
              "                                          n_jobs=None, penalty='l2',\n",
              "                                          random_state=None, solver='lbfgs',\n",
              "                                          tol=0.0001, verbose=0,\n",
              "                                          warm_start=False),\n",
              "             iid='deprecated', n_jobs=-1,\n",
              "             param_grid={'C': array([1.00000000e+00, 2.78255940e+00, 7.74263683e+00, 2.15443469e+01,\n",
              "       5.99484250e+01, 1.66810054e+02, 4.64158883e+02, 1.29154967e+03,\n",
              "       3.59381366e+03, 1.00000000e+04]),\n",
              "                         'penalty': ['l1', 'l2']},\n",
              "             pre_dispatch='2*n_jobs', refit=True, return_train_score=False,\n",
              "             scoring=None, verbose=1)"
            ]
          },
          "metadata": {
            "tags": []
          },
          "execution_count": 23
        }
      ]
    },
    {
      "cell_type": "code",
      "metadata": {
        "id": "zhZlO7adl-nH",
        "colab_type": "code",
        "outputId": "a5ae55c8-f10a-4301-a685-69de0ec217a6",
        "colab": {
          "base_uri": "https://localhost:8080/",
          "height": 101
        }
      },
      "source": [
        "grid_log.best_estimator_"
      ],
      "execution_count": 0,
      "outputs": [
        {
          "output_type": "execute_result",
          "data": {
            "text/plain": [
              "LogisticRegression(C=7.742636826811269, class_weight=None, dual=False,\n",
              "                   fit_intercept=True, intercept_scaling=1, l1_ratio=None,\n",
              "                   max_iter=100, multi_class='auto', n_jobs=None, penalty='l2',\n",
              "                   random_state=None, solver='lbfgs', tol=0.0001, verbose=0,\n",
              "                   warm_start=False)"
            ]
          },
          "metadata": {
            "tags": []
          },
          "execution_count": 24
        }
      ]
    },
    {
      "cell_type": "code",
      "metadata": {
        "id": "UYI7xXWVqsPw",
        "colab_type": "code",
        "outputId": "21a11a3f-38d5-4d51-eddc-beb615f4fd3d",
        "colab": {
          "base_uri": "https://localhost:8080/",
          "height": 34
        }
      },
      "source": [
        "grid_log.best_params_"
      ],
      "execution_count": 0,
      "outputs": [
        {
          "output_type": "execute_result",
          "data": {
            "text/plain": [
              "{'C': 7.742636826811269, 'penalty': 'l2'}"
            ]
          },
          "metadata": {
            "tags": []
          },
          "execution_count": 25
        }
      ]
    },
    {
      "cell_type": "code",
      "metadata": {
        "id": "rO_23ziRl-bW",
        "colab_type": "code",
        "colab": {}
      },
      "source": [
        "pred_log=grid_log.predict(X_testsm)"
      ],
      "execution_count": 0,
      "outputs": []
    },
    {
      "cell_type": "code",
      "metadata": {
        "id": "OLGG6wvJWK8f",
        "colab_type": "code",
        "outputId": "5f620261-62dd-4c80-913c-f70a9fc09f92",
        "colab": {
          "base_uri": "https://localhost:8080/",
          "height": 252
        }
      },
      "source": [
        "from sklearn.metrics import confusion_matrix,classification_report\n",
        "print('Confusion Matrix:\\n',confusion_matrix(y_testsm,pred_log))\n",
        "print('\\nClassification Report:\\n',classification_report(y_testsm,pred_log,digits=6))"
      ],
      "execution_count": 0,
      "outputs": [
        {
          "output_type": "stream",
          "text": [
            "Confusion Matrix:\n",
            " [[83036  2142]\n",
            " [ 6572 78694]]\n",
            "\n",
            "Classification Report:\n",
            "               precision    recall  f1-score   support\n",
            "\n",
            "           0   0.926658  0.974853  0.950145     85178\n",
            "           1   0.973502  0.922924  0.947538     85266\n",
            "\n",
            "    accuracy                       0.948875    170444\n",
            "   macro avg   0.950080  0.948888  0.948842    170444\n",
            "weighted avg   0.950092  0.948875  0.948841    170444\n",
            "\n"
          ],
          "name": "stdout"
        }
      ]
    },
    {
      "cell_type": "code",
      "metadata": {
        "id": "1lMkNBw_IRV0",
        "colab_type": "code",
        "outputId": "657286e3-6f38-4c79-8624-d4a2b86ed085",
        "colab": {
          "base_uri": "https://localhost:8080/",
          "height": 312
        }
      },
      "source": [
        "from sklearn.metrics import precision_recall_curve, auc, roc_auc_score, roc_curve\n",
        "fpr, tpr, thresholds = roc_curve(y_testsm, pred_log)\n",
        "\n",
        "roc_auc = auc(fpr,tpr)\n",
        "\n",
        "# Plot ROC\n",
        "plt.title('Receiver Operating Characteristic')\n",
        "plt.plot(fpr, tpr, 'b',label='AUC = %0.3f'% roc_auc)\n",
        "plt.legend(loc='lower right')\n",
        "plt.plot([0,1],[0,1],'r--')\n",
        "plt.xlim([-0.1,1.0])\n",
        "plt.ylim([-0.1,1.01])\n",
        "plt.ylabel('True Positive Rate')\n",
        "plt.xlabel('False Positive Rate')\n",
        "plt.show()\n",
        "roc_auc"
      ],
      "execution_count": 0,
      "outputs": [
        {
          "output_type": "display_data",
          "data": {
            "image/png": "[encoded data removed]",
            "text/plain": [
              "<Figure size 432x288 with 1 Axes>"
            ]
          },
          "metadata": {
            "tags": [],
            "needs_background": "light"
          }
        },
        {
          "output_type": "execute_result",
          "data": {
            "text/plain": [
              "0.9488881091772261"
            ]
          },
          "metadata": {
            "tags": []
          },
          "execution_count": 39
        }
      ]
    },
    {
      "cell_type": "markdown",
      "metadata": {
        "id": "FwOIgJS6v38L",
        "colab_type": "text"
      },
      "source": [
        "**2- K Nearest Neighbors**"
      ]
    },
    {
      "cell_type": "code",
      "metadata": {
        "id": "CPykBAPh4PVq",
        "colab_type": "code",
        "colab": {}
      },
      "source": [
        "from sklearn.neighbors import KNeighborsClassifier"
      ],
      "execution_count": 0,
      "outputs": []
    },
    {
      "cell_type": "code",
      "metadata": {
        "id": "zlOnCo604PI_",
        "colab_type": "code",
        "colab": {}
      },
      "source": [
        "knn=KNeighborsClassifier(n_neighbors=1)"
      ],
      "execution_count": 0,
      "outputs": []
    },
    {
      "cell_type": "code",
      "metadata": {
        "id": "mf9M6Dk9Hpwk",
        "colab_type": "code",
        "outputId": "e86e969b-9c21-449e-b97c-7f78581ebb87",
        "colab": {
          "base_uri": "https://localhost:8080/",
          "height": 67
        }
      },
      "source": [
        "knn.fit(X_trainsm,y_trainsm)"
      ],
      "execution_count": 0,
      "outputs": [
        {
          "output_type": "execute_result",
          "data": {
            "text/plain": [
              "KNeighborsClassifier(algorithm='auto', leaf_size=30, metric='minkowski',\n",
              "                     metric_params=None, n_jobs=None, n_neighbors=1, p=2,\n",
              "                     weights='uniform')"
            ]
          },
          "metadata": {
            "tags": []
          },
          "execution_count": 30
        }
      ]
    },
    {
      "cell_type": "code",
      "metadata": {
        "id": "Q7W4AreHHukL",
        "colab_type": "code",
        "colab": {}
      },
      "source": [
        "pred_knn=knn.predict(X_testsm)"
      ],
      "execution_count": 0,
      "outputs": []
    },
    {
      "cell_type": "code",
      "metadata": {
        "id": "ASATaQkd5xJB",
        "colab_type": "code",
        "outputId": "9a12f536-7f73-4f5c-ddbf-19a7142b6227",
        "colab": {
          "base_uri": "https://localhost:8080/",
          "height": 252
        }
      },
      "source": [
        "from sklearn.metrics import confusion_matrix,classification_report\n",
        "print('Confusion Matrix:\\n',confusion_matrix(y_testsm,pred_knn))\n",
        "print('\\nClassification Report:\\n',classification_report(y_testsm,pred_knn,digits=6))"
      ],
      "execution_count": 0,
      "outputs": [
        {
          "output_type": "stream",
          "text": [
            "Confusion Matrix:\n",
            " [[85172     6]\n",
            " [    0 85266]]\n",
            "\n",
            "Classification Report:\n",
            "               precision    recall  f1-score   support\n",
            "\n",
            "           0   1.000000  0.999930  0.999965     85178\n",
            "           1   0.999930  1.000000  0.999965     85266\n",
            "\n",
            "    accuracy                       0.999965    170444\n",
            "   macro avg   0.999965  0.999965  0.999965    170444\n",
            "weighted avg   0.999965  0.999965  0.999965    170444\n",
            "\n"
          ],
          "name": "stdout"
        }
      ]
    },
    {
      "cell_type": "code",
      "metadata": {
        "id": "BP4Xj0YFID1Q",
        "colab_type": "code",
        "outputId": "0f144e89-ba41-4ef8-f2c5-a0169744d539",
        "colab": {
          "base_uri": "https://localhost:8080/",
          "height": 312
        }
      },
      "source": [
        "from sklearn.metrics import precision_recall_curve, auc, roc_auc_score, roc_curve\n",
        "fpr, tpr, thresholds = roc_curve(y_testsm, pred_knn)\n",
        "\n",
        "roc_auc = auc(fpr,tpr)\n",
        "\n",
        "# Plot ROC\n",
        "plt.title('Receiver Operating Characteristic')\n",
        "plt.plot(fpr, tpr, 'b',label='AUC = %0.3f'% roc_auc)\n",
        "plt.legend(loc='lower right')\n",
        "plt.plot([0,1],[0,1],'r--')\n",
        "plt.xlim([-0.1,1.0])\n",
        "plt.ylim([-0.1,1.01])\n",
        "plt.ylabel('True Positive Rate')\n",
        "plt.xlabel('False Positive Rate')\n",
        "plt.show()\n",
        "roc_auc"
      ],
      "execution_count": 0,
      "outputs": [
        {
          "output_type": "display_data",
          "data": {
            "image/png": "[encoded data removed]",
            "text/plain": [
              "<Figure size 432x288 with 1 Axes>"
            ]
          },
          "metadata": {
            "tags": [],
            "needs_background": "light"
          }
        },
        {
          "output_type": "execute_result",
          "data": {
            "text/plain": [
              "0.9999647796379346"
            ]
          },
          "metadata": {
            "tags": []
          },
          "execution_count": 40
        }
      ]
    },
    {
      "cell_type": "markdown",
      "metadata": {
        "id": "tGBZkYW90530",
        "colab_type": "text"
      },
      "source": [
        "**3- Random Forest Classifier**"
      ]
    },
    {
      "cell_type": "code",
      "metadata": {
        "id": "6QDMO7UuH0Nr",
        "colab_type": "code",
        "colab": {}
      },
      "source": [
        "from sklearn.ensemble import RandomForestClassifier"
      ],
      "execution_count": 0,
      "outputs": []
    },
    {
      "cell_type": "code",
      "metadata": {
        "id": "6FwTmrbpH4vx",
        "colab_type": "code",
        "outputId": "05f3bef4-834e-4e88-d523-66e24029cc82",
        "colab": {
          "base_uri": "https://localhost:8080/",
          "height": 151
        }
      },
      "source": [
        "rfc = RandomForestClassifier(random_state = 0, n_estimators = 250,criterion = 'entropy')\n",
        "rfc.fit(X_trainsm, y_trainsm)"
      ],
      "execution_count": 0,
      "outputs": [
        {
          "output_type": "execute_result",
          "data": {
            "text/plain": [
              "RandomForestClassifier(bootstrap=True, ccp_alpha=0.0, class_weight=None,\n",
              "                       criterion='entropy', max_depth=None, max_features='auto',\n",
              "                       max_leaf_nodes=None, max_samples=None,\n",
              "                       min_impurity_decrease=0.0, min_impurity_split=None,\n",
              "                       min_samples_leaf=1, min_samples_split=2,\n",
              "                       min_weight_fraction_leaf=0.0, n_estimators=250,\n",
              "                       n_jobs=None, oob_score=False, random_state=0, verbose=0,\n",
              "                       warm_start=False)"
            ]
          },
          "metadata": {
            "tags": []
          },
          "execution_count": 36
        }
      ]
    },
    {
      "cell_type": "code",
      "metadata": {
        "id": "ZPa5h-LrH47F",
        "colab_type": "code",
        "colab": {}
      },
      "source": [
        "pred_rfc=rfc.predict(X_testsm)"
      ],
      "execution_count": 0,
      "outputs": []
    },
    {
      "cell_type": "code",
      "metadata": {
        "id": "cjNeqUn4H5GK",
        "colab_type": "code",
        "outputId": "06ac325e-87ba-4abf-d7a2-c170ba039a57",
        "colab": {
          "base_uri": "https://localhost:8080/",
          "height": 252
        }
      },
      "source": [
        "from sklearn.metrics import confusion_matrix,classification_report\n",
        "print('Confusion Matrix:\\n',confusion_matrix(y_testsm,pred_rfc))\n",
        "print('\\nClassification Report:\\n',classification_report(y_testsm,pred_rfc,digits=6))"
      ],
      "execution_count": 0,
      "outputs": [
        {
          "output_type": "stream",
          "text": [
            "Confusion Matrix:\n",
            " [[85172     6]\n",
            " [    0 85266]]\n",
            "\n",
            "Classification Report:\n",
            "               precision    recall  f1-score   support\n",
            "\n",
            "           0   1.000000  0.999930  0.999965     85178\n",
            "           1   0.999930  1.000000  0.999965     85266\n",
            "\n",
            "    accuracy                       0.999965    170444\n",
            "   macro avg   0.999965  0.999965  0.999965    170444\n",
            "weighted avg   0.999965  0.999965  0.999965    170444\n",
            "\n"
          ],
          "name": "stdout"
        }
      ]
    },
    {
      "cell_type": "code",
      "metadata": {
        "id": "4ZVjxrKTf3c6",
        "colab_type": "code",
        "outputId": "cd62a864-e867-4206-b37e-bcc77ca3e5e5",
        "colab": {
          "base_uri": "https://localhost:8080/",
          "height": 312
        }
      },
      "source": [
        "from sklearn.metrics import precision_recall_curve, auc, roc_auc_score, roc_curve\n",
        "fpr, tpr, thresholds = roc_curve(y_testsm, pred_rfc)\n",
        "\n",
        "roc_auc = auc(fpr,tpr)\n",
        "\n",
        "# Plot ROC\n",
        "plt.title('Receiver Operating Characteristic')\n",
        "plt.plot(fpr, tpr, 'b',label='AUC = %0.3f'% roc_auc)\n",
        "plt.legend(loc='lower right')\n",
        "plt.plot([0,1],[0,1],'r--')\n",
        "plt.xlim([-0.1,1.0])\n",
        "plt.ylim([-0.1,1.01])\n",
        "plt.ylabel('True Positive Rate')\n",
        "plt.xlabel('False Positive Rate')\n",
        "plt.show()\n",
        "roc_auc"
      ],
      "execution_count": 0,
      "outputs": [
        {
          "output_type": "display_data",
          "data": {
            "image/png": "[encoded data removed]",
            "text/plain": [
              "<Figure size 432x288 with 1 Axes>"
            ]
          },
          "metadata": {
            "tags": [],
            "needs_background": "light"
          }
        },
        {
          "output_type": "execute_result",
          "data": {
            "text/plain": [
              "0.9999647796379346"
            ]
          },
          "metadata": {
            "tags": []
          },
          "execution_count": 41
        }
      ]
    },
    {
      "cell_type": "markdown",
      "metadata": {
        "id": "8bd1dx461qC0",
        "colab_type": "text"
      },
      "source": [
        "**4- Naive Bayes Classifier**"
      ]
    },
    {
      "cell_type": "code",
      "metadata": {
        "id": "q9xhz3_hIU_y",
        "colab_type": "code",
        "outputId": "dff621ef-49d7-4294-db85-41d1f9fa3ecd",
        "colab": {
          "base_uri": "https://localhost:8080/",
          "height": 34
        }
      },
      "source": [
        "from sklearn.naive_bayes import GaussianNB   \n",
        "#Naive Bayes classifier assumes that the presence of a particular feature \n",
        "#in a class is unrelated to the presence of any other feature.\n",
        "nb=GaussianNB()   # using GaussianNB instead of MultinomialNB since there are negative values also in the dataset\n",
        "nb.fit(X_trainsm,y_trainsm)"
      ],
      "execution_count": 0,
      "outputs": [
        {
          "output_type": "execute_result",
          "data": {
            "text/plain": [
              "GaussianNB(priors=None, var_smoothing=1e-09)"
            ]
          },
          "metadata": {
            "tags": []
          },
          "execution_count": 42
        }
      ]
    },
    {
      "cell_type": "code",
      "metadata": {
        "id": "1agZkwhwIUeH",
        "colab_type": "code",
        "colab": {}
      },
      "source": [
        "pred_nb=nb.predict(X_testsm)"
      ],
      "execution_count": 0,
      "outputs": []
    },
    {
      "cell_type": "code",
      "metadata": {
        "id": "MZw3DLkrIUSl",
        "colab_type": "code",
        "outputId": "e743e1a2-21f7-41fc-e80a-c5c21a1577d9",
        "colab": {
          "base_uri": "https://localhost:8080/",
          "height": 252
        }
      },
      "source": [
        "from sklearn.metrics import confusion_matrix,classification_report\n",
        "print('Confusion Matrix:\\n',confusion_matrix(y_testsm,pred_nb))\n",
        "print('\\nClassification Report:\\n',classification_report(y_testsm,pred_nb,digits=6))"
      ],
      "execution_count": 0,
      "outputs": [
        {
          "output_type": "stream",
          "text": [
            "Confusion Matrix:\n",
            " [[83045  2133]\n",
            " [12471 72795]]\n",
            "\n",
            "Classification Report:\n",
            "               precision    recall  f1-score   support\n",
            "\n",
            "           0   0.869435  0.974958  0.919178     85178\n",
            "           1   0.971533  0.853740  0.908836     85266\n",
            "\n",
            "    accuracy                       0.914318    170444\n",
            "   macro avg   0.920484  0.914349  0.914007    170444\n",
            "weighted avg   0.920510  0.914318  0.914004    170444\n",
            "\n"
          ],
          "name": "stdout"
        }
      ]
    },
    {
      "cell_type": "code",
      "metadata": {
        "id": "omTiwK2tKxm5",
        "colab_type": "code",
        "outputId": "3d5b5d75-0885-4e79-f2f4-dfe1816e1c0c",
        "colab": {
          "base_uri": "https://localhost:8080/",
          "height": 312
        }
      },
      "source": [
        "from sklearn.metrics import precision_recall_curve, auc, roc_auc_score, roc_curve\n",
        "fpr, tpr, thresholds = roc_curve(y_testsm, pred_nb)\n",
        "\n",
        "roc_auc = auc(fpr,tpr)\n",
        "\n",
        "# Plot ROC\n",
        "plt.title('Receiver Operating Characteristic')\n",
        "plt.plot(fpr, tpr, 'b',label='AUC = %0.3f'% roc_auc)\n",
        "plt.legend(loc='lower right')\n",
        "plt.plot([0,1],[0,1],'r--')\n",
        "plt.xlim([-0.1,1.0])\n",
        "plt.ylim([-0.1,1.01])\n",
        "plt.ylabel('True Positive Rate')\n",
        "plt.xlabel('False Positive Rate')\n",
        "plt.show()\n",
        "roc_auc"
      ],
      "execution_count": 0,
      "outputs": [
        {
          "output_type": "display_data",
          "data": {
            "image/png": "[encoded data removed]",
            "text/plain": [
              "<Figure size 432x288 with 1 Axes>"
            ]
          },
          "metadata": {
            "tags": [],
            "needs_background": "light"
          }
        },
        {
          "output_type": "execute_result",
          "data": {
            "text/plain": [
              "0.9143491915440286"
            ]
          },
          "metadata": {
            "tags": []
          },
          "execution_count": 46
        }
      ]
    },
    {
      "cell_type": "markdown",
      "metadata": {
        "id": "XNNY0fL43JOD",
        "colab_type": "text"
      },
      "source": [
        "**5- Deep Neural Network**"
      ]
    },
    {
      "cell_type": "code",
      "metadata": {
        "id": "mJRCIRNeMWwe",
        "colab_type": "code",
        "colab": {}
      },
      "source": [
        "from tensorflow.keras.models import Sequential\n",
        "from tensorflow.keras.layers import Dense"
      ],
      "execution_count": 0,
      "outputs": []
    },
    {
      "cell_type": "code",
      "metadata": {
        "id": "cfgFITJtMWo9",
        "colab_type": "code",
        "colab": {}
      },
      "source": [
        "model=Sequential()\n",
        "model.add(Dense(32,activation='sigmoid'))\n",
        "model.add(Dense(22,activation='sigmoid'))\n",
        "model.add(Dense(10,activation='sigmoid'))\n",
        "model.add(Dense(1,activation='sigmoid'))"
      ],
      "execution_count": 0,
      "outputs": []
    },
    {
      "cell_type": "code",
      "metadata": {
        "id": "iWXevrLaMWg8",
        "colab_type": "code",
        "colab": {}
      },
      "source": [
        "model.compile(optimizer='rmsprop',loss='binary_crossentropy')"
      ],
      "execution_count": 0,
      "outputs": []
    },
    {
      "cell_type": "code",
      "metadata": {
        "id": "UNoeWB9qMWYu",
        "colab_type": "code",
        "colab": {}
      },
      "source": [
        "#keras will automatically stop training the model based on a loss condition on \n",
        "#the validation data passed during the model.fit() call.\n",
        "from tensorflow.keras.callbacks import EarlyStopping\n",
        "early_stop = EarlyStopping(monitor='val_loss',mode='min',verbose=1,patience=3)\n",
        "#patience indicates the number of epochs to be done more after keras does early \n",
        "#stopping. This is done to ensure that the model is not affected \n",
        "#by some noise in the data."
      ],
      "execution_count": 0,
      "outputs": []
    },
    {
      "cell_type": "code",
      "metadata": {
        "id": "NHK2wX4TRhG3",
        "colab_type": "code",
        "outputId": "2e309e00-b1ba-4214-eebb-e51b2d1c8c1e",
        "colab": {
          "base_uri": "https://localhost:8080/",
          "height": 386
        }
      },
      "source": [
        "model.fit(X_trainsm,y_trainsm,epochs=20,validation_data=(X_testsm,y_testsm),verbose=1,callbacks=[early_stop])"
      ],
      "execution_count": 0,
      "outputs": [
        {
          "output_type": "stream",
          "text": [
            "Epoch 1/20\n",
            "12429/12429 [==============================] - 19s 2ms/step - loss: 0.0899 - val_loss: 0.0312\n",
            "Epoch 2/20\n",
            "12429/12429 [==============================] - 19s 2ms/step - loss: 0.0186 - val_loss: 0.0127\n",
            "Epoch 3/20\n",
            "12429/12429 [==============================] - 19s 2ms/step - loss: 0.0127 - val_loss: 0.0132\n",
            "Epoch 4/20\n",
            "12429/12429 [==============================] - 19s 2ms/step - loss: 0.0123 - val_loss: 0.0102\n",
            "Epoch 5/20\n",
            "12429/12429 [==============================] - 19s 2ms/step - loss: 0.0112 - val_loss: 0.0151\n",
            "Epoch 6/20\n",
            "12429/12429 [==============================] - 19s 2ms/step - loss: 0.0114 - val_loss: 0.0107\n",
            "Epoch 7/20\n",
            "12429/12429 [==============================] - 19s 2ms/step - loss: 0.0107 - val_loss: 0.0088\n",
            "Epoch 8/20\n",
            "12429/12429 [==============================] - 20s 2ms/step - loss: 0.0105 - val_loss: 0.0100\n",
            "Epoch 9/20\n",
            "12429/12429 [==============================] - 19s 2ms/step - loss: 0.0105 - val_loss: 0.0103\n",
            "Epoch 10/20\n",
            "12429/12429 [==============================] - 19s 2ms/step - loss: 0.0102 - val_loss: 0.0088\n",
            "Epoch 00010: early stopping\n"
          ],
          "name": "stdout"
        },
        {
          "output_type": "execute_result",
          "data": {
            "text/plain": [
              "<tensorflow.python.keras.callbacks.History at 0x7f7cf040d208>"
            ]
          },
          "metadata": {
            "tags": []
          },
          "execution_count": 54
        }
      ]
    },
    {
      "cell_type": "code",
      "metadata": {
        "id": "6PvsrFrJRg8A",
        "colab_type": "code",
        "outputId": "417011bd-5d66-49a5-c60e-69b1e5367559",
        "colab": {
          "base_uri": "https://localhost:8080/",
          "height": 353
        }
      },
      "source": [
        "model.history.history"
      ],
      "execution_count": 0,
      "outputs": [
        {
          "output_type": "execute_result",
          "data": {
            "text/plain": [
              "{'loss': [0.08994434773921967,\n",
              "  0.018609557300806046,\n",
              "  0.012653855606913567,\n",
              "  0.012307017110288143,\n",
              "  0.011201707646250725,\n",
              "  0.01140627358108759,\n",
              "  0.010676571168005466,\n",
              "  0.010525144636631012,\n",
              "  0.010516799986362457,\n",
              "  0.010196481831371784],\n",
              " 'val_loss': [0.03124861605465412,\n",
              "  0.012651393190026283,\n",
              "  0.013247642666101456,\n",
              "  0.010174158029258251,\n",
              "  0.01506841741502285,\n",
              "  0.010702361352741718,\n",
              "  0.0088042002171278,\n",
              "  0.010016386397182941,\n",
              "  0.010335761122405529,\n",
              "  0.008821423165500164]}"
            ]
          },
          "metadata": {
            "tags": []
          },
          "execution_count": 55
        }
      ]
    },
    {
      "cell_type": "code",
      "metadata": {
        "id": "3PJhDI86Rgy0",
        "colab_type": "code",
        "colab": {}
      },
      "source": [
        "loss_df=pd.DataFrame(model.history.history)"
      ],
      "execution_count": 0,
      "outputs": []
    },
    {
      "cell_type": "code",
      "metadata": {
        "id": "Ll66Qc_2Rgo9",
        "colab_type": "code",
        "outputId": "ea2c27b7-a974-44a8-a64a-8755cfaa1b99",
        "colab": {
          "base_uri": "https://localhost:8080/",
          "height": 282
        }
      },
      "source": [
        "loss_df.plot()"
      ],
      "execution_count": 0,
      "outputs": [
        {
          "output_type": "execute_result",
          "data": {
            "text/plain": [
              "<matplotlib.axes._subplots.AxesSubplot at 0x7f7cebc50cf8>"
            ]
          },
          "metadata": {
            "tags": []
          },
          "execution_count": 57
        },
        {
          "output_type": "display_data",
          "data": {
            "image/png": "[encoded data removed]",
            "text/plain": [
              "<Figure size 432x288 with 1 Axes>"
            ]
          },
          "metadata": {
            "tags": [],
            "needs_background": "light"
          }
        }
      ]
    },
    {
      "cell_type": "code",
      "metadata": {
        "id": "IatRCjBHVCaC",
        "colab_type": "code",
        "colab": {}
      },
      "source": [
        "pred_neural=model.predict(X_testsm)"
      ],
      "execution_count": 0,
      "outputs": []
    },
    {
      "cell_type": "code",
      "metadata": {
        "id": "bnYiUJs6MJNN",
        "colab_type": "code",
        "outputId": "888daa07-7778-4a37-c97b-03372fda6ea1",
        "colab": {
          "base_uri": "https://localhost:8080/",
          "height": 67
        }
      },
      "source": [
        "from sklearn import metrics \n",
        "print('Mean Absolute Error:',metrics.mean_absolute_error(y_testsm,pred_neural))\n",
        "print('Mean Squared Error:',metrics.mean_squared_error(y_testsm,pred_neural))\n",
        "print('Root Mean Squared Error:',np.sqrt(metrics.mean_squared_error(y_testsm,pred_neural)))"
      ],
      "execution_count": 0,
      "outputs": [
        {
          "output_type": "stream",
          "text": [
            "Mean Absolute Error: 0.004222009378266442\n",
            "Mean Squared Error: 0.0019435099816502053\n",
            "Root Mean Squared Error: 0.04408525809894057\n"
          ],
          "name": "stdout"
        }
      ]
    },
    {
      "cell_type": "code",
      "metadata": {
        "id": "BfxEKhcxL5aW",
        "colab_type": "code",
        "outputId": "e47563a3-427c-43e6-f8bd-8b92667b2ee2",
        "colab": {
          "base_uri": "https://localhost:8080/",
          "height": 312
        }
      },
      "source": [
        "from sklearn.metrics import precision_recall_curve, auc, roc_auc_score, roc_curve\n",
        "fpr, tpr, thresholds = roc_curve(y_testsm, pred_neural)\n",
        "\n",
        "roc_auc = auc(fpr,tpr)\n",
        "\n",
        "# Plot ROC\n",
        "plt.title('Receiver Operating Characteristic')\n",
        "plt.plot(fpr, tpr, 'b',label='AUC = %0.3f'% roc_auc)\n",
        "plt.legend(loc='lower right')\n",
        "plt.plot([0,1],[0,1],'r--')\n",
        "plt.xlim([-0.1,1.0])\n",
        "plt.ylim([-0.1,1.01])\n",
        "plt.ylabel('True Positive Rate')\n",
        "plt.xlabel('False Positive Rate')\n",
        "plt.show()\n",
        "roc_auc"
      ],
      "execution_count": 0,
      "outputs": [
        {
          "output_type": "display_data",
          "data": {
            "image/png": "[encoded data removed]",
            "text/plain": [
              "<Figure size 432x288 with 1 Axes>"
            ]
          },
          "metadata": {
            "tags": [],
            "needs_background": "light"
          }
        },
        {
          "output_type": "execute_result",
          "data": {
            "text/plain": [
              "0.9998446205367267"
            ]
          },
          "metadata": {
            "tags": []
          },
          "execution_count": 65
        }
      ]
    },
    {
      "cell_type": "markdown",
      "metadata": {
        "id": "b6uJ2nBkU1q2",
        "colab_type": "text"
      },
      "source": [
        "**Results and Comparison**"
      ]
    },
    {
      "cell_type": "code",
      "metadata": {
        "id": "XbeCycbpczbg",
        "colab_type": "code",
        "outputId": "cbbebcc6-1cce-4356-9457-489d7b7dcbd2",
        "colab": {
          "base_uri": "https://localhost:8080/",
          "height": 1000
        }
      },
      "source": [
        "from sklearn.metrics import confusion_matrix,classification_report\n",
        "print('Results of Logistic Regression:\\n')\n",
        "print('Confusion Matrix:\\n',confusion_matrix(y_testsm,pred_log))\n",
        "print('\\nClassification Report:\\n',classification_report(y_testsm,pred_log,digits=6))\n",
        "\n",
        "from sklearn.metrics import confusion_matrix,classification_report\n",
        "print('Results of K Nearest Neighbors Classifier:\\n')\n",
        "print('Confusion Matrix:\\n',confusion_matrix(y_testsm,pred_knn))\n",
        "print('\\nClassification Report:\\n',classification_report(y_testsm,pred_knn,digits=6))\n",
        "\n",
        "from sklearn.metrics import confusion_matrix,classification_report\n",
        "print('Results of Random Forest Classifier:\\n')\n",
        "print('Confusion Matrix:\\n',confusion_matrix(y_testsm,pred_rfc))\n",
        "print('\\nClassification Report:\\n',classification_report(y_testsm,pred_rfc,digits=6))\n",
        "\n",
        "from sklearn.metrics import confusion_matrix,classification_report\n",
        "print('Results of Naive Bayes Classifier:\\n')\n",
        "print('Confusion Matrix:\\n',confusion_matrix(y_testsm,pred_nb))\n",
        "print('\\nClassification Report:\\n',classification_report(y_testsm,pred_nb,digits=6))\n",
        "\n",
        "from sklearn import metrics \n",
        "print('Results of Deep Neural Network:\\n')\n",
        "print('Mean Absolute Error:',metrics.mean_absolute_error(y_testsm,pred_neural))\n",
        "print('Mean Squared Error:',metrics.mean_squared_error(y_testsm,pred_neural))\n",
        "print('Root Mean Squared Error:',np.sqrt(metrics.mean_squared_error(y_testsm,pred_neural)))"
      ],
      "execution_count": 0,
      "outputs": [
        {
          "output_type": "stream",
          "text": [
            "Results of Logistic Regression:\n",
            "\n",
            "Confusion Matrix:\n",
            " [[83036  2142]\n",
            " [ 6572 78694]]\n",
            "\n",
            "Classification Report:\n",
            "               precision    recall  f1-score   support\n",
            "\n",
            "           0   0.926658  0.974853  0.950145     85178\n",
            "           1   0.973502  0.922924  0.947538     85266\n",
            "\n",
            "    accuracy                       0.948875    170444\n",
            "   macro avg   0.950080  0.948888  0.948842    170444\n",
            "weighted avg   0.950092  0.948875  0.948841    170444\n",
            "\n",
            "Results of K Nearest Neighbors Classifier:\n",
            "\n",
            "Confusion Matrix:\n",
            " [[85172     6]\n",
            " [    0 85266]]\n",
            "\n",
            "Classification Report:\n",
            "               precision    recall  f1-score   support\n",
            "\n",
            "           0   1.000000  0.999930  0.999965     85178\n",
            "           1   0.999930  1.000000  0.999965     85266\n",
            "\n",
            "    accuracy                       0.999965    170444\n",
            "   macro avg   0.999965  0.999965  0.999965    170444\n",
            "weighted avg   0.999965  0.999965  0.999965    170444\n",
            "\n",
            "Results of Random Forest Classifier:\n",
            "\n",
            "Confusion Matrix:\n",
            " [[85172     6]\n",
            " [    0 85266]]\n",
            "\n",
            "Classification Report:\n",
            "               precision    recall  f1-score   support\n",
            "\n",
            "           0   1.000000  0.999930  0.999965     85178\n",
            "           1   0.999930  1.000000  0.999965     85266\n",
            "\n",
            "    accuracy                       0.999965    170444\n",
            "   macro avg   0.999965  0.999965  0.999965    170444\n",
            "weighted avg   0.999965  0.999965  0.999965    170444\n",
            "\n",
            "Results of Naive Bayes Classifier:\n",
            "\n",
            "Confusion Matrix:\n",
            " [[83045  2133]\n",
            " [12471 72795]]\n",
            "\n",
            "Classification Report:\n",
            "               precision    recall  f1-score   support\n",
            "\n",
            "           0   0.869435  0.974958  0.919178     85178\n",
            "           1   0.971533  0.853740  0.908836     85266\n",
            "\n",
            "    accuracy                       0.914318    170444\n",
            "   macro avg   0.920484  0.914349  0.914007    170444\n",
            "weighted avg   0.920510  0.914318  0.914004    170444\n",
            "\n",
            "Results of Deep Neural Network:\n",
            "\n",
            "Mean Absolute Error: 0.004222009378266442\n",
            "Mean Squared Error: 0.0019435099816502053\n",
            "Root Mean Squared Error: 0.04408525809894057\n"
          ],
          "name": "stdout"
        }
      ]
    }
  ]
}